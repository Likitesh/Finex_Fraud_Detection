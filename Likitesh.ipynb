{
 "cells": [
  {
   "cell_type": "markdown",
   "metadata": {
    "id": "72NI03c8y08-"
   },
   "source": [
    "# Finex (Credit Card Fraud Detection)\n",
    "### **Problem Statement**:\n",
    "Finex is a leading financial service provider based out of Florida, US. It offers a wide range of products and business services to customers through different channels, ranging from in-person banking and ATMs to online banking. Over the last few years, Finex has observed that a significantly large number of unauthorised transactions are being made, due to which the bank has been facing a huge revenue and profitability crisis.\n",
    "\n",
    "### **Solution**:\n",
    "Performing root cause analysis for the increasing number of frauds and building a fraud detection system using different ML techniques to identify fraudulent activities at the right time and prevent them from happening.\n",
    "\n",
    "### **Solution Approach**:\n",
    "1. Exploratory Data Analysis\n",
    "2. Preparing Data for Modeling\n",
    "3. Building the Models\n",
    "4. Selecting the best model"
   ]
  },
  {
   "cell_type": "code",
   "execution_count": 1,
   "metadata": {
    "id": "EF9Vhl5dyuWg"
   },
   "outputs": [],
   "source": [
    "# Supressing warnings\n",
    "import warnings\n",
    "warnings.filterwarnings('ignore')"
   ]
  },
  {
   "cell_type": "code",
   "execution_count": 2,
   "metadata": {
    "id": "HdPC5maQ20zC"
   },
   "outputs": [],
   "source": [
    "# Importing the required libraries\n",
    "import numpy as np\n",
    "import pandas as pd\n",
    "import matplotlib.pyplot as plt\n",
    "import seaborn as sns\n",
    "import geopy.distance\n",
    "import statsmodels.api as sm\n",
    "import imblearn"
   ]
  },
  {
   "cell_type": "code",
   "execution_count": 3,
   "metadata": {
    "id": "PANpxQ6jC3eT"
   },
   "outputs": [],
   "source": [
    "from sklearn.model_selection import train_test_split\n",
    "from sklearn.preprocessing import MinMaxScaler\n",
    "from imblearn.over_sampling import SMOTE\n",
    "from sklearn.linear_model import LogisticRegression\n",
    "from sklearn.feature_selection import RFE\n",
    "from statsmodels.stats.outliers_influence import variance_inflation_factor\n",
    "from sklearn import metrics\n",
    "from sklearn.metrics import plot_roc_curve\n",
    "from sklearn.metrics import classification_report\n",
    "from sklearn.model_selection import GridSearchCV\n",
    "from sklearn.tree import DecisionTreeClassifier\n",
    "from sklearn.tree import plot_tree\n",
    "from sklearn.ensemble import RandomForestClassifier"
   ]
  },
  {
   "cell_type": "code",
   "execution_count": 4,
   "metadata": {
    "id": "nR7OKu733ItW"
   },
   "outputs": [],
   "source": [
    "# Setting the visual preference\n",
    "plt.style.use('classic')"
   ]
  },
  {
   "cell_type": "markdown",
   "metadata": {
    "id": "AaXWxMy137is"
   },
   "source": [
    "## Task 1: Exploratory Data Analysis"
   ]
  },
  {
   "cell_type": "markdown",
   "metadata": {
    "id": "kOeHQZ5K0Hac"
   },
   "source": [
    "### Subtask 1.1: Read and inspect the data"
   ]
  },
  {
   "cell_type": "code",
   "execution_count": 5,
   "metadata": {
    "id": "PAs07bED4Ktt"
   },
   "outputs": [],
   "source": [
    "df = pd.read_csv('C:/demo/Credit_Card_Fraud/fraudTrain.csv')"
   ]
  },
  {
   "cell_type": "code",
   "execution_count": 6,
   "metadata": {
    "colab": {
     "base_uri": "https://localhost:8080/",
     "height": 517
    },
    "id": "ElUiDzY85BNa",
    "outputId": "472d1a7f-bbce-498f-e234-681cfa5dced6"
   },
   "outputs": [
    {
     "data": {
      "text/html": [
       "<div>\n",
       "<style scoped>\n",
       "    .dataframe tbody tr th:only-of-type {\n",
       "        vertical-align: middle;\n",
       "    }\n",
       "\n",
       "    .dataframe tbody tr th {\n",
       "        vertical-align: top;\n",
       "    }\n",
       "\n",
       "    .dataframe thead th {\n",
       "        text-align: right;\n",
       "    }\n",
       "</style>\n",
       "<table border=\"1\" class=\"dataframe\">\n",
       "  <thead>\n",
       "    <tr style=\"text-align: right;\">\n",
       "      <th></th>\n",
       "      <th>Unnamed: 0</th>\n",
       "      <th>trans_date_trans_time</th>\n",
       "      <th>cc_num</th>\n",
       "      <th>merchant</th>\n",
       "      <th>category</th>\n",
       "      <th>amt</th>\n",
       "      <th>first</th>\n",
       "      <th>last</th>\n",
       "      <th>gender</th>\n",
       "      <th>street</th>\n",
       "      <th>...</th>\n",
       "      <th>lat</th>\n",
       "      <th>long</th>\n",
       "      <th>city_pop</th>\n",
       "      <th>job</th>\n",
       "      <th>dob</th>\n",
       "      <th>trans_num</th>\n",
       "      <th>unix_time</th>\n",
       "      <th>merch_lat</th>\n",
       "      <th>merch_long</th>\n",
       "      <th>is_fraud</th>\n",
       "    </tr>\n",
       "  </thead>\n",
       "  <tbody>\n",
       "    <tr>\n",
       "      <td>0</td>\n",
       "      <td>0</td>\n",
       "      <td>2019-01-01 00:00:18</td>\n",
       "      <td>2703186189652095</td>\n",
       "      <td>fraud_Rippin, Kub and Mann</td>\n",
       "      <td>misc_net</td>\n",
       "      <td>4.97</td>\n",
       "      <td>Jennifer</td>\n",
       "      <td>Banks</td>\n",
       "      <td>F</td>\n",
       "      <td>561 Perry Cove</td>\n",
       "      <td>...</td>\n",
       "      <td>36.0788</td>\n",
       "      <td>-81.1781</td>\n",
       "      <td>3495</td>\n",
       "      <td>Psychologist, counselling</td>\n",
       "      <td>1988-03-09</td>\n",
       "      <td>0b242abb623afc578575680df30655b9</td>\n",
       "      <td>1325376018</td>\n",
       "      <td>36.011293</td>\n",
       "      <td>-82.048315</td>\n",
       "      <td>0</td>\n",
       "    </tr>\n",
       "    <tr>\n",
       "      <td>1</td>\n",
       "      <td>1</td>\n",
       "      <td>2019-01-01 00:00:44</td>\n",
       "      <td>630423337322</td>\n",
       "      <td>fraud_Heller, Gutmann and Zieme</td>\n",
       "      <td>grocery_pos</td>\n",
       "      <td>107.23</td>\n",
       "      <td>Stephanie</td>\n",
       "      <td>Gill</td>\n",
       "      <td>F</td>\n",
       "      <td>43039 Riley Greens Suite 393</td>\n",
       "      <td>...</td>\n",
       "      <td>48.8878</td>\n",
       "      <td>-118.2105</td>\n",
       "      <td>149</td>\n",
       "      <td>Special educational needs teacher</td>\n",
       "      <td>1978-06-21</td>\n",
       "      <td>1f76529f8574734946361c461b024d99</td>\n",
       "      <td>1325376044</td>\n",
       "      <td>49.159047</td>\n",
       "      <td>-118.186462</td>\n",
       "      <td>0</td>\n",
       "    </tr>\n",
       "    <tr>\n",
       "      <td>2</td>\n",
       "      <td>2</td>\n",
       "      <td>2019-01-01 00:00:51</td>\n",
       "      <td>38859492057661</td>\n",
       "      <td>fraud_Lind-Buckridge</td>\n",
       "      <td>entertainment</td>\n",
       "      <td>220.11</td>\n",
       "      <td>Edward</td>\n",
       "      <td>Sanchez</td>\n",
       "      <td>M</td>\n",
       "      <td>594 White Dale Suite 530</td>\n",
       "      <td>...</td>\n",
       "      <td>42.1808</td>\n",
       "      <td>-112.2620</td>\n",
       "      <td>4154</td>\n",
       "      <td>Nature conservation officer</td>\n",
       "      <td>1962-01-19</td>\n",
       "      <td>a1a22d70485983eac12b5b88dad1cf95</td>\n",
       "      <td>1325376051</td>\n",
       "      <td>43.150704</td>\n",
       "      <td>-112.154481</td>\n",
       "      <td>0</td>\n",
       "    </tr>\n",
       "    <tr>\n",
       "      <td>3</td>\n",
       "      <td>3</td>\n",
       "      <td>2019-01-01 00:01:16</td>\n",
       "      <td>3534093764340240</td>\n",
       "      <td>fraud_Kutch, Hermiston and Farrell</td>\n",
       "      <td>gas_transport</td>\n",
       "      <td>45.00</td>\n",
       "      <td>Jeremy</td>\n",
       "      <td>White</td>\n",
       "      <td>M</td>\n",
       "      <td>9443 Cynthia Court Apt. 038</td>\n",
       "      <td>...</td>\n",
       "      <td>46.2306</td>\n",
       "      <td>-112.1138</td>\n",
       "      <td>1939</td>\n",
       "      <td>Patent attorney</td>\n",
       "      <td>1967-01-12</td>\n",
       "      <td>6b849c168bdad6f867558c3793159a81</td>\n",
       "      <td>1325376076</td>\n",
       "      <td>47.034331</td>\n",
       "      <td>-112.561071</td>\n",
       "      <td>0</td>\n",
       "    </tr>\n",
       "    <tr>\n",
       "      <td>4</td>\n",
       "      <td>4</td>\n",
       "      <td>2019-01-01 00:03:06</td>\n",
       "      <td>375534208663984</td>\n",
       "      <td>fraud_Keeling-Crist</td>\n",
       "      <td>misc_pos</td>\n",
       "      <td>41.96</td>\n",
       "      <td>Tyler</td>\n",
       "      <td>Garcia</td>\n",
       "      <td>M</td>\n",
       "      <td>408 Bradley Rest</td>\n",
       "      <td>...</td>\n",
       "      <td>38.4207</td>\n",
       "      <td>-79.4629</td>\n",
       "      <td>99</td>\n",
       "      <td>Dance movement psychotherapist</td>\n",
       "      <td>1986-03-28</td>\n",
       "      <td>a41d7549acf90789359a9aa5346dcb46</td>\n",
       "      <td>1325376186</td>\n",
       "      <td>38.674999</td>\n",
       "      <td>-78.632459</td>\n",
       "      <td>0</td>\n",
       "    </tr>\n",
       "  </tbody>\n",
       "</table>\n",
       "<p>5 rows × 23 columns</p>\n",
       "</div>"
      ],
      "text/plain": [
       "   Unnamed: 0 trans_date_trans_time            cc_num  \\\n",
       "0           0   2019-01-01 00:00:18  2703186189652095   \n",
       "1           1   2019-01-01 00:00:44      630423337322   \n",
       "2           2   2019-01-01 00:00:51    38859492057661   \n",
       "3           3   2019-01-01 00:01:16  3534093764340240   \n",
       "4           4   2019-01-01 00:03:06   375534208663984   \n",
       "\n",
       "                             merchant       category     amt      first  \\\n",
       "0          fraud_Rippin, Kub and Mann       misc_net    4.97   Jennifer   \n",
       "1     fraud_Heller, Gutmann and Zieme    grocery_pos  107.23  Stephanie   \n",
       "2                fraud_Lind-Buckridge  entertainment  220.11     Edward   \n",
       "3  fraud_Kutch, Hermiston and Farrell  gas_transport   45.00     Jeremy   \n",
       "4                 fraud_Keeling-Crist       misc_pos   41.96      Tyler   \n",
       "\n",
       "      last gender                        street  ...      lat      long  \\\n",
       "0    Banks      F                561 Perry Cove  ...  36.0788  -81.1781   \n",
       "1     Gill      F  43039 Riley Greens Suite 393  ...  48.8878 -118.2105   \n",
       "2  Sanchez      M      594 White Dale Suite 530  ...  42.1808 -112.2620   \n",
       "3    White      M   9443 Cynthia Court Apt. 038  ...  46.2306 -112.1138   \n",
       "4   Garcia      M              408 Bradley Rest  ...  38.4207  -79.4629   \n",
       "\n",
       "   city_pop                                job         dob  \\\n",
       "0      3495          Psychologist, counselling  1988-03-09   \n",
       "1       149  Special educational needs teacher  1978-06-21   \n",
       "2      4154        Nature conservation officer  1962-01-19   \n",
       "3      1939                    Patent attorney  1967-01-12   \n",
       "4        99     Dance movement psychotherapist  1986-03-28   \n",
       "\n",
       "                          trans_num   unix_time  merch_lat  merch_long  \\\n",
       "0  0b242abb623afc578575680df30655b9  1325376018  36.011293  -82.048315   \n",
       "1  1f76529f8574734946361c461b024d99  1325376044  49.159047 -118.186462   \n",
       "2  a1a22d70485983eac12b5b88dad1cf95  1325376051  43.150704 -112.154481   \n",
       "3  6b849c168bdad6f867558c3793159a81  1325376076  47.034331 -112.561071   \n",
       "4  a41d7549acf90789359a9aa5346dcb46  1325376186  38.674999  -78.632459   \n",
       "\n",
       "   is_fraud  \n",
       "0         0  \n",
       "1         0  \n",
       "2         0  \n",
       "3         0  \n",
       "4         0  \n",
       "\n",
       "[5 rows x 23 columns]"
      ]
     },
     "execution_count": 6,
     "metadata": {},
     "output_type": "execute_result"
    }
   ],
   "source": [
    "df.head()"
   ]
  },
  {
   "cell_type": "code",
   "execution_count": 7,
   "metadata": {
    "colab": {
     "base_uri": "https://localhost:8080/"
    },
    "id": "-KEcS6Cu5Ff5",
    "outputId": "006a0ed8-31da-4b0d-aa48-dd8e0c6d0e65"
   },
   "outputs": [
    {
     "data": {
      "text/plain": [
       "(1296675, 23)"
      ]
     },
     "execution_count": 7,
     "metadata": {},
     "output_type": "execute_result"
    }
   ],
   "source": [
    "df.shape"
   ]
  },
  {
   "cell_type": "code",
   "execution_count": 8,
   "metadata": {
    "colab": {
     "base_uri": "https://localhost:8080/"
    },
    "id": "9DwOvOPt5Vgq",
    "outputId": "ae02b38f-98cd-4e81-efec-e66a210e7046"
   },
   "outputs": [
    {
     "name": "stdout",
     "output_type": "stream",
     "text": [
      "<class 'pandas.core.frame.DataFrame'>\n",
      "RangeIndex: 1296675 entries, 0 to 1296674\n",
      "Data columns (total 23 columns):\n",
      "Unnamed: 0               1296675 non-null int64\n",
      "trans_date_trans_time    1296675 non-null object\n",
      "cc_num                   1296675 non-null int64\n",
      "merchant                 1296675 non-null object\n",
      "category                 1296675 non-null object\n",
      "amt                      1296675 non-null float64\n",
      "first                    1296675 non-null object\n",
      "last                     1296675 non-null object\n",
      "gender                   1296675 non-null object\n",
      "street                   1296675 non-null object\n",
      "city                     1296675 non-null object\n",
      "state                    1296675 non-null object\n",
      "zip                      1296675 non-null int64\n",
      "lat                      1296675 non-null float64\n",
      "long                     1296675 non-null float64\n",
      "city_pop                 1296675 non-null int64\n",
      "job                      1296675 non-null object\n",
      "dob                      1296675 non-null object\n",
      "trans_num                1296675 non-null object\n",
      "unix_time                1296675 non-null int64\n",
      "merch_lat                1296675 non-null float64\n",
      "merch_long               1296675 non-null float64\n",
      "is_fraud                 1296675 non-null int64\n",
      "dtypes: float64(5), int64(6), object(12)\n",
      "memory usage: 227.5+ MB\n"
     ]
    }
   ],
   "source": [
    "df.info()"
   ]
  },
  {
   "cell_type": "code",
   "execution_count": 9,
   "metadata": {
    "colab": {
     "base_uri": "https://localhost:8080/"
    },
    "id": "NsDdwJCf5YOC",
    "outputId": "d787bd2f-c8e1-414a-9b7d-b77b08267ea9"
   },
   "outputs": [
    {
     "data": {
      "text/plain": [
       "Unnamed: 0               0.0\n",
       "trans_date_trans_time    0.0\n",
       "cc_num                   0.0\n",
       "merchant                 0.0\n",
       "category                 0.0\n",
       "amt                      0.0\n",
       "first                    0.0\n",
       "last                     0.0\n",
       "gender                   0.0\n",
       "street                   0.0\n",
       "city                     0.0\n",
       "state                    0.0\n",
       "zip                      0.0\n",
       "lat                      0.0\n",
       "long                     0.0\n",
       "city_pop                 0.0\n",
       "job                      0.0\n",
       "dob                      0.0\n",
       "trans_num                0.0\n",
       "unix_time                0.0\n",
       "merch_lat                0.0\n",
       "merch_long               0.0\n",
       "is_fraud                 0.0\n",
       "dtype: float64"
      ]
     },
     "execution_count": 9,
     "metadata": {},
     "output_type": "execute_result"
    }
   ],
   "source": [
    "# Missing values\n",
    "round(df.isnull().sum()/len(df.index)*100, 2)"
   ]
  },
  {
   "cell_type": "code",
   "execution_count": 10,
   "metadata": {
    "colab": {
     "base_uri": "https://localhost:8080/"
    },
    "id": "2J6ECsg6690K",
    "outputId": "d4a4e988-a3d8-4b01-840c-4fc30bb3afa7"
   },
   "outputs": [
    {
     "data": {
      "text/plain": [
       "0"
      ]
     },
     "execution_count": 10,
     "metadata": {},
     "output_type": "execute_result"
    }
   ],
   "source": [
    "# Duplicate Values\n",
    "df.duplicated().sum()"
   ]
  },
  {
   "cell_type": "code",
   "execution_count": 11,
   "metadata": {
    "colab": {
     "base_uri": "https://localhost:8080/"
    },
    "id": "_GiK038zIFYf",
    "outputId": "e02413a1-626e-467d-9cc3-767e3cff3a6a"
   },
   "outputs": [
    {
     "data": {
      "text/plain": [
       "0    0.994\n",
       "1    0.006\n",
       "Name: is_fraud, dtype: float64"
      ]
     },
     "execution_count": 11,
     "metadata": {},
     "output_type": "execute_result"
    }
   ],
   "source": [
    "df['is_fraud'].value_counts(normalize = True).round(3)"
   ]
  },
  {
   "cell_type": "markdown",
   "metadata": {
    "id": "0lXNh30UG75U"
   },
   "source": [
    "**Explanation**: The data set has 12,96,\n",
    "675 rows with 23 columns. The column 'is_fraud' is a target variable having an imbalance class, with positive class just accountinng for 0.006%. None of the columns have missing or duplicate values. Further inspecting the data for any skewness."
   ]
  },
  {
   "cell_type": "markdown",
   "metadata": {
    "id": "RxaTXqDwdWRC"
   },
   "source": [
    "### Subtask 1.2: Feature Engineering"
   ]
  },
  {
   "cell_type": "code",
   "execution_count": 12,
   "metadata": {
    "id": "Hy4lIBnxdes6"
   },
   "outputs": [],
   "source": [
    "# Extracting age from DOB\n",
    "df['dob'] = pd.to_datetime(df['dob'])\n",
    "df['yob'] = df['dob'].dt.year\n",
    "df['age'] = df['yob'].apply(lambda x: 2021-x)"
   ]
  },
  {
   "cell_type": "code",
   "execution_count": 13,
   "metadata": {
    "id": "a2Gat5FPmMhI"
   },
   "outputs": [],
   "source": [
    "# Calculating distance between merchant's location and card holder's home location\n",
    "df['distance'] = df.apply(lambda x: geopy.distance.great_circle((x['lat'], x['long']), \n",
    "                      (x['merch_lat'], x['merch_long'])).km, axis = 1)\n",
    "df['distance'] = df['distance'].astype(int)"
   ]
  },
  {
   "cell_type": "code",
   "execution_count": 14,
   "metadata": {
    "id": "wyhu18G06USt"
   },
   "outputs": [],
   "source": [
    "# Hour encoding: Normal hrs [05:00 to 21:00] vs abnormal hrs [21:00 to 5:00]\n",
    "df['trans_date_trans_time'] = pd.to_datetime(df['trans_date_trans_time'])\n",
    "df['hour_encoding'] = df['trans_date_trans_time'].dt.hour.apply(lambda x: 0 if x > 5 and x < 21 else 1)"
   ]
  },
  {
   "cell_type": "code",
   "execution_count": 15,
   "metadata": {
    "id": "rMtfQZ1KdWeQ"
   },
   "outputs": [],
   "source": [
    "# Calculating time since last transaction made\n",
    "df['time_diff'] = df.sort_values(by = 'trans_date_trans_time', ascending = False).groupby('cc_num')['unix_time'].diff(periods = -1)\n",
    "df['time_diff'] = df['time_diff'].fillna(0).astype(int)\n",
    "df = df.loc[df['time_diff']>0,:]"
   ]
  },
  {
   "cell_type": "code",
   "execution_count": 16,
   "metadata": {
    "id": "paF84PVtrRVy"
   },
   "outputs": [],
   "source": [
    "# Creating a fraud df with all fraud transactions\n",
    "fraud = df.loc[df['is_fraud'] == 1]\n",
    "fraud['value'] = fraud['merchant'].map(fraud['merchant'].value_counts())"
   ]
  },
  {
   "cell_type": "code",
   "execution_count": 17,
   "metadata": {
    "id": "T5_MMrr6v4JQ"
   },
   "outputs": [],
   "source": [
    "# Blacklisting merchants with whom there has been > 15 fraudulent transactions and encoding it as 1\n",
    "fraud_merchant = []\n",
    "fraud_merchant = fraud.loc[fraud['value'] > 15]['merchant'].unique()\n",
    "fraud_merchant = list(fraud_merchant)\n",
    "df['fraud_merchant'] = df['merchant'].map(lambda x: 1 if x in fraud_merchant else 0)"
   ]
  },
  {
   "cell_type": "markdown",
   "metadata": {
    "id": "kgJ9Dl7trrjr"
   },
   "source": [
    "**Explanation**: From the given raw data few special features are extracted to help us analyse the fraudulent activities better and also to enhance the performance of Machine Learning algorithms. "
   ]
  },
  {
   "cell_type": "markdown",
   "metadata": {
    "id": "WL8abzLuLxeE"
   },
   "source": [
    "### Subtask 1.3: Data Cleaning"
   ]
  },
  {
   "cell_type": "code",
   "execution_count": 18,
   "metadata": {
    "colab": {
     "base_uri": "https://localhost:8080/"
    },
    "id": "L4t1k57QNsMX",
    "outputId": "e5adbee0-0d9c-4871-e8f7-dcb5427273d6"
   },
   "outputs": [
    {
     "name": "stdout",
     "output_type": "stream",
     "text": [
      "<class 'pandas.core.frame.DataFrame'>\n",
      "Int64Index: 1295113 entries, 43 to 1296674\n",
      "Data columns (total 29 columns):\n",
      "Unnamed: 0               1295113 non-null int64\n",
      "trans_date_trans_time    1295113 non-null datetime64[ns]\n",
      "cc_num                   1295113 non-null int64\n",
      "merchant                 1295113 non-null object\n",
      "category                 1295113 non-null object\n",
      "amt                      1295113 non-null float64\n",
      "first                    1295113 non-null object\n",
      "last                     1295113 non-null object\n",
      "gender                   1295113 non-null object\n",
      "street                   1295113 non-null object\n",
      "city                     1295113 non-null object\n",
      "state                    1295113 non-null object\n",
      "zip                      1295113 non-null int64\n",
      "lat                      1295113 non-null float64\n",
      "long                     1295113 non-null float64\n",
      "city_pop                 1295113 non-null int64\n",
      "job                      1295113 non-null object\n",
      "dob                      1295113 non-null datetime64[ns]\n",
      "trans_num                1295113 non-null object\n",
      "unix_time                1295113 non-null int64\n",
      "merch_lat                1295113 non-null float64\n",
      "merch_long               1295113 non-null float64\n",
      "is_fraud                 1295113 non-null int64\n",
      "yob                      1295113 non-null int64\n",
      "age                      1295113 non-null int64\n",
      "distance                 1295113 non-null int32\n",
      "hour_encoding            1295113 non-null int64\n",
      "time_diff                1295113 non-null int32\n",
      "fraud_merchant           1295113 non-null int64\n",
      "dtypes: datetime64[ns](2), float64(5), int32(2), int64(10), object(10)\n",
      "memory usage: 286.5+ MB\n"
     ]
    }
   ],
   "source": [
    "# Checking the data type for each column\n",
    "df.info()"
   ]
  },
  {
   "cell_type": "code",
   "execution_count": 19,
   "metadata": {
    "colab": {
     "base_uri": "https://localhost:8080/"
    },
    "id": "GGGU3-IkL7IA",
    "outputId": "65875aeb-563b-4bfd-9134-c7afbbfda411"
   },
   "outputs": [
    {
     "data": {
      "text/plain": [
       "gas_transport     0.10\n",
       "grocery_pos       0.10\n",
       "home              0.09\n",
       "shopping_pos      0.09\n",
       "kids_pets         0.09\n",
       "shopping_net      0.08\n",
       "entertainment     0.07\n",
       "food_dining       0.07\n",
       "personal_care     0.07\n",
       "health_fitness    0.07\n",
       "misc_pos          0.06\n",
       "misc_net          0.05\n",
       "grocery_net       0.04\n",
       "travel            0.03\n",
       "Name: category, dtype: float64"
      ]
     },
     "execution_count": 19,
     "metadata": {},
     "output_type": "execute_result"
    }
   ],
   "source": [
    "df['category'].value_counts(normalize = True).round(2)"
   ]
  },
  {
   "cell_type": "code",
   "execution_count": 20,
   "metadata": {
    "colab": {
     "base_uri": "https://localhost:8080/",
     "height": 395
    },
    "id": "aAtzmUclMJta",
    "outputId": "f1c26db6-22e7-4049-c654-35f28933c4c4"
   },
   "outputs": [
    {
     "data": {
      "image/png": "[encoded data removed]",
      "text/plain": [
       "<Figure size 960x400 with 2 Axes>"
      ]
     },
     "metadata": {},
     "output_type": "display_data"
    }
   ],
   "source": [
    "plt.figure(figsize = (12,5))\n",
    "plt.subplot(121)\n",
    "sns.distplot(df['amt'], hist = False)\n",
    "plt.subplot(122)\n",
    "sns.boxplot(df['amt'])\n",
    "plt.show()"
   ]
  },
  {
   "cell_type": "code",
   "execution_count": 21,
   "metadata": {
    "colab": {
     "base_uri": "https://localhost:8080/"
    },
    "id": "TBcEIRJKMQmF",
    "outputId": "6bc93186-536e-466c-d813-f21028a62d9c"
   },
   "outputs": [
    {
     "data": {
      "text/plain": [
       "F    0.55\n",
       "M    0.45\n",
       "Name: gender, dtype: float64"
      ]
     },
     "execution_count": 21,
     "metadata": {},
     "output_type": "execute_result"
    }
   ],
   "source": [
    "df['gender'].value_counts(normalize = True).round(2)"
   ]
  },
  {
   "cell_type": "code",
   "execution_count": 22,
   "metadata": {
    "colab": {
     "base_uri": "https://localhost:8080/",
     "height": 346
    },
    "id": "SMj-riAJMh48",
    "outputId": "bd52e6c8-de41-47c5-d55b-d67961d40ad1"
   },
   "outputs": [
    {
     "data": {
      "image/png": "[encoded data removed]",
      "text/plain": [
       "<Figure size 960x400 with 2 Axes>"
      ]
     },
     "metadata": {},
     "output_type": "display_data"
    }
   ],
   "source": [
    "plt.figure(figsize = (12,5))\n",
    "plt.subplot(121)\n",
    "sns.distplot(df['city_pop'], hist = False)\n",
    "plt.subplot(122)\n",
    "sns.boxplot(df['city_pop'])\n",
    "plt.show()"
   ]
  },
  {
   "cell_type": "code",
   "execution_count": 23,
   "metadata": {
    "colab": {
     "base_uri": "https://localhost:8080/"
    },
    "id": "mr_c-EeYPkGB",
    "outputId": "29d266ab-986f-42f7-a36c-9be81aeee084"
   },
   "outputs": [
    {
     "data": {
      "text/plain": [
       "0    0.65\n",
       "1    0.35\n",
       "Name: hour_encoding, dtype: float64"
      ]
     },
     "execution_count": 23,
     "metadata": {},
     "output_type": "execute_result"
    }
   ],
   "source": [
    "df['hour_encoding'].value_counts(normalize = True).round(2)"
   ]
  },
  {
   "cell_type": "code",
   "execution_count": 24,
   "metadata": {
    "colab": {
     "base_uri": "https://localhost:8080/"
    },
    "id": "q-auJef_PwfF",
    "outputId": "2a8a7d84-8352-4c7a-9cd9-ae495da10805"
   },
   "outputs": [
    {
     "data": {
      "text/plain": [
       "0    0.71\n",
       "1    0.29\n",
       "Name: fraud_merchant, dtype: float64"
      ]
     },
     "execution_count": 24,
     "metadata": {},
     "output_type": "execute_result"
    }
   ],
   "source": [
    "df['fraud_merchant'].value_counts(normalize = True).round(2)"
   ]
  },
  {
   "cell_type": "code",
   "execution_count": 25,
   "metadata": {
    "id": "n47JYdkqv5Qz"
   },
   "outputs": [],
   "source": [
    "# Encoding gender with 1 = Male and 0 = Female\n",
    "df['gender'] = df['gender'].map(lambda x: 1 if x == 'M' else 0)"
   ]
  },
  {
   "cell_type": "code",
   "execution_count": 26,
   "metadata": {
    "id": "SdVhDZ95s89N"
   },
   "outputs": [],
   "source": [
    "# Dropping unnecessary columns\n",
    "to_drop = ['Unnamed: 0', 'trans_date_trans_time', 'cc_num', 'merchant', 'first', 'last', 'street', \n",
    "        'city', 'state', 'job', 'dob', 'trans_num', 'lat', 'long', 'merch_lat', 'merch_long', 'yob']\n",
    "train_df = df.drop(df[to_drop], axis = 1)"
   ]
  },
  {
   "cell_type": "code",
   "execution_count": 27,
   "metadata": {
    "colab": {
     "base_uri": "https://localhost:8080/"
    },
    "id": "ME4Mj7lTs9Du",
    "outputId": "4c51d981-bc6a-410b-9226-eb9a164d98b3"
   },
   "outputs": [
    {
     "name": "stdout",
     "output_type": "stream",
     "text": [
      "<class 'pandas.core.frame.DataFrame'>\n",
      "Int64Index: 1295113 entries, 43 to 1296674\n",
      "Data columns (total 12 columns):\n",
      "category          1295113 non-null object\n",
      "amt               1295113 non-null float64\n",
      "gender            1295113 non-null int64\n",
      "zip               1295113 non-null int64\n",
      "city_pop          1295113 non-null int64\n",
      "unix_time         1295113 non-null int64\n",
      "is_fraud          1295113 non-null int64\n",
      "age               1295113 non-null int64\n",
      "distance          1295113 non-null int32\n",
      "hour_encoding     1295113 non-null int64\n",
      "time_diff         1295113 non-null int32\n",
      "fraud_merchant    1295113 non-null int64\n",
      "dtypes: float64(1), int32(2), int64(8), object(1)\n",
      "memory usage: 118.6+ MB\n"
     ]
    }
   ],
   "source": [
    "train_df.info()"
   ]
  },
  {
   "cell_type": "markdown",
   "metadata": {
    "id": "6m23ZziAQsNB"
   },
   "source": [
    "**Explanation**: \n",
    "1. Almost all the data points are in correct format. Even the columns have appropriate data types. Only two features namely 'amt' and 'city_pop' have skewness/outliers. This will be treated based on model selection. \n",
    "2. Some of the columns which do not contribute much towards explanation of fraudulent transactions has been removed."
   ]
  },
  {
   "cell_type": "markdown",
   "metadata": {
    "id": "muog7sGtSZov"
   },
   "source": [
    "### Subtask 1.4: Univariate and Bivariate Analysis"
   ]
  },
  {
   "cell_type": "code",
   "execution_count": 28,
   "metadata": {
    "colab": {
     "base_uri": "https://localhost:8080/",
     "height": 281
    },
    "id": "ljwiGJLiRhmd",
    "outputId": "4550ddf0-f8c6-4256-9fc1-17283fd6582d"
   },
   "outputs": [
    {
     "data": {
      "image/png": "[encoded data removed]",
      "text/plain": [
       "<Figure size 1600x480 with 2 Axes>"
      ]
     },
     "metadata": {},
     "output_type": "display_data"
    }
   ],
   "source": [
    "# Category\n",
    "plt.figure(figsize= (20,6))\n",
    "plt.subplot(121)\n",
    "plt.title('Fraudulent Transactions')\n",
    "fraud['category'].value_counts().plot.barh(color = 'm')\n",
    "\n",
    "plt.subplot(122)\n",
    "plt.title('Genuine Transactions')\n",
    "train_df['category'].value_counts().plot.barh(color = 'c')\n",
    "plt.show()"
   ]
  },
  {
   "cell_type": "markdown",
   "metadata": {
    "id": "DtsaWoGjVnWb"
   },
   "source": [
    "The top 5 categories under fraudulent transactions are:\n",
    "1. grocery_pos\n",
    "2. shopping_net\n",
    "3. misc_net\n",
    "4. shopping_pos\n",
    "5. gas_transport"
   ]
  },
  {
   "cell_type": "code",
   "execution_count": 29,
   "metadata": {
    "colab": {
     "base_uri": "https://localhost:8080/",
     "height": 295
    },
    "id": "_9yj5RDZWW7J",
    "outputId": "c62ccd6c-aade-40b2-d2e7-6b3830eee91b"
   },
   "outputs": [
    {
     "data": {
      "image/png": "[encoded data removed]",
      "text/plain": [
       "<Figure size 640x320 with 1 Axes>"
      ]
     },
     "metadata": {},
     "output_type": "display_data"
    }
   ],
   "source": [
    "# Amount category\n",
    "amt_labels = ['<100', '100-200', '200-300', '300-400', '400-500', '500-600', '600-700', '700-800', \n",
    "              '800-900', '900-1K', '1K>']\n",
    "amt_bins = [0, 100, 200, 300, 400, 500, 600, 700, 800, 900, 1000, 20000]\n",
    "fraud['amount'] = pd.cut(fraud['amt'], bins = amt_bins, labels = amt_labels)\n",
    "\n",
    "plt.figure(figsize = (8,4))\n",
    "plt.title('Fraud_Amounts')\n",
    "sns.countplot(y = 'amount', data = fraud, palette = 'Purples')\n",
    "plt.show()"
   ]
  },
  {
   "cell_type": "markdown",
   "metadata": {
    "id": "UMaSl0Ql4JrB"
   },
   "source": [
    "The top 3 amount category of fraudulent transactions are:\n",
    "1. <100\n",
    "2. 300 to 400\n",
    "3. 900 to 1k"
   ]
  },
  {
   "cell_type": "code",
   "execution_count": 30,
   "metadata": {
    "colab": {
     "base_uri": "https://localhost:8080/",
     "height": 350
    },
    "id": "MNGPpq6Pa5qN",
    "outputId": "49e39270-e2a2-4196-835d-41d6a7c47565"
   },
   "outputs": [
    {
     "data": {
      "image/png": "[encoded data removed]",
      "text/plain": [
       "<Figure size 640x400 with 1 Axes>"
      ]
     },
     "metadata": {},
     "output_type": "display_data"
    }
   ],
   "source": [
    "# Age\n",
    "plt.figure(figsize = (8,5))\n",
    "plt.subplot(111)\n",
    "plt.title('Age')\n",
    "sns.distplot(train_df['age'], hist = False, color = 'c')\n",
    "\n",
    "plt.subplot(111)\n",
    "sns.distplot(fraud['age'], hist = False, color = 'm')\n",
    "plt.show()"
   ]
  },
  {
   "cell_type": "markdown",
   "metadata": {
    "id": "3VtyFDGH4lx0"
   },
   "source": [
    "Fraudsters are more likely to target 2 particular age groups:\n",
    "1. Early 20's [22 to 30]\n",
    "2. old age [50 to 65]"
   ]
  },
  {
   "cell_type": "code",
   "execution_count": 31,
   "metadata": {
    "colab": {
     "base_uri": "https://localhost:8080/",
     "height": 350
    },
    "id": "k5zQr6KyeifR",
    "outputId": "397c45c3-b3c9-4d5c-f4a3-9bd6d3c90b58"
   },
   "outputs": [
    {
     "data": {
      "image/png": "[encoded data removed]",
      "text/plain": [
       "<Figure size 640x400 with 1 Axes>"
      ]
     },
     "metadata": {},
     "output_type": "display_data"
    }
   ],
   "source": [
    "# Distance\n",
    "plt.figure(figsize = (8,5))\n",
    "plt.subplot(111)\n",
    "plt.title('Distance')\n",
    "sns.distplot(train_df['distance'], hist = False, color = 'c')\n",
    "\n",
    "plt.subplot(111)\n",
    "sns.distplot(fraud['distance'], hist = False, color = 'm')\n",
    "plt.show()"
   ]
  },
  {
   "cell_type": "markdown",
   "metadata": {
    "id": "_Xz6Ei7f5jR1"
   },
   "source": [
    "Distance between customer's home and purchase made over merchant's location has no impact on the fraudlent transactions. However from this we can infer that the fraudsters are localite's."
   ]
  },
  {
   "cell_type": "code",
   "execution_count": 32,
   "metadata": {
    "colab": {
     "base_uri": "https://localhost:8080/",
     "height": 351
    },
    "id": "OTIM-2Jbe-4c",
    "outputId": "88b9502d-f4f9-4ff0-af12-7e98f7e60a8d"
   },
   "outputs": [
    {
     "data": {
      "image/png": "[encoded data removed]",
      "text/plain": [
       "<Figure size 960x400 with 2 Axes>"
      ]
     },
     "metadata": {},
     "output_type": "display_data"
    }
   ],
   "source": [
    "# Hour encoding\n",
    "plt.figure(figsize= (12,5))\n",
    "plt.subplot(121)\n",
    "plt.title('Fraudulent Transactions')\n",
    "sns.countplot(fraud['hour_encoding'], palette = 'Purples')\n",
    "\n",
    "plt.subplot(122)\n",
    "plt.title('Genuine Transactions')\n",
    "sns.countplot(train_df['hour_encoding'], palette = 'Purples')\n",
    "plt.show()"
   ]
  },
  {
   "cell_type": "markdown",
   "metadata": {
    "id": "Fo-ujguV6an6"
   },
   "source": [
    "It is very evident that 90% of the fraudulent activities happen during abnormal hrs [21:00 to 5:00]."
   ]
  },
  {
   "cell_type": "markdown",
   "metadata": {
    "id": "nsSoAnIQ6wdw"
   },
   "source": [
    "## Task 2: Preparing Data for Modeling"
   ]
  },
  {
   "cell_type": "markdown",
   "metadata": {
    "id": "GSVkaytL74KT"
   },
   "source": [
    "### Subtask 2.1: Dummy variables"
   ]
  },
  {
   "cell_type": "code",
   "execution_count": 33,
   "metadata": {
    "id": "mlJ_cozD9F_1"
   },
   "outputs": [],
   "source": [
    "# Converting categorial variables\n",
    "cat = ['grocery_pos', 'shopping_net', 'misc_net', 'shopping_pos', 'gas_transport']\n",
    "train_df['category'] = train_df['category'].map(lambda x: 'other' if x not in cat else x)\n",
    "dummy = pd.get_dummies(train_df['category'])\n",
    "dummy = dummy.drop('other', axis = 1)\n",
    "train_df = pd.concat([train_df, dummy], axis = 1)\n",
    "train_df = train_df.drop('category', axis = 1)"
   ]
  },
  {
   "cell_type": "code",
   "execution_count": 34,
   "metadata": {
    "colab": {
     "base_uri": "https://localhost:8080/"
    },
    "id": "uny4n35v9wC1",
    "outputId": "0ddfa194-4f27-4738-dc62-3f6fdc6bfa6c"
   },
   "outputs": [
    {
     "name": "stdout",
     "output_type": "stream",
     "text": [
      "<class 'pandas.core.frame.DataFrame'>\n",
      "Int64Index: 1295113 entries, 43 to 1296674\n",
      "Data columns (total 16 columns):\n",
      "amt               1295113 non-null float64\n",
      "gender            1295113 non-null int64\n",
      "zip               1295113 non-null int64\n",
      "city_pop          1295113 non-null int64\n",
      "unix_time         1295113 non-null int64\n",
      "is_fraud          1295113 non-null int64\n",
      "age               1295113 non-null int64\n",
      "distance          1295113 non-null int32\n",
      "hour_encoding     1295113 non-null int64\n",
      "time_diff         1295113 non-null int32\n",
      "fraud_merchant    1295113 non-null int64\n",
      "gas_transport     1295113 non-null uint8\n",
      "grocery_pos       1295113 non-null uint8\n",
      "misc_net          1295113 non-null uint8\n",
      "shopping_net      1295113 non-null uint8\n",
      "shopping_pos      1295113 non-null uint8\n",
      "dtypes: float64(1), int32(2), int64(8), uint8(5)\n",
      "memory usage: 114.9 MB\n"
     ]
    }
   ],
   "source": [
    "train_df.info()"
   ]
  },
  {
   "cell_type": "markdown",
   "metadata": {
    "id": "PQX8cuwKG45u"
   },
   "source": [
    "**Explanation**: created dummy variables for the column 'category' and selected only those attributes in which frauds happen more frequently. "
   ]
  },
  {
   "cell_type": "markdown",
   "metadata": {
    "id": "7BWS7Zli7D4U"
   },
   "source": [
    "### Subtask 2.2: Transforming Test data"
   ]
  },
  {
   "cell_type": "code",
   "execution_count": 35,
   "metadata": {
    "id": "lLM-aCIbFtEu"
   },
   "outputs": [],
   "source": [
    "test = pd.read_csv('C:/demo/Credit_Card_Fraud/fraudTest.csv')"
   ]
  },
  {
   "cell_type": "code",
   "execution_count": 36,
   "metadata": {
    "colab": {
     "base_uri": "https://localhost:8080/",
     "height": 447
    },
    "id": "_h3nsixXJYlx",
    "outputId": "b8e8bfba-4b43-47bf-83c2-617f16af5739"
   },
   "outputs": [
    {
     "data": {
      "text/html": [
       "<div>\n",
       "<style scoped>\n",
       "    .dataframe tbody tr th:only-of-type {\n",
       "        vertical-align: middle;\n",
       "    }\n",
       "\n",
       "    .dataframe tbody tr th {\n",
       "        vertical-align: top;\n",
       "    }\n",
       "\n",
       "    .dataframe thead th {\n",
       "        text-align: right;\n",
       "    }\n",
       "</style>\n",
       "<table border=\"1\" class=\"dataframe\">\n",
       "  <thead>\n",
       "    <tr style=\"text-align: right;\">\n",
       "      <th></th>\n",
       "      <th>Unnamed: 0</th>\n",
       "      <th>trans_date_trans_time</th>\n",
       "      <th>cc_num</th>\n",
       "      <th>merchant</th>\n",
       "      <th>category</th>\n",
       "      <th>amt</th>\n",
       "      <th>first</th>\n",
       "      <th>last</th>\n",
       "      <th>gender</th>\n",
       "      <th>street</th>\n",
       "      <th>...</th>\n",
       "      <th>lat</th>\n",
       "      <th>long</th>\n",
       "      <th>city_pop</th>\n",
       "      <th>job</th>\n",
       "      <th>dob</th>\n",
       "      <th>trans_num</th>\n",
       "      <th>unix_time</th>\n",
       "      <th>merch_lat</th>\n",
       "      <th>merch_long</th>\n",
       "      <th>is_fraud</th>\n",
       "    </tr>\n",
       "  </thead>\n",
       "  <tbody>\n",
       "    <tr>\n",
       "      <td>0</td>\n",
       "      <td>0</td>\n",
       "      <td>2020-06-21 12:14:25</td>\n",
       "      <td>2291163933867244</td>\n",
       "      <td>fraud_Kirlin and Sons</td>\n",
       "      <td>personal_care</td>\n",
       "      <td>2.86</td>\n",
       "      <td>Jeff</td>\n",
       "      <td>Elliott</td>\n",
       "      <td>M</td>\n",
       "      <td>351 Darlene Green</td>\n",
       "      <td>...</td>\n",
       "      <td>33.9659</td>\n",
       "      <td>-80.9355</td>\n",
       "      <td>333497</td>\n",
       "      <td>Mechanical engineer</td>\n",
       "      <td>1968-03-19</td>\n",
       "      <td>2da90c7d74bd46a0caf3777415b3ebd3</td>\n",
       "      <td>1371816865</td>\n",
       "      <td>33.986391</td>\n",
       "      <td>-81.200714</td>\n",
       "      <td>0</td>\n",
       "    </tr>\n",
       "    <tr>\n",
       "      <td>1</td>\n",
       "      <td>1</td>\n",
       "      <td>2020-06-21 12:14:33</td>\n",
       "      <td>3573030041201292</td>\n",
       "      <td>fraud_Sporer-Keebler</td>\n",
       "      <td>personal_care</td>\n",
       "      <td>29.84</td>\n",
       "      <td>Joanne</td>\n",
       "      <td>Williams</td>\n",
       "      <td>F</td>\n",
       "      <td>3638 Marsh Union</td>\n",
       "      <td>...</td>\n",
       "      <td>40.3207</td>\n",
       "      <td>-110.4360</td>\n",
       "      <td>302</td>\n",
       "      <td>Sales professional, IT</td>\n",
       "      <td>1990-01-17</td>\n",
       "      <td>324cc204407e99f51b0d6ca0055005e7</td>\n",
       "      <td>1371816873</td>\n",
       "      <td>39.450498</td>\n",
       "      <td>-109.960431</td>\n",
       "      <td>0</td>\n",
       "    </tr>\n",
       "    <tr>\n",
       "      <td>2</td>\n",
       "      <td>2</td>\n",
       "      <td>2020-06-21 12:14:53</td>\n",
       "      <td>3598215285024754</td>\n",
       "      <td>fraud_Swaniawski, Nitzsche and Welch</td>\n",
       "      <td>health_fitness</td>\n",
       "      <td>41.28</td>\n",
       "      <td>Ashley</td>\n",
       "      <td>Lopez</td>\n",
       "      <td>F</td>\n",
       "      <td>9333 Valentine Point</td>\n",
       "      <td>...</td>\n",
       "      <td>40.6729</td>\n",
       "      <td>-73.5365</td>\n",
       "      <td>34496</td>\n",
       "      <td>Librarian, public</td>\n",
       "      <td>1970-10-21</td>\n",
       "      <td>c81755dbbbea9d5c77f094348a7579be</td>\n",
       "      <td>1371816893</td>\n",
       "      <td>40.495810</td>\n",
       "      <td>-74.196111</td>\n",
       "      <td>0</td>\n",
       "    </tr>\n",
       "    <tr>\n",
       "      <td>3</td>\n",
       "      <td>3</td>\n",
       "      <td>2020-06-21 12:15:15</td>\n",
       "      <td>3591919803438423</td>\n",
       "      <td>fraud_Haley Group</td>\n",
       "      <td>misc_pos</td>\n",
       "      <td>60.05</td>\n",
       "      <td>Brian</td>\n",
       "      <td>Williams</td>\n",
       "      <td>M</td>\n",
       "      <td>32941 Krystal Mill Apt. 552</td>\n",
       "      <td>...</td>\n",
       "      <td>28.5697</td>\n",
       "      <td>-80.8191</td>\n",
       "      <td>54767</td>\n",
       "      <td>Set designer</td>\n",
       "      <td>1987-07-25</td>\n",
       "      <td>2159175b9efe66dc301f149d3d5abf8c</td>\n",
       "      <td>1371816915</td>\n",
       "      <td>28.812398</td>\n",
       "      <td>-80.883061</td>\n",
       "      <td>0</td>\n",
       "    </tr>\n",
       "    <tr>\n",
       "      <td>4</td>\n",
       "      <td>4</td>\n",
       "      <td>2020-06-21 12:15:17</td>\n",
       "      <td>3526826139003047</td>\n",
       "      <td>fraud_Johnston-Casper</td>\n",
       "      <td>travel</td>\n",
       "      <td>3.19</td>\n",
       "      <td>Nathan</td>\n",
       "      <td>Massey</td>\n",
       "      <td>M</td>\n",
       "      <td>5783 Evan Roads Apt. 465</td>\n",
       "      <td>...</td>\n",
       "      <td>44.2529</td>\n",
       "      <td>-85.0170</td>\n",
       "      <td>1126</td>\n",
       "      <td>Furniture designer</td>\n",
       "      <td>1955-07-06</td>\n",
       "      <td>57ff021bd3f328f8738bb535c302a31b</td>\n",
       "      <td>1371816917</td>\n",
       "      <td>44.959148</td>\n",
       "      <td>-85.884734</td>\n",
       "      <td>0</td>\n",
       "    </tr>\n",
       "  </tbody>\n",
       "</table>\n",
       "<p>5 rows × 23 columns</p>\n",
       "</div>"
      ],
      "text/plain": [
       "   Unnamed: 0 trans_date_trans_time            cc_num  \\\n",
       "0           0   2020-06-21 12:14:25  2291163933867244   \n",
       "1           1   2020-06-21 12:14:33  3573030041201292   \n",
       "2           2   2020-06-21 12:14:53  3598215285024754   \n",
       "3           3   2020-06-21 12:15:15  3591919803438423   \n",
       "4           4   2020-06-21 12:15:17  3526826139003047   \n",
       "\n",
       "                               merchant        category    amt   first  \\\n",
       "0                 fraud_Kirlin and Sons   personal_care   2.86    Jeff   \n",
       "1                  fraud_Sporer-Keebler   personal_care  29.84  Joanne   \n",
       "2  fraud_Swaniawski, Nitzsche and Welch  health_fitness  41.28  Ashley   \n",
       "3                     fraud_Haley Group        misc_pos  60.05   Brian   \n",
       "4                 fraud_Johnston-Casper          travel   3.19  Nathan   \n",
       "\n",
       "       last gender                       street  ...      lat      long  \\\n",
       "0   Elliott      M            351 Darlene Green  ...  33.9659  -80.9355   \n",
       "1  Williams      F             3638 Marsh Union  ...  40.3207 -110.4360   \n",
       "2     Lopez      F         9333 Valentine Point  ...  40.6729  -73.5365   \n",
       "3  Williams      M  32941 Krystal Mill Apt. 552  ...  28.5697  -80.8191   \n",
       "4    Massey      M     5783 Evan Roads Apt. 465  ...  44.2529  -85.0170   \n",
       "\n",
       "   city_pop                     job         dob  \\\n",
       "0    333497     Mechanical engineer  1968-03-19   \n",
       "1       302  Sales professional, IT  1990-01-17   \n",
       "2     34496       Librarian, public  1970-10-21   \n",
       "3     54767            Set designer  1987-07-25   \n",
       "4      1126      Furniture designer  1955-07-06   \n",
       "\n",
       "                          trans_num   unix_time  merch_lat  merch_long  \\\n",
       "0  2da90c7d74bd46a0caf3777415b3ebd3  1371816865  33.986391  -81.200714   \n",
       "1  324cc204407e99f51b0d6ca0055005e7  1371816873  39.450498 -109.960431   \n",
       "2  c81755dbbbea9d5c77f094348a7579be  1371816893  40.495810  -74.196111   \n",
       "3  2159175b9efe66dc301f149d3d5abf8c  1371816915  28.812398  -80.883061   \n",
       "4  57ff021bd3f328f8738bb535c302a31b  1371816917  44.959148  -85.884734   \n",
       "\n",
       "   is_fraud  \n",
       "0         0  \n",
       "1         0  \n",
       "2         0  \n",
       "3         0  \n",
       "4         0  \n",
       "\n",
       "[5 rows x 23 columns]"
      ]
     },
     "execution_count": 36,
     "metadata": {},
     "output_type": "execute_result"
    }
   ],
   "source": [
    "test.head()"
   ]
  },
  {
   "cell_type": "code",
   "execution_count": 37,
   "metadata": {},
   "outputs": [
    {
     "name": "stdout",
     "output_type": "stream",
     "text": [
      "<class 'pandas.core.frame.DataFrame'>\n",
      "RangeIndex: 555719 entries, 0 to 555718\n",
      "Data columns (total 23 columns):\n",
      "Unnamed: 0               555719 non-null int64\n",
      "trans_date_trans_time    555719 non-null object\n",
      "cc_num                   555719 non-null int64\n",
      "merchant                 555719 non-null object\n",
      "category                 555719 non-null object\n",
      "amt                      555719 non-null float64\n",
      "first                    555719 non-null object\n",
      "last                     555719 non-null object\n",
      "gender                   555719 non-null object\n",
      "street                   555719 non-null object\n",
      "city                     555719 non-null object\n",
      "state                    555719 non-null object\n",
      "zip                      555719 non-null int64\n",
      "lat                      555719 non-null float64\n",
      "long                     555719 non-null float64\n",
      "city_pop                 555719 non-null int64\n",
      "job                      555719 non-null object\n",
      "dob                      555719 non-null object\n",
      "trans_num                555719 non-null object\n",
      "unix_time                555719 non-null int64\n",
      "merch_lat                555719 non-null float64\n",
      "merch_long               555719 non-null float64\n",
      "is_fraud                 555719 non-null int64\n",
      "dtypes: float64(5), int64(6), object(12)\n",
      "memory usage: 97.5+ MB\n"
     ]
    }
   ],
   "source": [
    "test.info()"
   ]
  },
  {
   "cell_type": "code",
   "execution_count": 38,
   "metadata": {
    "id": "FCF_5T3ZJhXo"
   },
   "outputs": [],
   "source": [
    "# Extracting age from DOB\n",
    "test['dob'] = pd.to_datetime(test['dob'])\n",
    "test['yob'] = test['dob'].dt.year\n",
    "test['age'] = test['yob'].apply(lambda x: 2021-x)"
   ]
  },
  {
   "cell_type": "code",
   "execution_count": 39,
   "metadata": {
    "id": "Jg4NiTS5KAWa"
   },
   "outputs": [],
   "source": [
    "# Calculating distance between merchant's location and card holder's home location\n",
    "test['distance'] = test.apply(lambda x: geopy.distance.great_circle((x['lat'], x['long']),\n",
    "                                                                (x['merch_lat'], x['merch_long'])).km, axis = 1)\n",
    "test['distance'] = test['distance'].astype(int)"
   ]
  },
  {
   "cell_type": "code",
   "execution_count": 40,
   "metadata": {
    "id": "rVa64xWLKW_H"
   },
   "outputs": [],
   "source": [
    "# Hour encoding: Normal hrs [05:00 to 21:00] vs abnormal hrs [21:00 to 5:00]\n",
    "test['trans_date_trans_time'] = pd.to_datetime(test['trans_date_trans_time'])\n",
    "test['hour_encoding'] = test['trans_date_trans_time'].dt.hour.apply(lambda x: 0 if x > 5 and x < 21 else 1)"
   ]
  },
  {
   "cell_type": "code",
   "execution_count": 41,
   "metadata": {
    "id": "Kks2NggtKvNh"
   },
   "outputs": [],
   "source": [
    "# Calculating time since last transaction made\n",
    "test['time_diff'] = test.sort_values(by = 'trans_date_trans_time', ascending = False).groupby('cc_num')['unix_time'].diff(periods = -1)\n",
    "test['time_diff'] = test['time_diff'].fillna(0).astype(int)\n",
    "test = test.loc[test['time_diff']>0,:]"
   ]
  },
  {
   "cell_type": "code",
   "execution_count": 42,
   "metadata": {
    "id": "XHLTBRb3LAL9"
   },
   "outputs": [],
   "source": [
    "# Blacklisting merchants with whom there has been > 15 fraudulent transactions and encoding it as 1\n",
    "test['fraud_merchant'] = test['merchant'].map(lambda x: 1 if x in fraud_merchant else 0)"
   ]
  },
  {
   "cell_type": "code",
   "execution_count": 43,
   "metadata": {
    "id": "DWi_ghEXLi_i"
   },
   "outputs": [],
   "source": [
    "# Encoding gender with 1 = Male and 0 = Female\n",
    "test['gender'] = test['gender'].map(lambda x: 1 if x == 'M' else 0)"
   ]
  },
  {
   "cell_type": "code",
   "execution_count": 44,
   "metadata": {
    "id": "TKYotOAoF7EE"
   },
   "outputs": [],
   "source": [
    "# Converting categorial variables\n",
    "test['category'] = test['category'].map(lambda x: 'other' if x not in cat else x)\n",
    "test_dummy = pd.get_dummies(test['category'])\n",
    "test_dummy = test_dummy.drop('other', axis = 1)\n",
    "test = pd.concat([test, test_dummy], axis = 1)\n",
    "test = test.drop('category', axis = 1)"
   ]
  },
  {
   "cell_type": "code",
   "execution_count": 45,
   "metadata": {
    "id": "OmfhAMyBM0YC"
   },
   "outputs": [],
   "source": [
    "# Dropping unnecessary columns\n",
    "test_df = test.drop(test[to_drop], axis = 1)"
   ]
  },
  {
   "cell_type": "code",
   "execution_count": 46,
   "metadata": {
    "colab": {
     "base_uri": "https://localhost:8080/"
    },
    "id": "BzS82-MyNUnq",
    "outputId": "9f447ce4-bb00-4339-a4e1-68c1d375c475"
   },
   "outputs": [
    {
     "name": "stdout",
     "output_type": "stream",
     "text": [
      "<class 'pandas.core.frame.DataFrame'>\n",
      "Int64Index: 554771 entries, 52 to 555718\n",
      "Data columns (total 16 columns):\n",
      "amt               554771 non-null float64\n",
      "gender            554771 non-null int64\n",
      "zip               554771 non-null int64\n",
      "city_pop          554771 non-null int64\n",
      "unix_time         554771 non-null int64\n",
      "is_fraud          554771 non-null int64\n",
      "age               554771 non-null int64\n",
      "distance          554771 non-null int32\n",
      "hour_encoding     554771 non-null int64\n",
      "time_diff         554771 non-null int32\n",
      "fraud_merchant    554771 non-null int64\n",
      "gas_transport     554771 non-null uint8\n",
      "grocery_pos       554771 non-null uint8\n",
      "misc_net          554771 non-null uint8\n",
      "shopping_net      554771 non-null uint8\n",
      "shopping_pos      554771 non-null uint8\n",
      "dtypes: float64(1), int32(2), int64(8), uint8(5)\n",
      "memory usage: 49.2 MB\n"
     ]
    }
   ],
   "source": [
    "test_df.info()"
   ]
  },
  {
   "cell_type": "markdown",
   "metadata": {
    "id": "RWUIF_6KN7Mm"
   },
   "source": [
    "**Explanation**: The test data has been transformed according to train data to macth similar number and type of columns."
   ]
  },
  {
   "cell_type": "markdown",
   "metadata": {
    "id": "Is4a0QrRMSLd"
   },
   "source": [
    "## Task 3: Building the Models"
   ]
  },
  {
   "cell_type": "markdown",
   "metadata": {
    "id": "GQktxWJiMi8r"
   },
   "source": [
    "### Subtask 3.1: Logestic Regression"
   ]
  },
  {
   "cell_type": "markdown",
   "metadata": {
    "id": "bainfjeQM5t2"
   },
   "source": [
    "#### Subtask 3.1.1: Outliers"
   ]
  },
  {
   "cell_type": "code",
   "execution_count": 47,
   "metadata": {
    "colab": {
     "base_uri": "https://localhost:8080/",
     "height": 872
    },
    "id": "3cGy39xmNU8m",
    "outputId": "9fb6bfb9-2eac-41fa-b8e9-5778f5949659"
   },
   "outputs": [
    {
     "data": {
      "image/png": "[encoded data removed]",
      "text/plain": [
       "<Figure size 1200x1200 with 10 Axes>"
      ]
     },
     "metadata": {},
     "output_type": "display_data"
    }
   ],
   "source": [
    "#  Plotting box plot to identify Outliers\n",
    "remove = ['shopping_pos', 'gas_transport', 'grocery_pos', 'misc_net', 'shopping_net', 'fraud_merchant']\n",
    "var = list(train_df[train_df.columns[~train_df.columns.isin(remove)]])\n",
    "\n",
    "plt.figure(figsize = (15,15))\n",
    "for x in enumerate(var):\n",
    "  plt.subplot(4,3,x[0]+1)\n",
    "  sns.boxplot(x[1], data = train_df, palette= 'Purples')\n",
    "plt.show()"
   ]
  },
  {
   "cell_type": "code",
   "execution_count": 48,
   "metadata": {
    "id": "yUYMMnogKKdn"
   },
   "outputs": [],
   "source": [
    "# Creating a data set for logestic regression model\n",
    "log = train_df"
   ]
  },
  {
   "cell_type": "code",
   "execution_count": 49,
   "metadata": {
    "colab": {
     "base_uri": "https://localhost:8080/"
    },
    "id": "i7a3Ke1AOLwg",
    "outputId": "704b0e4c-3c69-436d-94cf-5a08d522a7f3"
   },
   "outputs": [
    {
     "data": {
      "text/plain": [
       "count    1295113.00\n",
       "mean          70.33\n",
       "std          160.33\n",
       "min            1.00\n",
       "25%            9.65\n",
       "50%           47.51\n",
       "75%           83.13\n",
       "90%          136.65\n",
       "95%          196.24\n",
       "99%          545.52\n",
       "max        28948.90\n",
       "Name: amt, dtype: float64"
      ]
     },
     "execution_count": 49,
     "metadata": {},
     "output_type": "execute_result"
    }
   ],
   "source": [
    "log['amt'].describe([0.25, 0.50, 0.75, 0.90, 0.95, 0.99]).round(2)"
   ]
  },
  {
   "cell_type": "code",
   "execution_count": 50,
   "metadata": {
    "colab": {
     "base_uri": "https://localhost:8080/"
    },
    "id": "BRXQzQa-NnCf",
    "outputId": "edcbb2da-9b15-4878-9d26-8e31ca463514"
   },
   "outputs": [
    {
     "data": {
      "text/plain": [
       "0    1399\n",
       "Name: is_fraud, dtype: int64"
      ]
     },
     "execution_count": 50,
     "metadata": {},
     "output_type": "execute_result"
    }
   ],
   "source": [
    "# Ensuring we dont loose target variable (is_fraud = 1)\n",
    "log.loc[log['amt'] > 1450]['is_fraud'].value_counts()"
   ]
  },
  {
   "cell_type": "code",
   "execution_count": 51,
   "metadata": {
    "colab": {
     "base_uri": "https://localhost:8080/"
    },
    "id": "CblwEONLN5cT",
    "outputId": "38d61179-134e-472b-f19e-f68139d781ab"
   },
   "outputs": [
    {
     "data": {
      "text/plain": [
       "(1293714, 16)"
      ]
     },
     "execution_count": 51,
     "metadata": {},
     "output_type": "execute_result"
    }
   ],
   "source": [
    "# Trimming rows which have outliers\n",
    "log = log.loc[log['amt']<= 1450, :]\n",
    "log.shape"
   ]
  },
  {
   "cell_type": "code",
   "execution_count": 52,
   "metadata": {
    "colab": {
     "base_uri": "https://localhost:8080/"
    },
    "id": "e_aiFD2pRjbv",
    "outputId": "5e8e5bb5-032a-4ece-cd1e-91ede5aef8c8"
   },
   "outputs": [
    {
     "data": {
      "text/plain": [
       "count    1293714.0\n",
       "mean       88797.0\n",
       "std       301907.0\n",
       "min           23.0\n",
       "25%          743.0\n",
       "50%         2456.0\n",
       "75%        20328.0\n",
       "90%       186140.0\n",
       "95%       525713.0\n",
       "99%      1577385.0\n",
       "max      2906700.0\n",
       "Name: city_pop, dtype: float64"
      ]
     },
     "execution_count": 52,
     "metadata": {},
     "output_type": "execute_result"
    }
   ],
   "source": [
    "# City pop\n",
    "log['city_pop'].describe([0.25, 0.50, 0.75, 0.90, 0.95, 0.99]).round()"
   ]
  },
  {
   "cell_type": "code",
   "execution_count": 53,
   "metadata": {
    "id": "rvy1BIpOSpoR"
   },
   "outputs": [],
   "source": [
    "# Binning city population\n",
    "city_label = ['low_pop', 'medium_pop', 'hight_pop']\n",
    "city_bins = [0, 1500, 4000, 2906700]\n",
    "log['city_pops'] = pd.cut(log['city_pop'], labels = city_label, bins = city_bins)\n",
    "log = log.drop('city_pop', axis = 1)"
   ]
  },
  {
   "cell_type": "code",
   "execution_count": 54,
   "metadata": {
    "id": "sQ9PhwP-WFaO"
   },
   "outputs": [],
   "source": [
    "# Creating dummy variable for the column 'city_pops'\n",
    "city_dummy = pd.get_dummies(log['city_pops'], drop_first = True)\n",
    "log = pd.concat([log, city_dummy], axis = 1)\n",
    "log = log.drop('city_pops', axis = 1)"
   ]
  },
  {
   "cell_type": "code",
   "execution_count": 55,
   "metadata": {
    "colab": {
     "base_uri": "https://localhost:8080/"
    },
    "id": "Epnn_Ur7umzq",
    "outputId": "2292fe6d-e323-423c-b4e4-8a82ce5a90e3"
   },
   "outputs": [
    {
     "data": {
      "text/plain": [
       "count    1293714.0\n",
       "mean       32534.0\n",
       "std        47412.0\n",
       "min            1.0\n",
       "25%         6022.0\n",
       "50%        16589.0\n",
       "75%        40305.0\n",
       "90%        78335.0\n",
       "95%       114254.0\n",
       "99%       232676.0\n",
       "max      1341471.0\n",
       "Name: time_diff, dtype: float64"
      ]
     },
     "execution_count": 55,
     "metadata": {},
     "output_type": "execute_result"
    }
   ],
   "source": [
    "log['time_diff'].describe([0.25, 0.50, 0.75, 0.90, 0.95, 0.99]).round()"
   ]
  },
  {
   "cell_type": "code",
   "execution_count": 56,
   "metadata": {
    "id": "tTMwQcebzySB"
   },
   "outputs": [],
   "source": [
    "# Capping time_diff to 95th percentile\n",
    "log.loc[log['time_diff']> log['time_diff'].quantile(0.95), ['time_diff']] = log['time_diff'].quantile(0.95)"
   ]
  },
  {
   "cell_type": "markdown",
   "metadata": {
    "id": "DlO7ufDkASzN"
   },
   "source": [
    "**Explanation**: Logestic Regression is very sensitive to outliers, hence it is mandatory to treat outliers before proceeding with building the model."
   ]
  },
  {
   "cell_type": "markdown",
   "metadata": {
    "id": "G1L20L19CX31"
   },
   "source": [
    "#### Subtask 3.1.2: Train and Validation set"
   ]
  },
  {
   "cell_type": "code",
   "execution_count": 57,
   "metadata": {
    "colab": {
     "base_uri": "https://localhost:8080/"
    },
    "id": "wPvtLgzA_aMa",
    "outputId": "1b677698-f997-469a-fb2d-0083f1690546"
   },
   "outputs": [
    {
     "name": "stdout",
     "output_type": "stream",
     "text": [
      "(1034971, 17)\n",
      "(258743, 17)\n"
     ]
    }
   ],
   "source": [
    "df_train, df_val = train_test_split(log, train_size = 0.80, random_state = 100)\n",
    "print(df_train.shape)\n",
    "print(df_val.shape)"
   ]
  },
  {
   "cell_type": "markdown",
   "metadata": {
    "id": "I8A6iHY0Emne"
   },
   "source": [
    "#### Subtask 3.1.3: Variable Scalling"
   ]
  },
  {
   "cell_type": "code",
   "execution_count": 58,
   "metadata": {
    "colab": {
     "base_uri": "https://localhost:8080/"
    },
    "id": "yzHeQPcAEcat",
    "outputId": "8a2747f2-0d42-4497-8aef-2ca23fa90a57"
   },
   "outputs": [
    {
     "name": "stdout",
     "output_type": "stream",
     "text": [
      "<class 'pandas.core.frame.DataFrame'>\n",
      "Int64Index: 1034971 entries, 1217146 to 1107395\n",
      "Data columns (total 17 columns):\n",
      "amt               1034971 non-null float64\n",
      "gender            1034971 non-null int64\n",
      "zip               1034971 non-null int64\n",
      "unix_time         1034971 non-null int64\n",
      "is_fraud          1034971 non-null int64\n",
      "age               1034971 non-null int64\n",
      "distance          1034971 non-null int32\n",
      "hour_encoding     1034971 non-null int64\n",
      "time_diff         1034971 non-null float64\n",
      "fraud_merchant    1034971 non-null int64\n",
      "gas_transport     1034971 non-null uint8\n",
      "grocery_pos       1034971 non-null uint8\n",
      "misc_net          1034971 non-null uint8\n",
      "shopping_net      1034971 non-null uint8\n",
      "shopping_pos      1034971 non-null uint8\n",
      "medium_pop        1034971 non-null uint8\n",
      "hight_pop         1034971 non-null uint8\n",
      "dtypes: float64(2), int32(1), int64(7), uint8(7)\n",
      "memory usage: 89.8 MB\n"
     ]
    }
   ],
   "source": [
    "df_train.info()"
   ]
  },
  {
   "cell_type": "code",
   "execution_count": 59,
   "metadata": {
    "colab": {
     "base_uri": "https://localhost:8080/",
     "height": 314
    },
    "id": "A6D5auv4Hlk3",
    "outputId": "02eda048-8407-4221-9da5-b91480226f45"
   },
   "outputs": [
    {
     "data": {
      "text/html": [
       "<div>\n",
       "<style scoped>\n",
       "    .dataframe tbody tr th:only-of-type {\n",
       "        vertical-align: middle;\n",
       "    }\n",
       "\n",
       "    .dataframe tbody tr th {\n",
       "        vertical-align: top;\n",
       "    }\n",
       "\n",
       "    .dataframe thead th {\n",
       "        text-align: right;\n",
       "    }\n",
       "</style>\n",
       "<table border=\"1\" class=\"dataframe\">\n",
       "  <thead>\n",
       "    <tr style=\"text-align: right;\">\n",
       "      <th></th>\n",
       "      <th>amt</th>\n",
       "      <th>gender</th>\n",
       "      <th>zip</th>\n",
       "      <th>unix_time</th>\n",
       "      <th>is_fraud</th>\n",
       "      <th>age</th>\n",
       "      <th>distance</th>\n",
       "      <th>hour_encoding</th>\n",
       "      <th>time_diff</th>\n",
       "      <th>fraud_merchant</th>\n",
       "      <th>gas_transport</th>\n",
       "      <th>grocery_pos</th>\n",
       "      <th>misc_net</th>\n",
       "      <th>shopping_net</th>\n",
       "      <th>shopping_pos</th>\n",
       "      <th>medium_pop</th>\n",
       "      <th>hight_pop</th>\n",
       "    </tr>\n",
       "  </thead>\n",
       "  <tbody>\n",
       "    <tr>\n",
       "      <td>count</td>\n",
       "      <td>1034971.000</td>\n",
       "      <td>1034971.000</td>\n",
       "      <td>1034971.000</td>\n",
       "      <td>1034971.000</td>\n",
       "      <td>1034971.000</td>\n",
       "      <td>1034971.000</td>\n",
       "      <td>1034971.000</td>\n",
       "      <td>1034971.000</td>\n",
       "      <td>1034971.000</td>\n",
       "      <td>1034971.000</td>\n",
       "      <td>1034971.000</td>\n",
       "      <td>1034971.000</td>\n",
       "      <td>1034971.000</td>\n",
       "      <td>1034971.000</td>\n",
       "      <td>1034971.000</td>\n",
       "      <td>1034971.000</td>\n",
       "      <td>1034971.000</td>\n",
       "    </tr>\n",
       "    <tr>\n",
       "      <td>mean</td>\n",
       "      <td>0.046</td>\n",
       "      <td>0.453</td>\n",
       "      <td>0.483</td>\n",
       "      <td>0.515</td>\n",
       "      <td>0.006</td>\n",
       "      <td>0.392</td>\n",
       "      <td>0.498</td>\n",
       "      <td>0.351</td>\n",
       "      <td>0.252</td>\n",
       "      <td>0.285</td>\n",
       "      <td>0.102</td>\n",
       "      <td>0.096</td>\n",
       "      <td>0.049</td>\n",
       "      <td>0.075</td>\n",
       "      <td>0.090</td>\n",
       "      <td>0.188</td>\n",
       "      <td>0.431</td>\n",
       "    </tr>\n",
       "    <tr>\n",
       "      <td>std</td>\n",
       "      <td>0.069</td>\n",
       "      <td>0.498</td>\n",
       "      <td>0.273</td>\n",
       "      <td>0.276</td>\n",
       "      <td>0.075</td>\n",
       "      <td>0.214</td>\n",
       "      <td>0.192</td>\n",
       "      <td>0.477</td>\n",
       "      <td>0.273</td>\n",
       "      <td>0.452</td>\n",
       "      <td>0.302</td>\n",
       "      <td>0.294</td>\n",
       "      <td>0.215</td>\n",
       "      <td>0.264</td>\n",
       "      <td>0.286</td>\n",
       "      <td>0.390</td>\n",
       "      <td>0.495</td>\n",
       "    </tr>\n",
       "    <tr>\n",
       "      <td>min</td>\n",
       "      <td>0.000</td>\n",
       "      <td>0.000</td>\n",
       "      <td>0.000</td>\n",
       "      <td>0.000</td>\n",
       "      <td>0.000</td>\n",
       "      <td>0.000</td>\n",
       "      <td>0.000</td>\n",
       "      <td>0.000</td>\n",
       "      <td>0.000</td>\n",
       "      <td>0.000</td>\n",
       "      <td>0.000</td>\n",
       "      <td>0.000</td>\n",
       "      <td>0.000</td>\n",
       "      <td>0.000</td>\n",
       "      <td>0.000</td>\n",
       "      <td>0.000</td>\n",
       "      <td>0.000</td>\n",
       "    </tr>\n",
       "    <tr>\n",
       "      <td>25%</td>\n",
       "      <td>0.006</td>\n",
       "      <td>0.000</td>\n",
       "      <td>0.254</td>\n",
       "      <td>0.289</td>\n",
       "      <td>0.000</td>\n",
       "      <td>0.222</td>\n",
       "      <td>0.362</td>\n",
       "      <td>0.000</td>\n",
       "      <td>0.053</td>\n",
       "      <td>0.000</td>\n",
       "      <td>0.000</td>\n",
       "      <td>0.000</td>\n",
       "      <td>0.000</td>\n",
       "      <td>0.000</td>\n",
       "      <td>0.000</td>\n",
       "      <td>0.000</td>\n",
       "      <td>0.000</td>\n",
       "    </tr>\n",
       "    <tr>\n",
       "      <td>50%</td>\n",
       "      <td>0.032</td>\n",
       "      <td>0.000</td>\n",
       "      <td>0.476</td>\n",
       "      <td>0.515</td>\n",
       "      <td>0.000</td>\n",
       "      <td>0.370</td>\n",
       "      <td>0.513</td>\n",
       "      <td>0.000</td>\n",
       "      <td>0.145</td>\n",
       "      <td>0.000</td>\n",
       "      <td>0.000</td>\n",
       "      <td>0.000</td>\n",
       "      <td>0.000</td>\n",
       "      <td>0.000</td>\n",
       "      <td>0.000</td>\n",
       "      <td>0.000</td>\n",
       "      <td>0.000</td>\n",
       "    </tr>\n",
       "    <tr>\n",
       "      <td>75%</td>\n",
       "      <td>0.057</td>\n",
       "      <td>1.000</td>\n",
       "      <td>0.718</td>\n",
       "      <td>0.733</td>\n",
       "      <td>0.000</td>\n",
       "      <td>0.531</td>\n",
       "      <td>0.645</td>\n",
       "      <td>1.000</td>\n",
       "      <td>0.353</td>\n",
       "      <td>1.000</td>\n",
       "      <td>0.000</td>\n",
       "      <td>0.000</td>\n",
       "      <td>0.000</td>\n",
       "      <td>0.000</td>\n",
       "      <td>0.000</td>\n",
       "      <td>0.000</td>\n",
       "      <td>1.000</td>\n",
       "    </tr>\n",
       "    <tr>\n",
       "      <td>max</td>\n",
       "      <td>1.000</td>\n",
       "      <td>1.000</td>\n",
       "      <td>1.000</td>\n",
       "      <td>1.000</td>\n",
       "      <td>1.000</td>\n",
       "      <td>1.000</td>\n",
       "      <td>1.000</td>\n",
       "      <td>1.000</td>\n",
       "      <td>1.000</td>\n",
       "      <td>1.000</td>\n",
       "      <td>1.000</td>\n",
       "      <td>1.000</td>\n",
       "      <td>1.000</td>\n",
       "      <td>1.000</td>\n",
       "      <td>1.000</td>\n",
       "      <td>1.000</td>\n",
       "      <td>1.000</td>\n",
       "    </tr>\n",
       "  </tbody>\n",
       "</table>\n",
       "</div>"
      ],
      "text/plain": [
       "               amt       gender          zip    unix_time     is_fraud  \\\n",
       "count  1034971.000  1034971.000  1034971.000  1034971.000  1034971.000   \n",
       "mean         0.046        0.453        0.483        0.515        0.006   \n",
       "std          0.069        0.498        0.273        0.276        0.075   \n",
       "min          0.000        0.000        0.000        0.000        0.000   \n",
       "25%          0.006        0.000        0.254        0.289        0.000   \n",
       "50%          0.032        0.000        0.476        0.515        0.000   \n",
       "75%          0.057        1.000        0.718        0.733        0.000   \n",
       "max          1.000        1.000        1.000        1.000        1.000   \n",
       "\n",
       "               age     distance  hour_encoding    time_diff  fraud_merchant  \\\n",
       "count  1034971.000  1034971.000    1034971.000  1034971.000     1034971.000   \n",
       "mean         0.392        0.498          0.351        0.252           0.285   \n",
       "std          0.214        0.192          0.477        0.273           0.452   \n",
       "min          0.000        0.000          0.000        0.000           0.000   \n",
       "25%          0.222        0.362          0.000        0.053           0.000   \n",
       "50%          0.370        0.513          0.000        0.145           0.000   \n",
       "75%          0.531        0.645          1.000        0.353           1.000   \n",
       "max          1.000        1.000          1.000        1.000           1.000   \n",
       "\n",
       "       gas_transport  grocery_pos     misc_net  shopping_net  shopping_pos  \\\n",
       "count    1034971.000  1034971.000  1034971.000   1034971.000   1034971.000   \n",
       "mean           0.102        0.096        0.049         0.075         0.090   \n",
       "std            0.302        0.294        0.215         0.264         0.286   \n",
       "min            0.000        0.000        0.000         0.000         0.000   \n",
       "25%            0.000        0.000        0.000         0.000         0.000   \n",
       "50%            0.000        0.000        0.000         0.000         0.000   \n",
       "75%            0.000        0.000        0.000         0.000         0.000   \n",
       "max            1.000        1.000        1.000         1.000         1.000   \n",
       "\n",
       "        medium_pop    hight_pop  \n",
       "count  1034971.000  1034971.000  \n",
       "mean         0.188        0.431  \n",
       "std          0.390        0.495  \n",
       "min          0.000        0.000  \n",
       "25%          0.000        0.000  \n",
       "50%          0.000        0.000  \n",
       "75%          0.000        1.000  \n",
       "max          1.000        1.000  "
      ]
     },
     "execution_count": 59,
     "metadata": {},
     "output_type": "execute_result"
    }
   ],
   "source": [
    "# Instantiating MinMaxScaller and fit.tranforming df_train\n",
    "vars = ['amt', 'gender', 'zip', 'unix_time', 'age', 'distance', 'time_diff']\n",
    "scaler = MinMaxScaler()\n",
    "df_train[vars] = scaler.fit_transform(df_train[vars])\n",
    "df_train.describe().round(3)"
   ]
  },
  {
   "cell_type": "markdown",
   "metadata": {
    "id": "_a9k1D_7Ka4-"
   },
   "source": [
    "**Explanation**: Varibales are scaled using MinMaxScaler. Since the variables were in different unit, scaling was necessary for better interpretation of results. Also it helps in faster computation."
   ]
  },
  {
   "cell_type": "markdown",
   "metadata": {
    "id": "ErqzfLnSKFkZ"
   },
   "source": [
    "#### Subtask 3.1.4: Correlation and Heat map"
   ]
  },
  {
   "cell_type": "code",
   "execution_count": 60,
   "metadata": {
    "colab": {
     "base_uri": "https://localhost:8080/",
     "height": 590
    },
    "id": "NAReSNGhIDRg",
    "outputId": "c74a0493-e33d-41d8-cc93-ccd1c3a60bc5"
   },
   "outputs": [
    {
     "data": {
      "text/html": [
       "<div>\n",
       "<style scoped>\n",
       "    .dataframe tbody tr th:only-of-type {\n",
       "        vertical-align: middle;\n",
       "    }\n",
       "\n",
       "    .dataframe tbody tr th {\n",
       "        vertical-align: top;\n",
       "    }\n",
       "\n",
       "    .dataframe thead th {\n",
       "        text-align: right;\n",
       "    }\n",
       "</style>\n",
       "<table border=\"1\" class=\"dataframe\">\n",
       "  <thead>\n",
       "    <tr style=\"text-align: right;\">\n",
       "      <th></th>\n",
       "      <th>amt</th>\n",
       "      <th>gender</th>\n",
       "      <th>zip</th>\n",
       "      <th>unix_time</th>\n",
       "      <th>is_fraud</th>\n",
       "      <th>age</th>\n",
       "      <th>distance</th>\n",
       "      <th>hour_encoding</th>\n",
       "      <th>time_diff</th>\n",
       "      <th>fraud_merchant</th>\n",
       "      <th>gas_transport</th>\n",
       "      <th>grocery_pos</th>\n",
       "      <th>misc_net</th>\n",
       "      <th>shopping_net</th>\n",
       "      <th>shopping_pos</th>\n",
       "      <th>medium_pop</th>\n",
       "      <th>hight_pop</th>\n",
       "    </tr>\n",
       "  </thead>\n",
       "  <tbody>\n",
       "    <tr>\n",
       "      <td>amt</td>\n",
       "      <td>1.000000</td>\n",
       "      <td>0.001531</td>\n",
       "      <td>0.002639</td>\n",
       "      <td>-0.000723</td>\n",
       "      <td>0.350175</td>\n",
       "      <td>-0.014295</td>\n",
       "      <td>-0.000244</td>\n",
       "      <td>0.049604</td>\n",
       "      <td>-0.003557</td>\n",
       "      <td>0.137740</td>\n",
       "      <td>-0.012690</td>\n",
       "      <td>0.160224</td>\n",
       "      <td>0.026851</td>\n",
       "      <td>0.035200</td>\n",
       "      <td>0.007561</td>\n",
       "      <td>-0.007729</td>\n",
       "      <td>0.012035</td>\n",
       "    </tr>\n",
       "    <tr>\n",
       "      <td>gender</td>\n",
       "      <td>0.001531</td>\n",
       "      <td>1.000000</td>\n",
       "      <td>-0.065661</td>\n",
       "      <td>-0.001342</td>\n",
       "      <td>0.007177</td>\n",
       "      <td>0.004441</td>\n",
       "      <td>-0.002657</td>\n",
       "      <td>0.011602</td>\n",
       "      <td>0.065040</td>\n",
       "      <td>-0.010673</td>\n",
       "      <td>-0.002792</td>\n",
       "      <td>0.012416</td>\n",
       "      <td>-0.006965</td>\n",
       "      <td>-0.012018</td>\n",
       "      <td>-0.022240</td>\n",
       "      <td>-0.005976</td>\n",
       "      <td>0.029010</td>\n",
       "    </tr>\n",
       "    <tr>\n",
       "      <td>zip</td>\n",
       "      <td>0.002639</td>\n",
       "      <td>-0.065661</td>\n",
       "      <td>1.000000</td>\n",
       "      <td>0.000313</td>\n",
       "      <td>-0.002738</td>\n",
       "      <td>0.011660</td>\n",
       "      <td>0.006521</td>\n",
       "      <td>-0.004940</td>\n",
       "      <td>-0.007130</td>\n",
       "      <td>0.003766</td>\n",
       "      <td>-0.000036</td>\n",
       "      <td>-0.001576</td>\n",
       "      <td>0.002865</td>\n",
       "      <td>0.005911</td>\n",
       "      <td>0.000479</td>\n",
       "      <td>-0.074911</td>\n",
       "      <td>-0.023684</td>\n",
       "    </tr>\n",
       "    <tr>\n",
       "      <td>unix_time</td>\n",
       "      <td>-0.000723</td>\n",
       "      <td>-0.001342</td>\n",
       "      <td>0.000313</td>\n",
       "      <td>1.000000</td>\n",
       "      <td>-0.004500</td>\n",
       "      <td>-0.003609</td>\n",
       "      <td>-0.001083</td>\n",
       "      <td>0.001487</td>\n",
       "      <td>-0.037707</td>\n",
       "      <td>0.000178</td>\n",
       "      <td>-0.000207</td>\n",
       "      <td>0.000642</td>\n",
       "      <td>0.000381</td>\n",
       "      <td>-0.000118</td>\n",
       "      <td>0.000323</td>\n",
       "      <td>-0.001002</td>\n",
       "      <td>-0.001612</td>\n",
       "    </tr>\n",
       "    <tr>\n",
       "      <td>is_fraud</td>\n",
       "      <td>0.350175</td>\n",
       "      <td>0.007177</td>\n",
       "      <td>-0.002738</td>\n",
       "      <td>-0.004500</td>\n",
       "      <td>1.000000</td>\n",
       "      <td>0.011254</td>\n",
       "      <td>0.001445</td>\n",
       "      <td>0.083300</td>\n",
       "      <td>-0.020733</td>\n",
       "      <td>0.063933</td>\n",
       "      <td>-0.005436</td>\n",
       "      <td>0.034737</td>\n",
       "      <td>0.025190</td>\n",
       "      <td>0.044630</td>\n",
       "      <td>0.005940</td>\n",
       "      <td>-0.003082</td>\n",
       "      <td>0.001688</td>\n",
       "    </tr>\n",
       "    <tr>\n",
       "      <td>age</td>\n",
       "      <td>-0.014295</td>\n",
       "      <td>0.004441</td>\n",
       "      <td>0.011660</td>\n",
       "      <td>-0.003609</td>\n",
       "      <td>0.011254</td>\n",
       "      <td>1.000000</td>\n",
       "      <td>-0.004737</td>\n",
       "      <td>0.053362</td>\n",
       "      <td>0.113250</td>\n",
       "      <td>-0.001415</td>\n",
       "      <td>0.038058</td>\n",
       "      <td>0.017900</td>\n",
       "      <td>0.002405</td>\n",
       "      <td>-0.016540</td>\n",
       "      <td>-0.017382</td>\n",
       "      <td>-0.010994</td>\n",
       "      <td>-0.140768</td>\n",
       "    </tr>\n",
       "    <tr>\n",
       "      <td>distance</td>\n",
       "      <td>-0.000244</td>\n",
       "      <td>-0.002657</td>\n",
       "      <td>0.006521</td>\n",
       "      <td>-0.001083</td>\n",
       "      <td>0.001445</td>\n",
       "      <td>-0.004737</td>\n",
       "      <td>1.000000</td>\n",
       "      <td>0.001231</td>\n",
       "      <td>0.001218</td>\n",
       "      <td>0.001259</td>\n",
       "      <td>-0.000519</td>\n",
       "      <td>0.000787</td>\n",
       "      <td>-0.000627</td>\n",
       "      <td>0.001142</td>\n",
       "      <td>0.000371</td>\n",
       "      <td>0.000278</td>\n",
       "      <td>0.017876</td>\n",
       "    </tr>\n",
       "    <tr>\n",
       "      <td>hour_encoding</td>\n",
       "      <td>0.049604</td>\n",
       "      <td>0.011602</td>\n",
       "      <td>-0.004940</td>\n",
       "      <td>0.001487</td>\n",
       "      <td>0.083300</td>\n",
       "      <td>0.053362</td>\n",
       "      <td>0.001231</td>\n",
       "      <td>1.000000</td>\n",
       "      <td>-0.013049</td>\n",
       "      <td>0.098534</td>\n",
       "      <td>0.106427</td>\n",
       "      <td>0.102758</td>\n",
       "      <td>0.051488</td>\n",
       "      <td>0.008554</td>\n",
       "      <td>-0.001090</td>\n",
       "      <td>-0.001926</td>\n",
       "      <td>-0.007653</td>\n",
       "    </tr>\n",
       "    <tr>\n",
       "      <td>time_diff</td>\n",
       "      <td>-0.003557</td>\n",
       "      <td>0.065040</td>\n",
       "      <td>-0.007130</td>\n",
       "      <td>-0.037707</td>\n",
       "      <td>-0.020733</td>\n",
       "      <td>0.113250</td>\n",
       "      <td>0.001218</td>\n",
       "      <td>-0.013049</td>\n",
       "      <td>1.000000</td>\n",
       "      <td>0.002066</td>\n",
       "      <td>0.021651</td>\n",
       "      <td>0.019729</td>\n",
       "      <td>0.000408</td>\n",
       "      <td>-0.013630</td>\n",
       "      <td>-0.009549</td>\n",
       "      <td>0.006006</td>\n",
       "      <td>-0.000260</td>\n",
       "    </tr>\n",
       "    <tr>\n",
       "      <td>fraud_merchant</td>\n",
       "      <td>0.137740</td>\n",
       "      <td>-0.010673</td>\n",
       "      <td>0.003766</td>\n",
       "      <td>0.000178</td>\n",
       "      <td>0.063933</td>\n",
       "      <td>-0.001415</td>\n",
       "      <td>0.001259</td>\n",
       "      <td>0.098534</td>\n",
       "      <td>0.002066</td>\n",
       "      <td>1.000000</td>\n",
       "      <td>-0.123738</td>\n",
       "      <td>0.514359</td>\n",
       "      <td>0.248671</td>\n",
       "      <td>0.451516</td>\n",
       "      <td>0.259835</td>\n",
       "      <td>-0.001885</td>\n",
       "      <td>0.001640</td>\n",
       "    </tr>\n",
       "    <tr>\n",
       "      <td>gas_transport</td>\n",
       "      <td>-0.012690</td>\n",
       "      <td>-0.002792</td>\n",
       "      <td>-0.000036</td>\n",
       "      <td>-0.000207</td>\n",
       "      <td>-0.005436</td>\n",
       "      <td>0.038058</td>\n",
       "      <td>-0.000519</td>\n",
       "      <td>0.106427</td>\n",
       "      <td>0.021651</td>\n",
       "      <td>-0.123738</td>\n",
       "      <td>1.000000</td>\n",
       "      <td>-0.109319</td>\n",
       "      <td>-0.076129</td>\n",
       "      <td>-0.095963</td>\n",
       "      <td>-0.105512</td>\n",
       "      <td>0.014319</td>\n",
       "      <td>-0.061101</td>\n",
       "    </tr>\n",
       "    <tr>\n",
       "      <td>grocery_pos</td>\n",
       "      <td>0.160224</td>\n",
       "      <td>0.012416</td>\n",
       "      <td>-0.001576</td>\n",
       "      <td>0.000642</td>\n",
       "      <td>0.034737</td>\n",
       "      <td>0.017900</td>\n",
       "      <td>0.000787</td>\n",
       "      <td>0.102758</td>\n",
       "      <td>0.019729</td>\n",
       "      <td>0.514359</td>\n",
       "      <td>-0.109319</td>\n",
       "      <td>1.000000</td>\n",
       "      <td>-0.073539</td>\n",
       "      <td>-0.092698</td>\n",
       "      <td>-0.101923</td>\n",
       "      <td>-0.001881</td>\n",
       "      <td>-0.001086</td>\n",
       "    </tr>\n",
       "    <tr>\n",
       "      <td>misc_net</td>\n",
       "      <td>0.026851</td>\n",
       "      <td>-0.006965</td>\n",
       "      <td>0.002865</td>\n",
       "      <td>0.000381</td>\n",
       "      <td>0.025190</td>\n",
       "      <td>0.002405</td>\n",
       "      <td>-0.000627</td>\n",
       "      <td>0.051488</td>\n",
       "      <td>0.000408</td>\n",
       "      <td>0.248671</td>\n",
       "      <td>-0.076129</td>\n",
       "      <td>-0.073539</td>\n",
       "      <td>1.000000</td>\n",
       "      <td>-0.064554</td>\n",
       "      <td>-0.070978</td>\n",
       "      <td>0.000560</td>\n",
       "      <td>-0.011908</td>\n",
       "    </tr>\n",
       "    <tr>\n",
       "      <td>shopping_net</td>\n",
       "      <td>0.035200</td>\n",
       "      <td>-0.012018</td>\n",
       "      <td>0.005911</td>\n",
       "      <td>-0.000118</td>\n",
       "      <td>0.044630</td>\n",
       "      <td>-0.016540</td>\n",
       "      <td>0.001142</td>\n",
       "      <td>0.008554</td>\n",
       "      <td>-0.013630</td>\n",
       "      <td>0.451516</td>\n",
       "      <td>-0.095963</td>\n",
       "      <td>-0.092698</td>\n",
       "      <td>-0.064554</td>\n",
       "      <td>1.000000</td>\n",
       "      <td>-0.089470</td>\n",
       "      <td>-0.002277</td>\n",
       "      <td>-0.002271</td>\n",
       "    </tr>\n",
       "    <tr>\n",
       "      <td>shopping_pos</td>\n",
       "      <td>0.007561</td>\n",
       "      <td>-0.022240</td>\n",
       "      <td>0.000479</td>\n",
       "      <td>0.000323</td>\n",
       "      <td>0.005940</td>\n",
       "      <td>-0.017382</td>\n",
       "      <td>0.000371</td>\n",
       "      <td>-0.001090</td>\n",
       "      <td>-0.009549</td>\n",
       "      <td>0.259835</td>\n",
       "      <td>-0.105512</td>\n",
       "      <td>-0.101923</td>\n",
       "      <td>-0.070978</td>\n",
       "      <td>-0.089470</td>\n",
       "      <td>1.000000</td>\n",
       "      <td>-0.002447</td>\n",
       "      <td>0.031075</td>\n",
       "    </tr>\n",
       "    <tr>\n",
       "      <td>medium_pop</td>\n",
       "      <td>-0.007729</td>\n",
       "      <td>-0.005976</td>\n",
       "      <td>-0.074911</td>\n",
       "      <td>-0.001002</td>\n",
       "      <td>-0.003082</td>\n",
       "      <td>-0.010994</td>\n",
       "      <td>0.000278</td>\n",
       "      <td>-0.001926</td>\n",
       "      <td>0.006006</td>\n",
       "      <td>-0.001885</td>\n",
       "      <td>0.014319</td>\n",
       "      <td>-0.001881</td>\n",
       "      <td>0.000560</td>\n",
       "      <td>-0.002277</td>\n",
       "      <td>-0.002447</td>\n",
       "      <td>1.000000</td>\n",
       "      <td>-0.418586</td>\n",
       "    </tr>\n",
       "    <tr>\n",
       "      <td>hight_pop</td>\n",
       "      <td>0.012035</td>\n",
       "      <td>0.029010</td>\n",
       "      <td>-0.023684</td>\n",
       "      <td>-0.001612</td>\n",
       "      <td>0.001688</td>\n",
       "      <td>-0.140768</td>\n",
       "      <td>0.017876</td>\n",
       "      <td>-0.007653</td>\n",
       "      <td>-0.000260</td>\n",
       "      <td>0.001640</td>\n",
       "      <td>-0.061101</td>\n",
       "      <td>-0.001086</td>\n",
       "      <td>-0.011908</td>\n",
       "      <td>-0.002271</td>\n",
       "      <td>0.031075</td>\n",
       "      <td>-0.418586</td>\n",
       "      <td>1.000000</td>\n",
       "    </tr>\n",
       "  </tbody>\n",
       "</table>\n",
       "</div>"
      ],
      "text/plain": [
       "                     amt    gender       zip  unix_time  is_fraud       age  \\\n",
       "amt             1.000000  0.001531  0.002639  -0.000723  0.350175 -0.014295   \n",
       "gender          0.001531  1.000000 -0.065661  -0.001342  0.007177  0.004441   \n",
       "zip             0.002639 -0.065661  1.000000   0.000313 -0.002738  0.011660   \n",
       "unix_time      -0.000723 -0.001342  0.000313   1.000000 -0.004500 -0.003609   \n",
       "is_fraud        0.350175  0.007177 -0.002738  -0.004500  1.000000  0.011254   \n",
       "age            -0.014295  0.004441  0.011660  -0.003609  0.011254  1.000000   \n",
       "distance       -0.000244 -0.002657  0.006521  -0.001083  0.001445 -0.004737   \n",
       "hour_encoding   0.049604  0.011602 -0.004940   0.001487  0.083300  0.053362   \n",
       "time_diff      -0.003557  0.065040 -0.007130  -0.037707 -0.020733  0.113250   \n",
       "fraud_merchant  0.137740 -0.010673  0.003766   0.000178  0.063933 -0.001415   \n",
       "gas_transport  -0.012690 -0.002792 -0.000036  -0.000207 -0.005436  0.038058   \n",
       "grocery_pos     0.160224  0.012416 -0.001576   0.000642  0.034737  0.017900   \n",
       "misc_net        0.026851 -0.006965  0.002865   0.000381  0.025190  0.002405   \n",
       "shopping_net    0.035200 -0.012018  0.005911  -0.000118  0.044630 -0.016540   \n",
       "shopping_pos    0.007561 -0.022240  0.000479   0.000323  0.005940 -0.017382   \n",
       "medium_pop     -0.007729 -0.005976 -0.074911  -0.001002 -0.003082 -0.010994   \n",
       "hight_pop       0.012035  0.029010 -0.023684  -0.001612  0.001688 -0.140768   \n",
       "\n",
       "                distance  hour_encoding  time_diff  fraud_merchant  \\\n",
       "amt            -0.000244       0.049604  -0.003557        0.137740   \n",
       "gender         -0.002657       0.011602   0.065040       -0.010673   \n",
       "zip             0.006521      -0.004940  -0.007130        0.003766   \n",
       "unix_time      -0.001083       0.001487  -0.037707        0.000178   \n",
       "is_fraud        0.001445       0.083300  -0.020733        0.063933   \n",
       "age            -0.004737       0.053362   0.113250       -0.001415   \n",
       "distance        1.000000       0.001231   0.001218        0.001259   \n",
       "hour_encoding   0.001231       1.000000  -0.013049        0.098534   \n",
       "time_diff       0.001218      -0.013049   1.000000        0.002066   \n",
       "fraud_merchant  0.001259       0.098534   0.002066        1.000000   \n",
       "gas_transport  -0.000519       0.106427   0.021651       -0.123738   \n",
       "grocery_pos     0.000787       0.102758   0.019729        0.514359   \n",
       "misc_net       -0.000627       0.051488   0.000408        0.248671   \n",
       "shopping_net    0.001142       0.008554  -0.013630        0.451516   \n",
       "shopping_pos    0.000371      -0.001090  -0.009549        0.259835   \n",
       "medium_pop      0.000278      -0.001926   0.006006       -0.001885   \n",
       "hight_pop       0.017876      -0.007653  -0.000260        0.001640   \n",
       "\n",
       "                gas_transport  grocery_pos  misc_net  shopping_net  \\\n",
       "amt                 -0.012690     0.160224  0.026851      0.035200   \n",
       "gender              -0.002792     0.012416 -0.006965     -0.012018   \n",
       "zip                 -0.000036    -0.001576  0.002865      0.005911   \n",
       "unix_time           -0.000207     0.000642  0.000381     -0.000118   \n",
       "is_fraud            -0.005436     0.034737  0.025190      0.044630   \n",
       "age                  0.038058     0.017900  0.002405     -0.016540   \n",
       "distance            -0.000519     0.000787 -0.000627      0.001142   \n",
       "hour_encoding        0.106427     0.102758  0.051488      0.008554   \n",
       "time_diff            0.021651     0.019729  0.000408     -0.013630   \n",
       "fraud_merchant      -0.123738     0.514359  0.248671      0.451516   \n",
       "gas_transport        1.000000    -0.109319 -0.076129     -0.095963   \n",
       "grocery_pos         -0.109319     1.000000 -0.073539     -0.092698   \n",
       "misc_net            -0.076129    -0.073539  1.000000     -0.064554   \n",
       "shopping_net        -0.095963    -0.092698 -0.064554      1.000000   \n",
       "shopping_pos        -0.105512    -0.101923 -0.070978     -0.089470   \n",
       "medium_pop           0.014319    -0.001881  0.000560     -0.002277   \n",
       "hight_pop           -0.061101    -0.001086 -0.011908     -0.002271   \n",
       "\n",
       "                shopping_pos  medium_pop  hight_pop  \n",
       "amt                 0.007561   -0.007729   0.012035  \n",
       "gender             -0.022240   -0.005976   0.029010  \n",
       "zip                 0.000479   -0.074911  -0.023684  \n",
       "unix_time           0.000323   -0.001002  -0.001612  \n",
       "is_fraud            0.005940   -0.003082   0.001688  \n",
       "age                -0.017382   -0.010994  -0.140768  \n",
       "distance            0.000371    0.000278   0.017876  \n",
       "hour_encoding      -0.001090   -0.001926  -0.007653  \n",
       "time_diff          -0.009549    0.006006  -0.000260  \n",
       "fraud_merchant      0.259835   -0.001885   0.001640  \n",
       "gas_transport      -0.105512    0.014319  -0.061101  \n",
       "grocery_pos        -0.101923   -0.001881  -0.001086  \n",
       "misc_net           -0.070978    0.000560  -0.011908  \n",
       "shopping_net       -0.089470   -0.002277  -0.002271  \n",
       "shopping_pos        1.000000   -0.002447   0.031075  \n",
       "medium_pop         -0.002447    1.000000  -0.418586  \n",
       "hight_pop           0.031075   -0.418586   1.000000  "
      ]
     },
     "execution_count": 60,
     "metadata": {},
     "output_type": "execute_result"
    }
   ],
   "source": [
    "df_train.corr()"
   ]
  },
  {
   "cell_type": "code",
   "execution_count": 61,
   "metadata": {
    "colab": {
     "base_uri": "https://localhost:8080/",
     "height": 655
    },
    "id": "gTbPIbp4KWoU",
    "outputId": "fa5a4fff-93f1-4336-8274-a7564a39ea79"
   },
   "outputs": [
    {
     "data": {
      "image/png": "[encoded data removed]",
      "text/plain": [
       "<Figure size 1200x800 with 2 Axes>"
      ]
     },
     "metadata": {},
     "output_type": "display_data"
    }
   ],
   "source": [
    "plt.figure(figsize = (15,10))\n",
    "heat = sns.heatmap(df_train.corr(), annot = True, cmap = 'Purples')\n",
    "bottom, top = heat.get_ylim()\n",
    "heat.set_ylim(bottom+0.4, top+0)\n",
    "plt.show()"
   ]
  },
  {
   "cell_type": "markdown",
   "metadata": {
    "id": "U7Eyw8e9L_iU"
   },
   "source": [
    "**Explanation**: There are a few columns in the data set which has multicolinearity. However this variable will be removed in later stages of model building. The variable 'amt' has high correlation with the target variable."
   ]
  },
  {
   "cell_type": "markdown",
   "metadata": {
    "id": "OCC-DENmUYdb"
   },
   "source": [
    "#### Subtask 3.1.5: Class Imbalance"
   ]
  },
  {
   "cell_type": "code",
   "execution_count": 86,
   "metadata": {
    "colab": {
     "base_uri": "https://localhost:8080/"
    },
    "id": "tN6YogRNh1ZK",
    "outputId": "56e3513b-fa89-4473-fa3a-400d1c88f604"
   },
   "outputs": [
    {
     "data": {
      "text/plain": [
       "0    0.994276\n",
       "1    0.005724\n",
       "Name: is_fraud, dtype: float64"
      ]
     },
     "execution_count": 86,
     "metadata": {},
     "output_type": "execute_result"
    }
   ],
   "source": [
    "df_train['is_fraud'].value_counts(normalize = True)"
   ]
  },
  {
   "cell_type": "code",
   "execution_count": 87,
   "metadata": {
    "id": "alqLHKA4LnGS"
   },
   "outputs": [],
   "source": [
    "# Assigning X and Y\n",
    "Y = df_train['is_fraud']\n",
    "X = df_train.drop('is_fraud', axis = 1)"
   ]
  },
  {
   "cell_type": "code",
   "execution_count": 89,
   "metadata": {
    "colab": {
     "base_uri": "https://localhost:8080/"
    },
    "id": "Qo-yA-bhVrSH",
    "outputId": "3d2628a8-c7e6-4fef-a243-d8e2d87e3f25"
   },
   "outputs": [],
   "source": [
    "# Instantiating SMOTE and generating syntetic data points\n",
    "smote = SMOTE(random_state = 42, k_neighbors= 5, n_jobs = -1)\n",
    "X_train, Y_train = smote.fit_resample(X, Y)"
   ]
  },
  {
   "cell_type": "code",
   "execution_count": 90,
   "metadata": {
    "colab": {
     "base_uri": "https://localhost:8080/"
    },
    "id": "fuldKxwp6zfe",
    "outputId": "f366f2c2-be03-4d18-c93c-972fd020ae24"
   },
   "outputs": [
    {
     "name": "stdout",
     "output_type": "stream",
     "text": [
      "<class 'pandas.core.frame.DataFrame'>\n",
      "RangeIndex: 2058094 entries, 0 to 2058093\n",
      "Data columns (total 16 columns):\n",
      "amt               float64\n",
      "gender            float64\n",
      "zip               float64\n",
      "unix_time         float64\n",
      "age               float64\n",
      "distance          float64\n",
      "hour_encoding     float64\n",
      "time_diff         float64\n",
      "fraud_merchant    float64\n",
      "gas_transport     float64\n",
      "grocery_pos       float64\n",
      "misc_net          float64\n",
      "shopping_net      float64\n",
      "shopping_pos      float64\n",
      "medium_pop        float64\n",
      "hight_pop         float64\n",
      "dtypes: float64(16)\n",
      "memory usage: 251.2 MB\n",
      "None\n"
     ]
    }
   ],
   "source": [
    "# Assigning X column names back.\n",
    "X_train = pd.DataFrame(X_train, columns = X.columns)\n",
    "print(X_train.info())"
   ]
  },
  {
   "cell_type": "code",
   "execution_count": 91,
   "metadata": {
    "colab": {
     "base_uri": "https://localhost:8080/"
    },
    "id": "E161IL78V9iA",
    "outputId": "617428f0-a61c-4091-edb9-7d4b01d92f41"
   },
   "outputs": [
    {
     "name": "stdout",
     "output_type": "stream",
     "text": [
      "<class 'pandas.core.frame.DataFrame'>\n",
      "RangeIndex: 2058094 entries, 0 to 2058093\n",
      "Data columns (total 1 columns):\n",
      "is_fraud    int64\n",
      "dtypes: int64(1)\n",
      "memory usage: 15.7 MB\n",
      "None\n"
     ]
    }
   ],
   "source": [
    "# Assigning Y column name\n",
    "Y = pd.DataFrame(Y)\n",
    "Y_train = pd.DataFrame(Y_train, columns = Y.columns)\n",
    "print(Y_train.info())"
   ]
  },
  {
   "cell_type": "markdown",
   "metadata": {
    "id": "Mm95vMhl9oiM"
   },
   "source": [
    "**Explanation**: The data set had very high imbalance class of 99:1. It is mandatory to fix the imbalance ratio, so that the model can learn efficiently.Hence SMOTE method was used to generate synthetic data points to fix the imbalance class."
   ]
  },
  {
   "cell_type": "markdown",
   "metadata": {
    "id": "XkDIPpt13pxt"
   },
   "source": [
    "#### Subtask 3.1.6: Training the model"
   ]
  },
  {
   "cell_type": "code",
   "execution_count": 92,
   "metadata": {
    "id": "3DDIgWjG4uA8"
   },
   "outputs": [],
   "source": [
    "# Instantiating Logistic Regression model\n",
    "log_reg = LogisticRegression()"
   ]
  },
  {
   "cell_type": "code",
   "execution_count": 94,
   "metadata": {
    "colab": {
     "base_uri": "https://localhost:8080/"
    },
    "id": "9Md97jgB5R5v",
    "outputId": "e4f2d2e5-9396-4cdd-bad0-0da8b047584e"
   },
   "outputs": [],
   "source": [
    "# Using RFE to get top 10 features\n",
    "rfe = RFE(log_reg, 10)\n",
    "rfe_model = rfe.fit(X_train, Y_train)"
   ]
  },
  {
   "cell_type": "code",
   "execution_count": 95,
   "metadata": {
    "colab": {
     "base_uri": "https://localhost:8080/",
     "height": 539
    },
    "id": "OEQ3qFMb5nPf",
    "outputId": "2ce22970-2b33-4099-ebe2-c0f7ef95d32d"
   },
   "outputs": [
    {
     "data": {
      "text/html": [
       "<div>\n",
       "<style scoped>\n",
       "    .dataframe tbody tr th:only-of-type {\n",
       "        vertical-align: middle;\n",
       "    }\n",
       "\n",
       "    .dataframe tbody tr th {\n",
       "        vertical-align: top;\n",
       "    }\n",
       "\n",
       "    .dataframe thead th {\n",
       "        text-align: right;\n",
       "    }\n",
       "</style>\n",
       "<table border=\"1\" class=\"dataframe\">\n",
       "  <thead>\n",
       "    <tr style=\"text-align: right;\">\n",
       "      <th></th>\n",
       "      <th>0</th>\n",
       "      <th>1</th>\n",
       "    </tr>\n",
       "  </thead>\n",
       "  <tbody>\n",
       "    <tr>\n",
       "      <td>0</td>\n",
       "      <td>amt</td>\n",
       "      <td>1</td>\n",
       "    </tr>\n",
       "    <tr>\n",
       "      <td>3</td>\n",
       "      <td>unix_time</td>\n",
       "      <td>1</td>\n",
       "    </tr>\n",
       "    <tr>\n",
       "      <td>6</td>\n",
       "      <td>hour_encoding</td>\n",
       "      <td>1</td>\n",
       "    </tr>\n",
       "    <tr>\n",
       "      <td>7</td>\n",
       "      <td>time_diff</td>\n",
       "      <td>1</td>\n",
       "    </tr>\n",
       "    <tr>\n",
       "      <td>8</td>\n",
       "      <td>fraud_merchant</td>\n",
       "      <td>1</td>\n",
       "    </tr>\n",
       "    <tr>\n",
       "      <td>9</td>\n",
       "      <td>gas_transport</td>\n",
       "      <td>1</td>\n",
       "    </tr>\n",
       "    <tr>\n",
       "      <td>10</td>\n",
       "      <td>grocery_pos</td>\n",
       "      <td>1</td>\n",
       "    </tr>\n",
       "    <tr>\n",
       "      <td>11</td>\n",
       "      <td>misc_net</td>\n",
       "      <td>1</td>\n",
       "    </tr>\n",
       "    <tr>\n",
       "      <td>12</td>\n",
       "      <td>shopping_net</td>\n",
       "      <td>1</td>\n",
       "    </tr>\n",
       "    <tr>\n",
       "      <td>13</td>\n",
       "      <td>shopping_pos</td>\n",
       "      <td>1</td>\n",
       "    </tr>\n",
       "    <tr>\n",
       "      <td>5</td>\n",
       "      <td>distance</td>\n",
       "      <td>2</td>\n",
       "    </tr>\n",
       "    <tr>\n",
       "      <td>1</td>\n",
       "      <td>gender</td>\n",
       "      <td>3</td>\n",
       "    </tr>\n",
       "    <tr>\n",
       "      <td>14</td>\n",
       "      <td>medium_pop</td>\n",
       "      <td>4</td>\n",
       "    </tr>\n",
       "    <tr>\n",
       "      <td>2</td>\n",
       "      <td>zip</td>\n",
       "      <td>5</td>\n",
       "    </tr>\n",
       "    <tr>\n",
       "      <td>15</td>\n",
       "      <td>hight_pop</td>\n",
       "      <td>6</td>\n",
       "    </tr>\n",
       "    <tr>\n",
       "      <td>4</td>\n",
       "      <td>age</td>\n",
       "      <td>7</td>\n",
       "    </tr>\n",
       "  </tbody>\n",
       "</table>\n",
       "</div>"
      ],
      "text/plain": [
       "                 0  1\n",
       "0              amt  1\n",
       "3        unix_time  1\n",
       "6    hour_encoding  1\n",
       "7        time_diff  1\n",
       "8   fraud_merchant  1\n",
       "9    gas_transport  1\n",
       "10     grocery_pos  1\n",
       "11        misc_net  1\n",
       "12    shopping_net  1\n",
       "13    shopping_pos  1\n",
       "5         distance  2\n",
       "1           gender  3\n",
       "14      medium_pop  4\n",
       "2              zip  5\n",
       "15       hight_pop  6\n",
       "4              age  7"
      ]
     },
     "execution_count": 95,
     "metadata": {},
     "output_type": "execute_result"
    }
   ],
   "source": [
    "# Ranking variables based on selection\n",
    "pd.DataFrame(zip(X_train.columns, rfe_model.ranking_)).sort_values(by = 1, ascending = True)"
   ]
  },
  {
   "cell_type": "code",
   "execution_count": 96,
   "metadata": {
    "colab": {
     "base_uri": "https://localhost:8080/"
    },
    "id": "2pYfYfVV6Kmy",
    "outputId": "3d53a28d-f7be-46d5-db38-40d499a3257c"
   },
   "outputs": [
    {
     "data": {
      "text/plain": [
       "Index(['amt', 'unix_time', 'hour_encoding', 'time_diff', 'fraud_merchant',\n",
       "       'gas_transport', 'grocery_pos', 'misc_net', 'shopping_net',\n",
       "       'shopping_pos'],\n",
       "      dtype='object')"
      ]
     },
     "execution_count": 96,
     "metadata": {},
     "output_type": "execute_result"
    }
   ],
   "source": [
    "col = X_train.columns[rfe_model.support_]\n",
    "col"
   ]
  },
  {
   "cell_type": "markdown",
   "metadata": {
    "id": "JmU1Bf04Njf8"
   },
   "source": [
    "Assumptions made on the model:\n",
    "1. Assuming alpha to be 0.05 with 95% of confidence interval.\n",
    "  - H0: The variable is >= 0.05 and is insignificant in determining fraud.\n",
    "  - H1: The variable is < 0.05 and is significant in determining fraud.\n",
    "2. Assuming permitable VIF level to be <5."
   ]
  },
  {
   "cell_type": "code",
   "execution_count": 98,
   "metadata": {
    "colab": {
     "base_uri": "https://localhost:8080/"
    },
    "id": "O4_1ZP05GCh5",
    "outputId": "2f537a5d-b642-409b-ee2f-cfb00711abc3"
   },
   "outputs": [],
   "source": [
    "# Building the model using Statsmodel to optimize the model\n",
    "X_train_sm = sm.add_constant(X_train[col])\n",
    "log_model_1 = sm.GLM(Y_train, X_train_sm, families = sm.families.Binomial()).fit()"
   ]
  },
  {
   "cell_type": "code",
   "execution_count": 99,
   "metadata": {
    "colab": {
     "base_uri": "https://localhost:8080/"
    },
    "id": "pZDmRRJyINVs",
    "outputId": "ca9dee0d-f527-49c9-9627-9cdddb906406"
   },
   "outputs": [
    {
     "name": "stdout",
     "output_type": "stream",
     "text": [
      "                 Generalized Linear Model Regression Results                  \n",
      "==============================================================================\n",
      "Dep. Variable:               is_fraud   No. Observations:              2058094\n",
      "Model:                            GLM   Df Residuals:                  2058083\n",
      "Model Family:                Gaussian   Df Model:                           10\n",
      "Link Function:               identity   Scale:                         0.10427\n",
      "Method:                          IRLS   Log-Likelihood:            -5.9387e+05\n",
      "Date:                Sat, 13 Feb 2021   Deviance:                   2.1460e+05\n",
      "Time:                        06:18:16   Pearson chi2:                 2.15e+05\n",
      "No. Iterations:                     3                                         \n",
      "Covariance Type:            nonrobust                                         \n",
      "==================================================================================\n",
      "                     coef    std err          z      P>|z|      [0.025      0.975]\n",
      "----------------------------------------------------------------------------------\n",
      "const              0.0991      0.001    156.323      0.000       0.098       0.100\n",
      "amt                1.4030      0.001   1015.878      0.000       1.400       1.406\n",
      "unix_time         -0.0386      0.001    -47.954      0.000      -0.040      -0.037\n",
      "hour_encoding      0.3172      0.001    621.111      0.000       0.316       0.318\n",
      "time_diff         -0.0922      0.001   -103.620      0.000      -0.094      -0.090\n",
      "fraud_merchant     0.0339      0.001     32.243      0.000       0.032       0.036\n",
      "gas_transport      0.1198      0.001    141.164      0.000       0.118       0.121\n",
      "grocery_pos        0.1191      0.001     95.762      0.000       0.117       0.122\n",
      "misc_net          -0.1824      0.001   -141.434      0.000      -0.185      -0.180\n",
      "shopping_net      -0.3214      0.001   -234.892      0.000      -0.324      -0.319\n",
      "shopping_pos      -0.2203      0.001   -192.721      0.000      -0.223      -0.218\n",
      "==================================================================================\n"
     ]
    }
   ],
   "source": [
    "print(log_model_1.summary())"
   ]
  },
  {
   "cell_type": "code",
   "execution_count": 100,
   "metadata": {
    "colab": {
     "base_uri": "https://localhost:8080/",
     "height": 355
    },
    "id": "JAwDrP3nJBUe",
    "outputId": "2a370b02-d37a-4d71-b9bf-32bb367ba1a5"
   },
   "outputs": [
    {
     "data": {
      "text/html": [
       "<div>\n",
       "<style scoped>\n",
       "    .dataframe tbody tr th:only-of-type {\n",
       "        vertical-align: middle;\n",
       "    }\n",
       "\n",
       "    .dataframe tbody tr th {\n",
       "        vertical-align: top;\n",
       "    }\n",
       "\n",
       "    .dataframe thead th {\n",
       "        text-align: right;\n",
       "    }\n",
       "</style>\n",
       "<table border=\"1\" class=\"dataframe\">\n",
       "  <thead>\n",
       "    <tr style=\"text-align: right;\">\n",
       "      <th></th>\n",
       "      <th>Features</th>\n",
       "      <th>VIF</th>\n",
       "    </tr>\n",
       "  </thead>\n",
       "  <tbody>\n",
       "    <tr>\n",
       "      <td>4</td>\n",
       "      <td>fraud_merchant</td>\n",
       "      <td>10.37</td>\n",
       "    </tr>\n",
       "    <tr>\n",
       "      <td>8</td>\n",
       "      <td>shopping_net</td>\n",
       "      <td>5.57</td>\n",
       "    </tr>\n",
       "    <tr>\n",
       "      <td>6</td>\n",
       "      <td>grocery_pos</td>\n",
       "      <td>4.90</td>\n",
       "    </tr>\n",
       "    <tr>\n",
       "      <td>0</td>\n",
       "      <td>amt</td>\n",
       "      <td>3.94</td>\n",
       "    </tr>\n",
       "    <tr>\n",
       "      <td>7</td>\n",
       "      <td>misc_net</td>\n",
       "      <td>2.73</td>\n",
       "    </tr>\n",
       "    <tr>\n",
       "      <td>2</td>\n",
       "      <td>hour_encoding</td>\n",
       "      <td>2.71</td>\n",
       "    </tr>\n",
       "    <tr>\n",
       "      <td>9</td>\n",
       "      <td>shopping_pos</td>\n",
       "      <td>2.54</td>\n",
       "    </tr>\n",
       "    <tr>\n",
       "      <td>1</td>\n",
       "      <td>unix_time</td>\n",
       "      <td>2.44</td>\n",
       "    </tr>\n",
       "    <tr>\n",
       "      <td>3</td>\n",
       "      <td>time_diff</td>\n",
       "      <td>1.45</td>\n",
       "    </tr>\n",
       "    <tr>\n",
       "      <td>5</td>\n",
       "      <td>gas_transport</td>\n",
       "      <td>1.24</td>\n",
       "    </tr>\n",
       "  </tbody>\n",
       "</table>\n",
       "</div>"
      ],
      "text/plain": [
       "         Features    VIF\n",
       "4  fraud_merchant  10.37\n",
       "8    shopping_net   5.57\n",
       "6     grocery_pos   4.90\n",
       "0             amt   3.94\n",
       "7        misc_net   2.73\n",
       "2   hour_encoding   2.71\n",
       "9    shopping_pos   2.54\n",
       "1       unix_time   2.44\n",
       "3       time_diff   1.45\n",
       "5   gas_transport   1.24"
      ]
     },
     "execution_count": 100,
     "metadata": {},
     "output_type": "execute_result"
    }
   ],
   "source": [
    "# Checking for multicolinearity\n",
    "vif = pd.DataFrame()\n",
    "vif['Features'] = col\n",
    "vif['VIF'] = [variance_inflation_factor(X_train[col].values, x) for x in range(X_train[col].shape[1])]\n",
    "vif['VIF'] = round(vif['VIF'], 2)\n",
    "vif = vif.sort_values(by = 'VIF', ascending = False)\n",
    "vif"
   ]
  },
  {
   "cell_type": "code",
   "execution_count": 101,
   "metadata": {
    "colab": {
     "base_uri": "https://localhost:8080/"
    },
    "id": "JT5PBGI2KaET",
    "outputId": "39e4e0bc-3c7a-49ea-d920-3cfda00f92fc"
   },
   "outputs": [
    {
     "name": "stdout",
     "output_type": "stream",
     "text": [
      "                 Generalized Linear Model Regression Results                  \n",
      "==============================================================================\n",
      "Dep. Variable:               is_fraud   No. Observations:              2058094\n",
      "Model:                            GLM   Df Residuals:                  2058084\n",
      "Model Family:                Gaussian   Df Model:                            9\n",
      "Link Function:               identity   Scale:                         0.10707\n",
      "Method:                          IRLS   Log-Likelihood:            -6.2109e+05\n",
      "Date:                Sat, 13 Feb 2021   Deviance:                   2.2035e+05\n",
      "Time:                        06:19:49   Pearson chi2:                 2.20e+05\n",
      "No. Iterations:                     3                                         \n",
      "Covariance Type:            nonrobust                                         \n",
      "==================================================================================\n",
      "                     coef    std err          z      P>|z|      [0.025      0.975]\n",
      "----------------------------------------------------------------------------------\n",
      "const              0.0851      0.001    133.003      0.000       0.084       0.086\n",
      "amt                1.2703      0.001    994.765      0.000       1.268       1.273\n",
      "unix_time         -0.0388      0.001    -47.468      0.000      -0.040      -0.037\n",
      "hour_encoding      0.3218      0.001    622.221      0.000       0.321       0.323\n",
      "time_diff         -0.0939      0.001   -104.219      0.000      -0.096      -0.092\n",
      "fraud_merchant    -0.1486      0.001   -206.467      0.000      -0.150      -0.147\n",
      "gas_transport      0.1609      0.001    191.234      0.000       0.159       0.163\n",
      "grocery_pos        0.3357      0.001    397.407      0.000       0.334       0.337\n",
      "misc_net           0.0359      0.001     39.660      0.000       0.034       0.038\n",
      "shopping_pos      -0.0312      0.001    -37.973      0.000      -0.033      -0.030\n",
      "==================================================================================\n"
     ]
    }
   ],
   "source": [
    "# Dropping column 'shopping_net' and building the model again\n",
    "X_2 = X_train[col].drop('shopping_net', axis = 1)\n",
    "X_2_sm = sm.add_constant(X_2)\n",
    "log_model_2 = sm.GLM(Y_train, X_2_sm, families = sm.families.Binomial()).fit()\n",
    "print(log_model_2.summary())"
   ]
  },
  {
   "cell_type": "code",
   "execution_count": 102,
   "metadata": {
    "colab": {
     "base_uri": "https://localhost:8080/",
     "height": 325
    },
    "id": "8p-hEgoGL2E-",
    "outputId": "f63acbd7-bdac-4dac-e695-c04dcbade218"
   },
   "outputs": [
    {
     "data": {
      "text/html": [
       "<div>\n",
       "<style scoped>\n",
       "    .dataframe tbody tr th:only-of-type {\n",
       "        vertical-align: middle;\n",
       "    }\n",
       "\n",
       "    .dataframe tbody tr th {\n",
       "        vertical-align: top;\n",
       "    }\n",
       "\n",
       "    .dataframe thead th {\n",
       "        text-align: right;\n",
       "    }\n",
       "</style>\n",
       "<table border=\"1\" class=\"dataframe\">\n",
       "  <thead>\n",
       "    <tr style=\"text-align: right;\">\n",
       "      <th></th>\n",
       "      <th>Features</th>\n",
       "      <th>VIF</th>\n",
       "    </tr>\n",
       "  </thead>\n",
       "  <tbody>\n",
       "    <tr>\n",
       "      <td>4</td>\n",
       "      <td>fraud_merchant</td>\n",
       "      <td>4.66</td>\n",
       "    </tr>\n",
       "    <tr>\n",
       "      <td>0</td>\n",
       "      <td>amt</td>\n",
       "      <td>3.26</td>\n",
       "    </tr>\n",
       "    <tr>\n",
       "      <td>2</td>\n",
       "      <td>hour_encoding</td>\n",
       "      <td>2.71</td>\n",
       "    </tr>\n",
       "    <tr>\n",
       "      <td>1</td>\n",
       "      <td>unix_time</td>\n",
       "      <td>2.43</td>\n",
       "    </tr>\n",
       "    <tr>\n",
       "      <td>6</td>\n",
       "      <td>grocery_pos</td>\n",
       "      <td>2.22</td>\n",
       "    </tr>\n",
       "    <tr>\n",
       "      <td>3</td>\n",
       "      <td>time_diff</td>\n",
       "      <td>1.45</td>\n",
       "    </tr>\n",
       "    <tr>\n",
       "      <td>7</td>\n",
       "      <td>misc_net</td>\n",
       "      <td>1.32</td>\n",
       "    </tr>\n",
       "    <tr>\n",
       "      <td>8</td>\n",
       "      <td>shopping_pos</td>\n",
       "      <td>1.29</td>\n",
       "    </tr>\n",
       "    <tr>\n",
       "      <td>5</td>\n",
       "      <td>gas_transport</td>\n",
       "      <td>1.20</td>\n",
       "    </tr>\n",
       "  </tbody>\n",
       "</table>\n",
       "</div>"
      ],
      "text/plain": [
       "         Features   VIF\n",
       "4  fraud_merchant  4.66\n",
       "0             amt  3.26\n",
       "2   hour_encoding  2.71\n",
       "1       unix_time  2.43\n",
       "6     grocery_pos  2.22\n",
       "3       time_diff  1.45\n",
       "7        misc_net  1.32\n",
       "8    shopping_pos  1.29\n",
       "5   gas_transport  1.20"
      ]
     },
     "execution_count": 102,
     "metadata": {},
     "output_type": "execute_result"
    }
   ],
   "source": [
    "vif = pd.DataFrame()\n",
    "vif['Features'] = X_2.columns\n",
    "vif['VIF'] = [variance_inflation_factor(X_2.values, x) for x in range(X_2.shape[1])]\n",
    "vif['VIF'] = round(vif['VIF'], 2)\n",
    "vif = vif.sort_values(by = 'VIF', ascending = False)\n",
    "vif"
   ]
  },
  {
   "cell_type": "markdown",
   "metadata": {
    "id": "s-6M7t1HM6CE"
   },
   "source": [
    "**Explanation**: log_model_2 is the final model as the p value is < 0.05, which makes all the variables significant in determining fraudulent transactions. Also for this model the VIF score for all the variables are below the permitable range of < 5, which means that there is no multicolinearity between the independent variables. "
   ]
  },
  {
   "cell_type": "markdown",
   "metadata": {
    "id": "JX5DKgWkPqBQ"
   },
   "source": [
    "#### Subtask 3.1.7: Model Evaluation"
   ]
  },
  {
   "cell_type": "code",
   "execution_count": 103,
   "metadata": {
    "id": "X48i61zLMklP"
   },
   "outputs": [],
   "source": [
    "# Making prediction on Train data\n",
    "Y_train_pred = log_model_2.predict(X_2_sm)"
   ]
  },
  {
   "cell_type": "code",
   "execution_count": 104,
   "metadata": {
    "colab": {
     "base_uri": "https://localhost:8080/",
     "height": 202
    },
    "id": "hC0DiAbIUDcG",
    "outputId": "1a73de31-f83e-4f58-fa31-e22c3bed8b4d"
   },
   "outputs": [
    {
     "data": {
      "text/html": [
       "<div>\n",
       "<style scoped>\n",
       "    .dataframe tbody tr th:only-of-type {\n",
       "        vertical-align: middle;\n",
       "    }\n",
       "\n",
       "    .dataframe tbody tr th {\n",
       "        vertical-align: top;\n",
       "    }\n",
       "\n",
       "    .dataframe thead th {\n",
       "        text-align: right;\n",
       "    }\n",
       "</style>\n",
       "<table border=\"1\" class=\"dataframe\">\n",
       "  <thead>\n",
       "    <tr style=\"text-align: right;\">\n",
       "      <th></th>\n",
       "      <th>Actual</th>\n",
       "      <th>Pred</th>\n",
       "      <th>0.0</th>\n",
       "      <th>0.1</th>\n",
       "      <th>0.2</th>\n",
       "      <th>0.3</th>\n",
       "      <th>0.4</th>\n",
       "      <th>0.5</th>\n",
       "      <th>0.6</th>\n",
       "      <th>0.7</th>\n",
       "      <th>0.8</th>\n",
       "      <th>0.9</th>\n",
       "    </tr>\n",
       "  </thead>\n",
       "  <tbody>\n",
       "    <tr>\n",
       "      <td>0</td>\n",
       "      <td>0</td>\n",
       "      <td>0.057675</td>\n",
       "      <td>1</td>\n",
       "      <td>0</td>\n",
       "      <td>0</td>\n",
       "      <td>0</td>\n",
       "      <td>0</td>\n",
       "      <td>0</td>\n",
       "      <td>0</td>\n",
       "      <td>0</td>\n",
       "      <td>0</td>\n",
       "      <td>0</td>\n",
       "    </tr>\n",
       "    <tr>\n",
       "      <td>1</td>\n",
       "      <td>0</td>\n",
       "      <td>0.057945</td>\n",
       "      <td>1</td>\n",
       "      <td>0</td>\n",
       "      <td>0</td>\n",
       "      <td>0</td>\n",
       "      <td>0</td>\n",
       "      <td>0</td>\n",
       "      <td>0</td>\n",
       "      <td>0</td>\n",
       "      <td>0</td>\n",
       "      <td>0</td>\n",
       "    </tr>\n",
       "    <tr>\n",
       "      <td>2</td>\n",
       "      <td>0</td>\n",
       "      <td>0.134614</td>\n",
       "      <td>1</td>\n",
       "      <td>1</td>\n",
       "      <td>0</td>\n",
       "      <td>0</td>\n",
       "      <td>0</td>\n",
       "      <td>0</td>\n",
       "      <td>0</td>\n",
       "      <td>0</td>\n",
       "      <td>0</td>\n",
       "      <td>0</td>\n",
       "    </tr>\n",
       "    <tr>\n",
       "      <td>3</td>\n",
       "      <td>0</td>\n",
       "      <td>0.045300</td>\n",
       "      <td>1</td>\n",
       "      <td>0</td>\n",
       "      <td>0</td>\n",
       "      <td>0</td>\n",
       "      <td>0</td>\n",
       "      <td>0</td>\n",
       "      <td>0</td>\n",
       "      <td>0</td>\n",
       "      <td>0</td>\n",
       "      <td>0</td>\n",
       "    </tr>\n",
       "    <tr>\n",
       "      <td>4</td>\n",
       "      <td>0</td>\n",
       "      <td>0.118429</td>\n",
       "      <td>1</td>\n",
       "      <td>1</td>\n",
       "      <td>0</td>\n",
       "      <td>0</td>\n",
       "      <td>0</td>\n",
       "      <td>0</td>\n",
       "      <td>0</td>\n",
       "      <td>0</td>\n",
       "      <td>0</td>\n",
       "      <td>0</td>\n",
       "    </tr>\n",
       "  </tbody>\n",
       "</table>\n",
       "</div>"
      ],
      "text/plain": [
       "   Actual      Pred  0.0  0.1  0.2  0.3  0.4  0.5  0.6  0.7  0.8  0.9\n",
       "0       0  0.057675    1    0    0    0    0    0    0    0    0    0\n",
       "1       0  0.057945    1    0    0    0    0    0    0    0    0    0\n",
       "2       0  0.134614    1    1    0    0    0    0    0    0    0    0\n",
       "3       0  0.045300    1    0    0    0    0    0    0    0    0    0\n",
       "4       0  0.118429    1    1    0    0    0    0    0    0    0    0"
      ]
     },
     "execution_count": 104,
     "metadata": {},
     "output_type": "execute_result"
    }
   ],
   "source": [
    "# conversions at different probability scores\n",
    "cutoff = pd.DataFrame()\n",
    "cutoff['Actual'] = Y_train.values.flatten()\n",
    "cutoff['Pred'] = Y_train_pred.values\n",
    "num = [float(x/10) for x in range(10)]\n",
    "for x in num:\n",
    "  cutoff[x] = cutoff['Pred'].map(lambda i: 1 if i > x else 0)\n",
    "cutoff.head()"
   ]
  },
  {
   "cell_type": "code",
   "execution_count": 105,
   "metadata": {
    "id": "P00bqRkoabtZ"
   },
   "outputs": [],
   "source": [
    "# Calculating various measures.\n",
    "measures = pd.DataFrame(columns = ['Prob', 'Accuracy', 'Sensitivity', 'FPR', 'Specificity', 'FNR'])\n",
    "for x in num: \n",
    "  metrix = metrics.confusion_matrix(cutoff['Actual'], cutoff[x])\n",
    "  total = sum(sum(metrix))\n",
    "  Accuracy = (metrix[0,0]+metrix[1,1])/total\n",
    "  Sensitivity = metrix[1,1]/(metrix[1,1]+metrix[1,0])\n",
    "  FPR = metrix[0,1]/(metrix[0,1]+metrix[0,0])\n",
    "  Specificity = metrix[0,0]/(metrix[0,0]+metrix[0,1])\n",
    "  FNR = metrix[1,0]/(metrix[1,0]+metrix[1,1])\n",
    "  measures.loc[x] = [x, Accuracy, Sensitivity, FPR, Specificity, FNR]"
   ]
  },
  {
   "cell_type": "code",
   "execution_count": 106,
   "metadata": {
    "colab": {
     "base_uri": "https://localhost:8080/",
     "height": 355
    },
    "id": "P38dmVG8iut_",
    "outputId": "775c2ed9-299d-45d9-dfc1-2baf868f7434"
   },
   "outputs": [
    {
     "data": {
      "text/html": [
       "<div>\n",
       "<style scoped>\n",
       "    .dataframe tbody tr th:only-of-type {\n",
       "        vertical-align: middle;\n",
       "    }\n",
       "\n",
       "    .dataframe tbody tr th {\n",
       "        vertical-align: top;\n",
       "    }\n",
       "\n",
       "    .dataframe thead th {\n",
       "        text-align: right;\n",
       "    }\n",
       "</style>\n",
       "<table border=\"1\" class=\"dataframe\">\n",
       "  <thead>\n",
       "    <tr style=\"text-align: right;\">\n",
       "      <th></th>\n",
       "      <th>Prob</th>\n",
       "      <th>Accuracy</th>\n",
       "      <th>Sensitivity</th>\n",
       "      <th>FPR</th>\n",
       "      <th>Specificity</th>\n",
       "      <th>FNR</th>\n",
       "    </tr>\n",
       "  </thead>\n",
       "  <tbody>\n",
       "    <tr>\n",
       "      <td>0.0</td>\n",
       "      <td>0.0</td>\n",
       "      <td>0.555662</td>\n",
       "      <td>0.999528</td>\n",
       "      <td>0.888204</td>\n",
       "      <td>0.111796</td>\n",
       "      <td>0.000472</td>\n",
       "    </tr>\n",
       "    <tr>\n",
       "      <td>0.1</td>\n",
       "      <td>0.1</td>\n",
       "      <td>0.692185</td>\n",
       "      <td>0.981564</td>\n",
       "      <td>0.597194</td>\n",
       "      <td>0.402806</td>\n",
       "      <td>0.018436</td>\n",
       "    </tr>\n",
       "    <tr>\n",
       "      <td>0.2</td>\n",
       "      <td>0.2</td>\n",
       "      <td>0.763321</td>\n",
       "      <td>0.975957</td>\n",
       "      <td>0.449316</td>\n",
       "      <td>0.550684</td>\n",
       "      <td>0.024043</td>\n",
       "    </tr>\n",
       "    <tr>\n",
       "      <td>0.3</td>\n",
       "      <td>0.3</td>\n",
       "      <td>0.814750</td>\n",
       "      <td>0.967374</td>\n",
       "      <td>0.337874</td>\n",
       "      <td>0.662126</td>\n",
       "      <td>0.032626</td>\n",
       "    </tr>\n",
       "    <tr>\n",
       "      <td>0.4</td>\n",
       "      <td>0.4</td>\n",
       "      <td>0.840999</td>\n",
       "      <td>0.891369</td>\n",
       "      <td>0.209372</td>\n",
       "      <td>0.790628</td>\n",
       "      <td>0.108631</td>\n",
       "    </tr>\n",
       "    <tr>\n",
       "      <td>0.5</td>\n",
       "      <td>0.5</td>\n",
       "      <td>0.844722</td>\n",
       "      <td>0.798999</td>\n",
       "      <td>0.109555</td>\n",
       "      <td>0.890445</td>\n",
       "      <td>0.201001</td>\n",
       "    </tr>\n",
       "    <tr>\n",
       "      <td>0.6</td>\n",
       "      <td>0.6</td>\n",
       "      <td>0.819320</td>\n",
       "      <td>0.696587</td>\n",
       "      <td>0.057947</td>\n",
       "      <td>0.942053</td>\n",
       "      <td>0.303413</td>\n",
       "    </tr>\n",
       "    <tr>\n",
       "      <td>0.7</td>\n",
       "      <td>0.7</td>\n",
       "      <td>0.827113</td>\n",
       "      <td>0.666890</td>\n",
       "      <td>0.012663</td>\n",
       "      <td>0.987337</td>\n",
       "      <td>0.333110</td>\n",
       "    </tr>\n",
       "    <tr>\n",
       "      <td>0.8</td>\n",
       "      <td>0.8</td>\n",
       "      <td>0.801991</td>\n",
       "      <td>0.607051</td>\n",
       "      <td>0.003069</td>\n",
       "      <td>0.996931</td>\n",
       "      <td>0.392949</td>\n",
       "    </tr>\n",
       "    <tr>\n",
       "      <td>0.9</td>\n",
       "      <td>0.9</td>\n",
       "      <td>0.684584</td>\n",
       "      <td>0.370903</td>\n",
       "      <td>0.001736</td>\n",
       "      <td>0.998264</td>\n",
       "      <td>0.629097</td>\n",
       "    </tr>\n",
       "  </tbody>\n",
       "</table>\n",
       "</div>"
      ],
      "text/plain": [
       "     Prob  Accuracy  Sensitivity       FPR  Specificity       FNR\n",
       "0.0   0.0  0.555662     0.999528  0.888204     0.111796  0.000472\n",
       "0.1   0.1  0.692185     0.981564  0.597194     0.402806  0.018436\n",
       "0.2   0.2  0.763321     0.975957  0.449316     0.550684  0.024043\n",
       "0.3   0.3  0.814750     0.967374  0.337874     0.662126  0.032626\n",
       "0.4   0.4  0.840999     0.891369  0.209372     0.790628  0.108631\n",
       "0.5   0.5  0.844722     0.798999  0.109555     0.890445  0.201001\n",
       "0.6   0.6  0.819320     0.696587  0.057947     0.942053  0.303413\n",
       "0.7   0.7  0.827113     0.666890  0.012663     0.987337  0.333110\n",
       "0.8   0.8  0.801991     0.607051  0.003069     0.996931  0.392949\n",
       "0.9   0.9  0.684584     0.370903  0.001736     0.998264  0.629097"
      ]
     },
     "execution_count": 106,
     "metadata": {},
     "output_type": "execute_result"
    }
   ],
   "source": [
    "measures"
   ]
  },
  {
   "cell_type": "code",
   "execution_count": 107,
   "metadata": {
    "colab": {
     "base_uri": "https://localhost:8080/",
     "height": 297
    },
    "id": "JzLLhQk0i3AQ",
    "outputId": "f835ccc2-aac8-44c2-8066-620fbffb1dbd"
   },
   "outputs": [
    {
     "data": {
      "text/plain": [
       "<Figure size 576x360 with 0 Axes>"
      ]
     },
     "metadata": {},
     "output_type": "display_data"
    },
    {
     "data": {
      "image/png": "[encoded data removed]",
      "text/plain": [
       "<Figure size 432x288 with 1 Axes>"
      ]
     },
     "metadata": {
      "needs_background": "dark"
     },
     "output_type": "display_data"
    }
   ],
   "source": [
    "# Finding the Optimal Threshold Point\n",
    "plt.figure(figsize = (8, 5))\n",
    "measures.plot.line(x = 'Prob', y = ['Accuracy', 'Sensitivity', 'Specificity'])\n",
    "plt.show()"
   ]
  },
  {
   "cell_type": "markdown",
   "metadata": {
    "id": "ArxmgZeU4pTH"
   },
   "source": [
    "**Explanation**: The Optimal Thrushold limit is a point where 'Accuracy', 'Sensitivity' and 'Specificity are fairly decent and are almost equal. It is usually the intersection point on the graph. Hence the optimal thrushold limit is 0.45."
   ]
  },
  {
   "cell_type": "code",
   "execution_count": 108,
   "metadata": {
    "id": "PfpWx4rRk1xj"
   },
   "outputs": [],
   "source": [
    "# ROC curve \n",
    "def roc (actual, prob):\n",
    "    FPR, TPR, threshold = metrics.roc_curve(actual, prob, drop_intermediate = False)\n",
    "    auc_score = metrics.roc_auc_score(actual, prob)\n",
    "    plt.plot(FPR, TPR, label = 'ROC curve (area = %0.2f)' %auc_score)\n",
    "    plt.legend(loc = 'lower right')\n",
    "    plt.xlabel('False Positive Rate')\n",
    "    plt.ylabel('True Positive Rate')\n",
    "    plt.title('Receiver operating characteristic Curve')\n",
    "    plt.show()\n",
    "    return None"
   ]
  },
  {
   "cell_type": "code",
   "execution_count": 109,
   "metadata": {
    "colab": {
     "base_uri": "https://localhost:8080/",
     "height": 295
    },
    "id": "U_gL4JEe8HeV",
    "outputId": "f32742de-5b0a-493e-a99a-fd881b1a11ba"
   },
   "outputs": [
    {
     "data": {
      "image/png": "[encoded data removed]",
      "text/plain": [
       "<Figure size 432x288 with 1 Axes>"
      ]
     },
     "metadata": {
      "needs_background": "dark"
     },
     "output_type": "display_data"
    }
   ],
   "source": [
    "FPR, TPR, threshold = metrics.roc_curve(cutoff['Actual'], cutoff['Pred'], drop_intermediate = False)\n",
    "roc(cutoff['Actual'], cutoff['Pred'])"
   ]
  },
  {
   "cell_type": "markdown",
   "metadata": {
    "id": "2R7QS03f9ws8"
   },
   "source": [
    "**Explanation**: The model has achieved the ROC score of 0.93 which is pretty high and also from the above graph we can observe that the curve is hugging the TPR. This means that the model is able to identify fraudulent transactions correctly by reducing the FPR."
   ]
  },
  {
   "cell_type": "markdown",
   "metadata": {
    "id": "4lvDpnZP-SMv"
   },
   "source": [
    "**Logestic Regression**: Even though the optimal threshold limit was identified at 0.5 we cannot go ahead with this cut off point as it was only able to reach the accuracy and sensitivity of 84% and 79% respectively. According to the problem statement, we need to correctly identify fraudulent transactions inorder to reduce the loss from frauds. Hence factors like accuracy, sensitivity and FNR plays atmost importance. Keeping all this factors into consideration, the cut off limit is set at 0.4 at which the model is able to produce the following scores. (Best results)"
   ]
  },
  {
   "cell_type": "code",
   "execution_count": 110,
   "metadata": {
    "colab": {
     "base_uri": "https://localhost:8080/",
     "height": 79
    },
    "id": "_Ta5LF_N8Nze",
    "outputId": "3364c2c1-4fbd-43fd-fac9-1cd85808b951"
   },
   "outputs": [
    {
     "data": {
      "text/html": [
       "<div>\n",
       "<style scoped>\n",
       "    .dataframe tbody tr th:only-of-type {\n",
       "        vertical-align: middle;\n",
       "    }\n",
       "\n",
       "    .dataframe tbody tr th {\n",
       "        vertical-align: top;\n",
       "    }\n",
       "\n",
       "    .dataframe thead th {\n",
       "        text-align: right;\n",
       "    }\n",
       "</style>\n",
       "<table border=\"1\" class=\"dataframe\">\n",
       "  <thead>\n",
       "    <tr style=\"text-align: right;\">\n",
       "      <th></th>\n",
       "      <th>Prob</th>\n",
       "      <th>Accuracy</th>\n",
       "      <th>Sensitivity</th>\n",
       "      <th>FPR</th>\n",
       "      <th>Specificity</th>\n",
       "      <th>FNR</th>\n",
       "    </tr>\n",
       "  </thead>\n",
       "  <tbody>\n",
       "    <tr>\n",
       "      <td>0.4</td>\n",
       "      <td>0.4</td>\n",
       "      <td>0.84</td>\n",
       "      <td>0.89</td>\n",
       "      <td>0.21</td>\n",
       "      <td>0.79</td>\n",
       "      <td>0.11</td>\n",
       "    </tr>\n",
       "  </tbody>\n",
       "</table>\n",
       "</div>"
      ],
      "text/plain": [
       "     Prob  Accuracy  Sensitivity   FPR  Specificity   FNR\n",
       "0.4   0.4      0.84         0.89  0.21         0.79  0.11"
      ]
     },
     "execution_count": 110,
     "metadata": {},
     "output_type": "execute_result"
    }
   ],
   "source": [
    "measures.loc[measures['Prob'] == 0.4].round(2)"
   ]
  },
  {
   "cell_type": "markdown",
   "metadata": {
    "id": "cP_KabciB0Fs"
   },
   "source": [
    "#### Subtask 3.1.8: Evaluation on Validation set"
   ]
  },
  {
   "cell_type": "code",
   "execution_count": 111,
   "metadata": {
    "id": "Z8OVqxpwAnBc"
   },
   "outputs": [],
   "source": [
    "# Rescalling variables\n",
    "df_val[vars] = scaler.transform(df_val[vars])"
   ]
  },
  {
   "cell_type": "code",
   "execution_count": 112,
   "metadata": {
    "id": "SU8aucHuChvk"
   },
   "outputs": [],
   "source": [
    "# Assigning X and Y\n",
    "Y_val = df_val['is_fraud']\n",
    "X_val = df_val.drop('is_fraud', axis = 1)\n",
    "X_val = X_val[X_2.columns]"
   ]
  },
  {
   "cell_type": "code",
   "execution_count": 113,
   "metadata": {
    "id": "xq1QQBSkDJ_V"
   },
   "outputs": [],
   "source": [
    "# Prediction and evaluation\n",
    "X_val_sm = sm.add_constant(X_val)\n",
    "Y_val_pred = log_model_2.predict(X_val_sm)"
   ]
  },
  {
   "cell_type": "code",
   "execution_count": 114,
   "metadata": {
    "colab": {
     "base_uri": "https://localhost:8080/",
     "height": 202
    },
    "id": "NbyqnPZHEiaA",
    "outputId": "8456d263-0527-4bbe-dacd-924a66a6dab0"
   },
   "outputs": [
    {
     "data": {
      "text/html": [
       "<div>\n",
       "<style scoped>\n",
       "    .dataframe tbody tr th:only-of-type {\n",
       "        vertical-align: middle;\n",
       "    }\n",
       "\n",
       "    .dataframe tbody tr th {\n",
       "        vertical-align: top;\n",
       "    }\n",
       "\n",
       "    .dataframe thead th {\n",
       "        text-align: right;\n",
       "    }\n",
       "</style>\n",
       "<table border=\"1\" class=\"dataframe\">\n",
       "  <thead>\n",
       "    <tr style=\"text-align: right;\">\n",
       "      <th></th>\n",
       "      <th>Actual</th>\n",
       "      <th>Pred</th>\n",
       "      <th>Final</th>\n",
       "    </tr>\n",
       "  </thead>\n",
       "  <tbody>\n",
       "    <tr>\n",
       "      <td>0</td>\n",
       "      <td>0</td>\n",
       "      <td>0.389076</td>\n",
       "      <td>0</td>\n",
       "    </tr>\n",
       "    <tr>\n",
       "      <td>1</td>\n",
       "      <td>0</td>\n",
       "      <td>0.072918</td>\n",
       "      <td>0</td>\n",
       "    </tr>\n",
       "    <tr>\n",
       "      <td>2</td>\n",
       "      <td>0</td>\n",
       "      <td>0.395366</td>\n",
       "      <td>0</td>\n",
       "    </tr>\n",
       "    <tr>\n",
       "      <td>3</td>\n",
       "      <td>0</td>\n",
       "      <td>0.091756</td>\n",
       "      <td>0</td>\n",
       "    </tr>\n",
       "    <tr>\n",
       "      <td>4</td>\n",
       "      <td>0</td>\n",
       "      <td>0.445571</td>\n",
       "      <td>1</td>\n",
       "    </tr>\n",
       "  </tbody>\n",
       "</table>\n",
       "</div>"
      ],
      "text/plain": [
       "   Actual      Pred  Final\n",
       "0       0  0.389076      0\n",
       "1       0  0.072918      0\n",
       "2       0  0.395366      0\n",
       "3       0  0.091756      0\n",
       "4       0  0.445571      1"
      ]
     },
     "execution_count": 114,
     "metadata": {},
     "output_type": "execute_result"
    }
   ],
   "source": [
    "# Validation results\n",
    "validation = pd.DataFrame()\n",
    "validation['Actual'] = Y_val.values\n",
    "validation['Pred'] = Y_val_pred.values\n",
    "validation['Final'] = validation['Pred'].map(lambda x: 1 if x >= 0.4 else 0)\n",
    "validation.head()"
   ]
  },
  {
   "cell_type": "code",
   "execution_count": 115,
   "metadata": {
    "id": "LE6L3yZudeFy"
   },
   "outputs": [],
   "source": [
    "# Defining Evaluation Metrics\n",
    "def evaluate(x):\n",
    "  confusion = metrics.confusion_matrix(x['Actual'], x['Final'])\n",
    "  Sensitivity = confusion[1,1]/(confusion[1,1]+confusion[1,0])\n",
    "  Specificity = confusion[0,0]/(confusion[0,0]+confusion[0,1])\n",
    "  FNR = confusion[1,0]/(confusion[1,0]+confusion[1,1])\n",
    "\n",
    "  print('Evaluation Metrics')\n",
    "  print({'Accuracy': round(metrics.accuracy_score(x['Actual'], x['Final']), 2)})\n",
    "  print({'Sensitivity': round(Sensitivity, 2)})\n",
    "  print({'Specificity': round(Specificity, 2)})\n",
    "  print({'FNR': round(FNR, 2)})\n",
    "  print('-'*50)\n",
    "  print('Confusion Metrics')\n",
    "  print(confusion)"
   ]
  },
  {
   "cell_type": "code",
   "execution_count": 116,
   "metadata": {
    "colab": {
     "base_uri": "https://localhost:8080/"
    },
    "id": "wMO5eOCmJ0oj",
    "outputId": "e3f4a7b6-6d0a-4047-de6b-48b68f275694"
   },
   "outputs": [
    {
     "name": "stdout",
     "output_type": "stream",
     "text": [
      "Evaluation Metrics\n",
      "{'Accuracy': 0.79}\n",
      "{'Sensitivity': 0.89}\n",
      "{'Specificity': 0.79}\n",
      "{'FNR': 0.11}\n",
      "--------------------------------------------------\n",
      "Confusion Metrics\n",
      "[[203518  53727]\n",
      " [   162   1336]]\n"
     ]
    }
   ],
   "source": [
    "# Evaluating on validation set\n",
    "evaluate(validation)"
   ]
  },
  {
   "cell_type": "markdown",
   "metadata": {
    "id": "cWiLYYX7XWnd"
   },
   "source": [
    "**Explanation**: The model is performing extreemly well on the validation set as well. The results are almost similar to the training data. This indicates that the model has generalized on the data set and is able to make correct predictions."
   ]
  },
  {
   "cell_type": "markdown",
   "metadata": {
    "id": "0JH38YkmL9dm"
   },
   "source": [
    "#### Subtask 3.1.9: Evaluation on Test data"
   ]
  },
  {
   "cell_type": "code",
   "execution_count": 117,
   "metadata": {
    "id": "d4ZJ0nOcKMiP"
   },
   "outputs": [],
   "source": [
    "log_test = test_df"
   ]
  },
  {
   "cell_type": "code",
   "execution_count": 118,
   "metadata": {
    "colab": {
     "base_uri": "https://localhost:8080/"
    },
    "id": "rzGCRVn-N7qx",
    "outputId": "8102a473-80cf-43ef-ab87-34f6c2f5164a"
   },
   "outputs": [
    {
     "name": "stdout",
     "output_type": "stream",
     "text": [
      "<class 'pandas.core.frame.DataFrame'>\n",
      "Int64Index: 554771 entries, 52 to 555718\n",
      "Data columns (total 16 columns):\n",
      "amt               554771 non-null float64\n",
      "gender            554771 non-null int64\n",
      "zip               554771 non-null int64\n",
      "city_pop          554771 non-null int64\n",
      "unix_time         554771 non-null int64\n",
      "is_fraud          554771 non-null int64\n",
      "age               554771 non-null int64\n",
      "distance          554771 non-null int32\n",
      "hour_encoding     554771 non-null int64\n",
      "time_diff         554771 non-null int32\n",
      "fraud_merchant    554771 non-null int64\n",
      "gas_transport     554771 non-null uint8\n",
      "grocery_pos       554771 non-null uint8\n",
      "misc_net          554771 non-null uint8\n",
      "shopping_net      554771 non-null uint8\n",
      "shopping_pos      554771 non-null uint8\n",
      "dtypes: float64(1), int32(2), int64(8), uint8(5)\n",
      "memory usage: 49.2 MB\n"
     ]
    }
   ],
   "source": [
    "log_test.info()"
   ]
  },
  {
   "cell_type": "code",
   "execution_count": 124,
   "metadata": {
    "colab": {
     "base_uri": "https://localhost:8080/",
     "height": 110
    },
    "id": "qSzXeK6EQFsO",
    "outputId": "aa8de15c-6cea-4686-f445-fc49cf129f66"
   },
   "outputs": [
    {
     "data": {
      "image/png": "[encoded data removed]",
      "text/plain": [
       "<Figure size 1080x1440 with 3 Axes>"
      ]
     },
     "metadata": {
      "needs_background": "dark"
     },
     "output_type": "display_data"
    }
   ],
   "source": [
    "# Checking for outliers\n",
    "out = ['city_pop', 'time_diff', 'amt']\n",
    "plt.figure(figsize = (15,20))\n",
    "for x in enumerate(out):\n",
    "  plt.subplot(4,3,x[0]+1)\n",
    "  sns.boxplot(x[1], data = log_test, palette= 'Purples')\n",
    "plt.show()"
   ]
  },
  {
   "cell_type": "code",
   "execution_count": 125,
   "metadata": {
    "id": "mdpfEhQqN91g"
   },
   "outputs": [],
   "source": [
    "# outliers treatment\n",
    "log_test['city_pops'] = pd.cut(log_test['city_pop'], labels = city_label, bins = city_bins)\n",
    "log_test = log_test.drop('city_pop', axis = 1)\n",
    "log_test = log_test.loc[log_test['amt']<= 1450, :]\n",
    "log_test.loc[log_test['time_diff']> log_test['time_diff'].quantile(0.95), ['time_diff']] = log_test['time_diff'].quantile(0.95)"
   ]
  },
  {
   "cell_type": "code",
   "execution_count": 126,
   "metadata": {
    "id": "Y41agaCzQ6W7"
   },
   "outputs": [],
   "source": [
    "# Rescaling variables\n",
    "log_test[vars] = scaler.transform(log_test[vars])"
   ]
  },
  {
   "cell_type": "code",
   "execution_count": 127,
   "metadata": {
    "id": "5wnJ9sCNSER1"
   },
   "outputs": [],
   "source": [
    "# Assigning X and Y\n",
    "Y_test = log_test['is_fraud']\n",
    "X_test = log_test.drop('is_fraud', axis = 1)\n",
    "X_test = X_test[X_2.columns]"
   ]
  },
  {
   "cell_type": "code",
   "execution_count": 128,
   "metadata": {
    "id": "KbO6AlYVSbuz"
   },
   "outputs": [],
   "source": [
    "# Prediction and evaluation\n",
    "X_test_sm = sm.add_constant(X_test)\n",
    "Y_test_pred = log_model_2.predict(X_test_sm)"
   ]
  },
  {
   "cell_type": "code",
   "execution_count": 129,
   "metadata": {
    "colab": {
     "base_uri": "https://localhost:8080/",
     "height": 202
    },
    "id": "kgZc7hcDS1Cd",
    "outputId": "f6c25027-e40e-4136-e2a5-43ff56c80ab5"
   },
   "outputs": [
    {
     "data": {
      "text/html": [
       "<div>\n",
       "<style scoped>\n",
       "    .dataframe tbody tr th:only-of-type {\n",
       "        vertical-align: middle;\n",
       "    }\n",
       "\n",
       "    .dataframe tbody tr th {\n",
       "        vertical-align: top;\n",
       "    }\n",
       "\n",
       "    .dataframe thead th {\n",
       "        text-align: right;\n",
       "    }\n",
       "</style>\n",
       "<table border=\"1\" class=\"dataframe\">\n",
       "  <thead>\n",
       "    <tr style=\"text-align: right;\">\n",
       "      <th></th>\n",
       "      <th>Actual</th>\n",
       "      <th>Pred</th>\n",
       "      <th>Final</th>\n",
       "    </tr>\n",
       "  </thead>\n",
       "  <tbody>\n",
       "    <tr>\n",
       "      <td>0</td>\n",
       "      <td>0</td>\n",
       "      <td>0.114481</td>\n",
       "      <td>0</td>\n",
       "    </tr>\n",
       "    <tr>\n",
       "      <td>1</td>\n",
       "      <td>0</td>\n",
       "      <td>0.046402</td>\n",
       "      <td>0</td>\n",
       "    </tr>\n",
       "    <tr>\n",
       "      <td>2</td>\n",
       "      <td>0</td>\n",
       "      <td>0.204402</td>\n",
       "      <td>0</td>\n",
       "    </tr>\n",
       "    <tr>\n",
       "      <td>3</td>\n",
       "      <td>0</td>\n",
       "      <td>0.061558</td>\n",
       "      <td>0</td>\n",
       "    </tr>\n",
       "    <tr>\n",
       "      <td>4</td>\n",
       "      <td>0</td>\n",
       "      <td>0.157752</td>\n",
       "      <td>0</td>\n",
       "    </tr>\n",
       "  </tbody>\n",
       "</table>\n",
       "</div>"
      ],
      "text/plain": [
       "   Actual      Pred  Final\n",
       "0       0  0.114481      0\n",
       "1       0  0.046402      0\n",
       "2       0  0.204402      0\n",
       "3       0  0.061558      0\n",
       "4       0  0.157752      0"
      ]
     },
     "execution_count": 129,
     "metadata": {},
     "output_type": "execute_result"
    }
   ],
   "source": [
    "# Test results\n",
    "LR = pd.DataFrame()\n",
    "LR['Actual'] = Y_test.values\n",
    "LR['Pred'] = Y_test_pred.values\n",
    "LR['Final'] = LR['Pred'].map(lambda x: 1 if x >= 0.4 else 0)\n",
    "LR.head()"
   ]
  },
  {
   "cell_type": "code",
   "execution_count": 130,
   "metadata": {
    "colab": {
     "base_uri": "https://localhost:8080/"
    },
    "id": "MJ9L5yqiWaoW",
    "outputId": "c2fcdcee-60b1-44ea-fb8f-6ddeb71c198e"
   },
   "outputs": [
    {
     "name": "stdout",
     "output_type": "stream",
     "text": [
      "Evaluation Metrics\n",
      "{'Accuracy': 0.83}\n",
      "{'Sensitivity': 0.83}\n",
      "{'Specificity': 0.83}\n",
      "{'FNR': 0.17}\n",
      "--------------------------------------------------\n",
      "Confusion Metrics\n",
      "[[460899  91095]\n",
      " [   367   1758]]\n"
     ]
    }
   ],
   "source": [
    "# Evaluating on the test data\n",
    "evaluate(LR)"
   ]
  },
  {
   "cell_type": "markdown",
   "metadata": {
    "id": "HEiRuSDsYQL6"
   },
   "source": [
    "**Explanation**: Logestic Regression model is performing good on the test data as well. All the evaluation metrics are within the permitable range. The model is performing well and is making correct predictions on the unseen test data. However there can be still scope of improvements on the metrics like sensitivity, FNR, TPR etc. This can be achieved using tree models."
   ]
  },
  {
   "cell_type": "markdown",
   "metadata": {
    "id": "X3IQ9VpshXlm"
   },
   "source": [
    "### Subtask 3.2: Decision Tree"
   ]
  },
  {
   "cell_type": "markdown",
   "metadata": {
    "id": "5kr36kewhm9M"
   },
   "source": [
    "#### Subtask 3.2.1: Class Imbalance"
   ]
  },
  {
   "cell_type": "code",
   "execution_count": 131,
   "metadata": {
    "colab": {
     "base_uri": "https://localhost:8080/"
    },
    "id": "CiktdjHGdV9c",
    "outputId": "139acac0-ca4f-48a5-81a8-726ae6dcc500"
   },
   "outputs": [
    {
     "name": "stdout",
     "output_type": "stream",
     "text": [
      "<class 'pandas.core.frame.DataFrame'>\n",
      "Int64Index: 1295113 entries, 43 to 1296674\n",
      "Data columns (total 16 columns):\n",
      "amt               1295113 non-null float64\n",
      "gender            1295113 non-null int64\n",
      "zip               1295113 non-null int64\n",
      "city_pop          1295113 non-null int64\n",
      "unix_time         1295113 non-null int64\n",
      "is_fraud          1295113 non-null int64\n",
      "age               1295113 non-null int64\n",
      "distance          1295113 non-null int32\n",
      "hour_encoding     1295113 non-null int64\n",
      "time_diff         1295113 non-null int32\n",
      "fraud_merchant    1295113 non-null int64\n",
      "gas_transport     1295113 non-null uint8\n",
      "grocery_pos       1295113 non-null uint8\n",
      "misc_net          1295113 non-null uint8\n",
      "shopping_net      1295113 non-null uint8\n",
      "shopping_pos      1295113 non-null uint8\n",
      "dtypes: float64(1), int32(2), int64(8), uint8(5)\n",
      "memory usage: 114.9 MB\n"
     ]
    }
   ],
   "source": [
    "# Checking train df\n",
    "train_df.info()"
   ]
  },
  {
   "cell_type": "code",
   "execution_count": 132,
   "metadata": {
    "colab": {
     "base_uri": "https://localhost:8080/"
    },
    "id": "wH4ddEVNhgui",
    "outputId": "4a2f86e4-b5f6-4916-dd13-04e131ded787"
   },
   "outputs": [
    {
     "data": {
      "text/plain": [
       "0    0.994\n",
       "1    0.006\n",
       "Name: is_fraud, dtype: float64"
      ]
     },
     "execution_count": 132,
     "metadata": {},
     "output_type": "execute_result"
    }
   ],
   "source": [
    "# Checking imbalance %\n",
    "train_df['is_fraud'].value_counts(normalize = True).round(3)"
   ]
  },
  {
   "cell_type": "code",
   "execution_count": 133,
   "metadata": {
    "id": "s3vub0Bkh_55"
   },
   "outputs": [],
   "source": [
    "# Assigning X and Y\n",
    "Y = train_df['is_fraud']\n",
    "X = train_df.drop('is_fraud', axis = 1)"
   ]
  },
  {
   "cell_type": "code",
   "execution_count": 134,
   "metadata": {
    "colab": {
     "base_uri": "https://localhost:8080/"
    },
    "id": "anOJsIc5ihLw",
    "outputId": "34aed404-b42e-4ffe-d9ec-434e84601c3b"
   },
   "outputs": [],
   "source": [
    "# Generating synthetic data points using smote\n",
    "X_train, Y_train = smote.fit_resample(X, Y)"
   ]
  },
  {
   "cell_type": "code",
   "execution_count": 135,
   "metadata": {
    "colab": {
     "base_uri": "https://localhost:8080/"
    },
    "id": "kh2Vpc9TiijU",
    "outputId": "172c03b4-014f-4f47-ce8c-f4fe4b90c2c6",
    "scrolled": true
   },
   "outputs": [
    {
     "name": "stdout",
     "output_type": "stream",
     "text": [
      "<class 'pandas.core.frame.DataFrame'>\n",
      "RangeIndex: 2575382 entries, 0 to 2575381\n",
      "Data columns (total 15 columns):\n",
      "amt               float64\n",
      "gender            float64\n",
      "zip               float64\n",
      "city_pop          float64\n",
      "unix_time         float64\n",
      "age               float64\n",
      "distance          float64\n",
      "hour_encoding     float64\n",
      "time_diff         float64\n",
      "fraud_merchant    float64\n",
      "gas_transport     float64\n",
      "grocery_pos       float64\n",
      "misc_net          float64\n",
      "shopping_net      float64\n",
      "shopping_pos      float64\n",
      "dtypes: float64(15)\n",
      "memory usage: 294.7 MB\n"
     ]
    }
   ],
   "source": [
    "# Assigning X columns back\n",
    "X_train = pd.DataFrame(X_train, columns = X.columns)\n",
    "X_train.info()"
   ]
  },
  {
   "cell_type": "code",
   "execution_count": 150,
   "metadata": {},
   "outputs": [
    {
     "name": "stdout",
     "output_type": "stream",
     "text": [
      "<class 'pandas.core.frame.DataFrame'>\n",
      "RangeIndex: 2575382 entries, 0 to 2575381\n",
      "Data columns (total 1 columns):\n",
      "is_fraud    int64\n",
      "dtypes: int64(1)\n",
      "memory usage: 19.6 MB\n",
      "None\n"
     ]
    }
   ],
   "source": [
    "# Assigning Y column name\n",
    "Y = pd.DataFrame(Y)\n",
    "Y_train = pd.DataFrame(Y_train, columns = Y.columns)\n",
    "print(Y_train.info())"
   ]
  },
  {
   "cell_type": "markdown",
   "metadata": {},
   "source": [
    "**Explanation**: The data set had very high imbalance class of 99:1. It is mandatory to fix the imbalance ratio, so that the model can learn efficiently.Hence SMOTE method was used to generate synthetic data points to fix the imbalance class."
   ]
  },
  {
   "cell_type": "markdown",
   "metadata": {
    "id": "P7JbUJtnmPkF"
   },
   "source": [
    "#### Subtask 3.2.2: Hyperparameter Tuning"
   ]
  },
  {
   "cell_type": "code",
   "execution_count": 136,
   "metadata": {
    "id": "zju0XOwFxRPZ"
   },
   "outputs": [],
   "source": [
    "# Defining graph for plotting\n",
    "def graph(x):\n",
    "  plt.figure(figsize = (60,30))\n",
    "  plot_tree(x, feature_names = X.columns, class_names = ['Not Fraud', 'Fraud'], filled = True)\n",
    "  plt.show()"
   ]
  },
  {
   "cell_type": "code",
   "execution_count": 137,
   "metadata": {
    "id": "cMcCVPVb4Ony"
   },
   "outputs": [],
   "source": [
    "# Instantiating DescisionTreeClassifier\n",
    "dt = DecisionTreeClassifier(random_state = 42)"
   ]
  },
  {
   "cell_type": "code",
   "execution_count": 138,
   "metadata": {
    "id": "bEztPPH7zo5n"
   },
   "outputs": [],
   "source": [
    "# Selecting the parameters for Hyperparameter Tuning\n",
    "params = {'max_depth' : [4,5,6,7,8], 'min_samples_leaf': [10,20,30,40,100,500], \n",
    "          'min_samples_split': [10,20,30,40,50]}"
   ]
  },
  {
   "cell_type": "code",
   "execution_count": 139,
   "metadata": {
    "id": "J-95Ta6LyNxT"
   },
   "outputs": [],
   "source": [
    "# Instantiating GridSearchCV\n",
    "grid = GridSearchCV(estimator = dt, param_grid = params, cv = 4, n_jobs = -1, verbose = 1, \n",
    "                    scoring= 'balanced_accuracy')"
   ]
  },
  {
   "cell_type": "code",
   "execution_count": 141,
   "metadata": {
    "colab": {
     "base_uri": "https://localhost:8080/"
    },
    "id": "7M8GIaL3z35d",
    "outputId": "e4594ad2-a36d-4d1a-8b73-366b8dd9ac92"
   },
   "outputs": [
    {
     "name": "stdout",
     "output_type": "stream",
     "text": [
      "Wall time: 0 ns\n",
      "Fitting 4 folds for each of 150 candidates, totalling 600 fits\n"
     ]
    },
    {
     "name": "stderr",
     "output_type": "stream",
     "text": [
      "[Parallel(n_jobs=-1)]: Using backend LokyBackend with 8 concurrent workers.\n",
      "[Parallel(n_jobs=-1)]: Done  34 tasks      | elapsed:  5.4min\n",
      "[Parallel(n_jobs=-1)]: Done 184 tasks      | elapsed: 32.8min\n",
      "[Parallel(n_jobs=-1)]: Done 434 tasks      | elapsed: 82.9min\n",
      "[Parallel(n_jobs=-1)]: Done 600 out of 600 | elapsed: 110.9min finished\n"
     ]
    },
    {
     "data": {
      "text/plain": [
       "GridSearchCV(cv=4, estimator=DecisionTreeClassifier(random_state=42), n_jobs=-1,\n",
       "             param_grid={'max_depth': [4, 5, 6, 7, 8],\n",
       "                         'min_samples_leaf': [10, 20, 30, 40, 100, 500],\n",
       "                         'min_samples_split': [10, 20, 30, 40, 50]},\n",
       "             scoring='balanced_accuracy', verbose=1)"
      ]
     },
     "execution_count": 141,
     "metadata": {},
     "output_type": "execute_result"
    }
   ],
   "source": [
    "# Estimating best decision tree\n",
    "%time\n",
    "grid.fit(X_train, Y_train)"
   ]
  },
  {
   "cell_type": "code",
   "execution_count": 173,
   "metadata": {
    "id": "ACB-IDzM7d0t"
   },
   "outputs": [
    {
     "name": "stdout",
     "output_type": "stream",
     "text": [
      "DecisionTreeClassifier(max_depth=8, min_samples_leaf=20, min_samples_split=10,\n",
      "                       random_state=42)\n"
     ]
    }
   ],
   "source": [
    "# Identifying the best decision tree\n",
    "print(grid.best_estimator_)"
   ]
  },
  {
   "cell_type": "markdown",
   "metadata": {},
   "source": [
    "**Explanation**: Hyperparameter tuning is vital for any tree models. It not only avoids overfitting but also evaluates the model with the given parameters and gives the best parameters for the tree. In the above example, After 600 fits the model has selected the best parameters which gives the balanced_accuracy score of 0.73."
   ]
  },
  {
   "cell_type": "markdown",
   "metadata": {},
   "source": [
    "#### Subtask 3.2.3: Evaluation of Decision Tree"
   ]
  },
  {
   "cell_type": "code",
   "execution_count": 165,
   "metadata": {},
   "outputs": [],
   "source": [
    "# predicting using best decision tree\n",
    "dt_model = grid.best_estimator_\n",
    "Y_train_pred = dt_model.predict_proba(X_train)\n",
    "Y_train_pred = pd.DataFrame(Y_train_pred)\n",
    "Y_train_pred = Y_train_pred[1]"
   ]
  },
  {
   "cell_type": "code",
   "execution_count": 167,
   "metadata": {},
   "outputs": [
    {
     "data": {
      "text/html": [
       "<div>\n",
       "<style scoped>\n",
       "    .dataframe tbody tr th:only-of-type {\n",
       "        vertical-align: middle;\n",
       "    }\n",
       "\n",
       "    .dataframe tbody tr th {\n",
       "        vertical-align: top;\n",
       "    }\n",
       "\n",
       "    .dataframe thead th {\n",
       "        text-align: right;\n",
       "    }\n",
       "</style>\n",
       "<table border=\"1\" class=\"dataframe\">\n",
       "  <thead>\n",
       "    <tr style=\"text-align: right;\">\n",
       "      <th></th>\n",
       "      <th>Actual</th>\n",
       "      <th>Pred</th>\n",
       "      <th>0.0</th>\n",
       "      <th>0.1</th>\n",
       "      <th>0.2</th>\n",
       "      <th>0.3</th>\n",
       "      <th>0.4</th>\n",
       "      <th>0.5</th>\n",
       "      <th>0.6</th>\n",
       "      <th>0.7</th>\n",
       "      <th>0.8</th>\n",
       "      <th>0.9</th>\n",
       "    </tr>\n",
       "  </thead>\n",
       "  <tbody>\n",
       "    <tr>\n",
       "      <td>0</td>\n",
       "      <td>0</td>\n",
       "      <td>0.000000</td>\n",
       "      <td>0</td>\n",
       "      <td>0</td>\n",
       "      <td>0</td>\n",
       "      <td>0</td>\n",
       "      <td>0</td>\n",
       "      <td>0</td>\n",
       "      <td>0</td>\n",
       "      <td>0</td>\n",
       "      <td>0</td>\n",
       "      <td>0</td>\n",
       "    </tr>\n",
       "    <tr>\n",
       "      <td>1</td>\n",
       "      <td>0</td>\n",
       "      <td>0.000000</td>\n",
       "      <td>0</td>\n",
       "      <td>0</td>\n",
       "      <td>0</td>\n",
       "      <td>0</td>\n",
       "      <td>0</td>\n",
       "      <td>0</td>\n",
       "      <td>0</td>\n",
       "      <td>0</td>\n",
       "      <td>0</td>\n",
       "      <td>0</td>\n",
       "    </tr>\n",
       "    <tr>\n",
       "      <td>2</td>\n",
       "      <td>0</td>\n",
       "      <td>0.315464</td>\n",
       "      <td>1</td>\n",
       "      <td>1</td>\n",
       "      <td>1</td>\n",
       "      <td>1</td>\n",
       "      <td>0</td>\n",
       "      <td>0</td>\n",
       "      <td>0</td>\n",
       "      <td>0</td>\n",
       "      <td>0</td>\n",
       "      <td>0</td>\n",
       "    </tr>\n",
       "    <tr>\n",
       "      <td>3</td>\n",
       "      <td>0</td>\n",
       "      <td>0.000000</td>\n",
       "      <td>0</td>\n",
       "      <td>0</td>\n",
       "      <td>0</td>\n",
       "      <td>0</td>\n",
       "      <td>0</td>\n",
       "      <td>0</td>\n",
       "      <td>0</td>\n",
       "      <td>0</td>\n",
       "      <td>0</td>\n",
       "      <td>0</td>\n",
       "    </tr>\n",
       "    <tr>\n",
       "      <td>4</td>\n",
       "      <td>0</td>\n",
       "      <td>0.315464</td>\n",
       "      <td>1</td>\n",
       "      <td>1</td>\n",
       "      <td>1</td>\n",
       "      <td>1</td>\n",
       "      <td>0</td>\n",
       "      <td>0</td>\n",
       "      <td>0</td>\n",
       "      <td>0</td>\n",
       "      <td>0</td>\n",
       "      <td>0</td>\n",
       "    </tr>\n",
       "  </tbody>\n",
       "</table>\n",
       "</div>"
      ],
      "text/plain": [
       "   Actual      Pred  0.0  0.1  0.2  0.3  0.4  0.5  0.6  0.7  0.8  0.9\n",
       "0       0  0.000000    0    0    0    0    0    0    0    0    0    0\n",
       "1       0  0.000000    0    0    0    0    0    0    0    0    0    0\n",
       "2       0  0.315464    1    1    1    1    0    0    0    0    0    0\n",
       "3       0  0.000000    0    0    0    0    0    0    0    0    0    0\n",
       "4       0  0.315464    1    1    1    1    0    0    0    0    0    0"
      ]
     },
     "execution_count": 167,
     "metadata": {},
     "output_type": "execute_result"
    }
   ],
   "source": [
    "# conversions at different probability scores\n",
    "cutoff = pd.DataFrame()\n",
    "cutoff['Actual'] = Y_train.values.flatten()\n",
    "cutoff['Pred'] = Y_train_pred.values\n",
    "num = [float(x/10) for x in range(10)]\n",
    "for x in num:\n",
    "  cutoff[x] = cutoff['Pred'].map(lambda i: 1 if i > x else 0)\n",
    "cutoff.head()"
   ]
  },
  {
   "cell_type": "code",
   "execution_count": 169,
   "metadata": {},
   "outputs": [],
   "source": [
    "# Calculating various measures\n",
    "measures = pd.DataFrame(columns = ['Prob', 'Accuracy', 'Sensitivity', 'FPR', 'Specificity', 'FNR'])\n",
    "for x in num: \n",
    "  metrix = metrics.confusion_matrix(cutoff['Actual'], cutoff[x])\n",
    "  total = sum(sum(metrix))\n",
    "  Accuracy = (metrix[0,0]+metrix[1,1])/total\n",
    "  Sensitivity = metrix[1,1]/(metrix[1,1]+metrix[1,0])\n",
    "  FPR = metrix[0,1]/(metrix[0,1]+metrix[0,0])\n",
    "  Specificity = metrix[0,0]/(metrix[0,0]+metrix[0,1])\n",
    "  FNR = metrix[1,0]/(metrix[1,0]+metrix[1,1])\n",
    "  measures.loc[x] = [x, Accuracy, Sensitivity, FPR, Specificity, FNR]"
   ]
  },
  {
   "cell_type": "code",
   "execution_count": 170,
   "metadata": {},
   "outputs": [
    {
     "data": {
      "text/html": [
       "<div>\n",
       "<style scoped>\n",
       "    .dataframe tbody tr th:only-of-type {\n",
       "        vertical-align: middle;\n",
       "    }\n",
       "\n",
       "    .dataframe tbody tr th {\n",
       "        vertical-align: top;\n",
       "    }\n",
       "\n",
       "    .dataframe thead th {\n",
       "        text-align: right;\n",
       "    }\n",
       "</style>\n",
       "<table border=\"1\" class=\"dataframe\">\n",
       "  <thead>\n",
       "    <tr style=\"text-align: right;\">\n",
       "      <th></th>\n",
       "      <th>Prob</th>\n",
       "      <th>Accuracy</th>\n",
       "      <th>Sensitivity</th>\n",
       "      <th>FPR</th>\n",
       "      <th>Specificity</th>\n",
       "      <th>FNR</th>\n",
       "    </tr>\n",
       "  </thead>\n",
       "  <tbody>\n",
       "    <tr>\n",
       "      <td>0.0</td>\n",
       "      <td>0.0</td>\n",
       "      <td>0.564057</td>\n",
       "      <td>1.000000</td>\n",
       "      <td>0.871887</td>\n",
       "      <td>0.128113</td>\n",
       "      <td>0.000000</td>\n",
       "    </tr>\n",
       "    <tr>\n",
       "      <td>0.1</td>\n",
       "      <td>0.1</td>\n",
       "      <td>0.933883</td>\n",
       "      <td>0.995669</td>\n",
       "      <td>0.127903</td>\n",
       "      <td>0.872097</td>\n",
       "      <td>0.004331</td>\n",
       "    </tr>\n",
       "    <tr>\n",
       "      <td>0.2</td>\n",
       "      <td>0.2</td>\n",
       "      <td>0.961552</td>\n",
       "      <td>0.981873</td>\n",
       "      <td>0.058770</td>\n",
       "      <td>0.941230</td>\n",
       "      <td>0.018127</td>\n",
       "    </tr>\n",
       "    <tr>\n",
       "      <td>0.3</td>\n",
       "      <td>0.3</td>\n",
       "      <td>0.961582</td>\n",
       "      <td>0.981840</td>\n",
       "      <td>0.058677</td>\n",
       "      <td>0.941323</td>\n",
       "      <td>0.018160</td>\n",
       "    </tr>\n",
       "    <tr>\n",
       "      <td>0.4</td>\n",
       "      <td>0.4</td>\n",
       "      <td>0.972263</td>\n",
       "      <td>0.963368</td>\n",
       "      <td>0.018842</td>\n",
       "      <td>0.981158</td>\n",
       "      <td>0.036632</td>\n",
       "    </tr>\n",
       "    <tr>\n",
       "      <td>0.5</td>\n",
       "      <td>0.5</td>\n",
       "      <td>0.972424</td>\n",
       "      <td>0.961424</td>\n",
       "      <td>0.016576</td>\n",
       "      <td>0.983424</td>\n",
       "      <td>0.038576</td>\n",
       "    </tr>\n",
       "    <tr>\n",
       "      <td>0.6</td>\n",
       "      <td>0.6</td>\n",
       "      <td>0.972422</td>\n",
       "      <td>0.961415</td>\n",
       "      <td>0.016570</td>\n",
       "      <td>0.983430</td>\n",
       "      <td>0.038585</td>\n",
       "    </tr>\n",
       "    <tr>\n",
       "      <td>0.7</td>\n",
       "      <td>0.7</td>\n",
       "      <td>0.967326</td>\n",
       "      <td>0.940799</td>\n",
       "      <td>0.006147</td>\n",
       "      <td>0.993853</td>\n",
       "      <td>0.059201</td>\n",
       "    </tr>\n",
       "    <tr>\n",
       "      <td>0.8</td>\n",
       "      <td>0.8</td>\n",
       "      <td>0.965402</td>\n",
       "      <td>0.935307</td>\n",
       "      <td>0.004504</td>\n",
       "      <td>0.995496</td>\n",
       "      <td>0.064693</td>\n",
       "    </tr>\n",
       "    <tr>\n",
       "      <td>0.9</td>\n",
       "      <td>0.9</td>\n",
       "      <td>0.964752</td>\n",
       "      <td>0.933824</td>\n",
       "      <td>0.004320</td>\n",
       "      <td>0.995680</td>\n",
       "      <td>0.066176</td>\n",
       "    </tr>\n",
       "  </tbody>\n",
       "</table>\n",
       "</div>"
      ],
      "text/plain": [
       "     Prob  Accuracy  Sensitivity       FPR  Specificity       FNR\n",
       "0.0   0.0  0.564057     1.000000  0.871887     0.128113  0.000000\n",
       "0.1   0.1  0.933883     0.995669  0.127903     0.872097  0.004331\n",
       "0.2   0.2  0.961552     0.981873  0.058770     0.941230  0.018127\n",
       "0.3   0.3  0.961582     0.981840  0.058677     0.941323  0.018160\n",
       "0.4   0.4  0.972263     0.963368  0.018842     0.981158  0.036632\n",
       "0.5   0.5  0.972424     0.961424  0.016576     0.983424  0.038576\n",
       "0.6   0.6  0.972422     0.961415  0.016570     0.983430  0.038585\n",
       "0.7   0.7  0.967326     0.940799  0.006147     0.993853  0.059201\n",
       "0.8   0.8  0.965402     0.935307  0.004504     0.995496  0.064693\n",
       "0.9   0.9  0.964752     0.933824  0.004320     0.995680  0.066176"
      ]
     },
     "execution_count": 170,
     "metadata": {},
     "output_type": "execute_result"
    }
   ],
   "source": [
    "measures"
   ]
  },
  {
   "cell_type": "code",
   "execution_count": 171,
   "metadata": {
    "scrolled": true
   },
   "outputs": [
    {
     "data": {
      "text/plain": [
       "<Figure size 576x360 with 0 Axes>"
      ]
     },
     "metadata": {},
     "output_type": "display_data"
    },
    {
     "data": {
      "image/png": "[encoded data removed]",
      "text/plain": [
       "<Figure size 432x288 with 1 Axes>"
      ]
     },
     "metadata": {
      "needs_background": "dark"
     },
     "output_type": "display_data"
    }
   ],
   "source": [
    "# Finding the Optimal Threshold Point\n",
    "plt.figure(figsize = (8, 5))\n",
    "measures.plot.line(x = 'Prob', y = ['Accuracy', 'Sensitivity', 'Specificity'])\n",
    "plt.show()"
   ]
  },
  {
   "cell_type": "code",
   "execution_count": 179,
   "metadata": {},
   "outputs": [
    {
     "data": {
      "image/png": "[encoded data removed]",
      "text/plain": [
       "<Figure size 432x288 with 1 Axes>"
      ]
     },
     "metadata": {
      "needs_background": "dark"
     },
     "output_type": "display_data"
    }
   ],
   "source": [
    "# ROC curve\n",
    "FPR, TPR, threshold = metrics.roc_curve(cutoff['Actual'], cutoff['Pred'], drop_intermediate = False)\n",
    "roc(cutoff['Actual'], cutoff['Pred'])"
   ]
  },
  {
   "cell_type": "markdown",
   "metadata": {},
   "source": [
    "**Explanation**: The model has achieved the ROC score of 1.00 which is the highest and also from the above graph we can observe that the curve is hugging the TPR. This means that the model is able to identify fraudulent transactions correctly by reducing the FPR."
   ]
  },
  {
   "cell_type": "markdown",
   "metadata": {},
   "source": [
    "**Explanation**: Even though the optimal threshold limit was identified at 0.4 we cannot go ahead with this cut off point as the model was able to reach the accuracy and sensitivity of 97% and 96% respectively. According to the problem statement, we need to correctly identify fraudulent transactions inorder to reduce the loss from frauds. Hence factors like accuracy, sensitivity and FNR plays atmost importance. Keeping all this factors into consideration, the cut off limit is set at 0.3 at which the model is able to produce the best results by focusing more on sensitivity."
   ]
  },
  {
   "cell_type": "code",
   "execution_count": 174,
   "metadata": {},
   "outputs": [
    {
     "data": {
      "text/html": [
       "<div>\n",
       "<style scoped>\n",
       "    .dataframe tbody tr th:only-of-type {\n",
       "        vertical-align: middle;\n",
       "    }\n",
       "\n",
       "    .dataframe tbody tr th {\n",
       "        vertical-align: top;\n",
       "    }\n",
       "\n",
       "    .dataframe thead th {\n",
       "        text-align: right;\n",
       "    }\n",
       "</style>\n",
       "<table border=\"1\" class=\"dataframe\">\n",
       "  <thead>\n",
       "    <tr style=\"text-align: right;\">\n",
       "      <th></th>\n",
       "      <th>Prob</th>\n",
       "      <th>Accuracy</th>\n",
       "      <th>Sensitivity</th>\n",
       "      <th>FPR</th>\n",
       "      <th>Specificity</th>\n",
       "      <th>FNR</th>\n",
       "    </tr>\n",
       "  </thead>\n",
       "  <tbody>\n",
       "    <tr>\n",
       "      <td>0.3</td>\n",
       "      <td>0.3</td>\n",
       "      <td>0.96</td>\n",
       "      <td>0.98</td>\n",
       "      <td>0.06</td>\n",
       "      <td>0.94</td>\n",
       "      <td>0.02</td>\n",
       "    </tr>\n",
       "  </tbody>\n",
       "</table>\n",
       "</div>"
      ],
      "text/plain": [
       "     Prob  Accuracy  Sensitivity   FPR  Specificity   FNR\n",
       "0.3   0.3      0.96         0.98  0.06         0.94  0.02"
      ]
     },
     "execution_count": 174,
     "metadata": {},
     "output_type": "execute_result"
    }
   ],
   "source": [
    "measures.loc[measures['Prob'] == 0.3].round(2)"
   ]
  },
  {
   "cell_type": "markdown",
   "metadata": {},
   "source": [
    "#### Subatsk 3.2.4: Evaluation on Test data"
   ]
  },
  {
   "cell_type": "code",
   "execution_count": 175,
   "metadata": {},
   "outputs": [],
   "source": [
    "# Assigning X and Y\n",
    "Y_test = test_df['is_fraud']\n",
    "X_test = test_df.drop(['is_fraud', 'city_pops'], axis = 1)"
   ]
  },
  {
   "cell_type": "code",
   "execution_count": 176,
   "metadata": {},
   "outputs": [],
   "source": [
    "# Prediction and evaluation\n",
    "Y_test_pred = dt_model.predict_proba(X_test)\n",
    "Y_test_pred = pd.DataFrame(Y_test_pred)\n",
    "Y_test_pred = Y_test_pred[1]"
   ]
  },
  {
   "cell_type": "code",
   "execution_count": 177,
   "metadata": {},
   "outputs": [
    {
     "data": {
      "text/html": [
       "<div>\n",
       "<style scoped>\n",
       "    .dataframe tbody tr th:only-of-type {\n",
       "        vertical-align: middle;\n",
       "    }\n",
       "\n",
       "    .dataframe tbody tr th {\n",
       "        vertical-align: top;\n",
       "    }\n",
       "\n",
       "    .dataframe thead th {\n",
       "        text-align: right;\n",
       "    }\n",
       "</style>\n",
       "<table border=\"1\" class=\"dataframe\">\n",
       "  <thead>\n",
       "    <tr style=\"text-align: right;\">\n",
       "      <th></th>\n",
       "      <th>Actual</th>\n",
       "      <th>Pred</th>\n",
       "      <th>Final</th>\n",
       "    </tr>\n",
       "  </thead>\n",
       "  <tbody>\n",
       "    <tr>\n",
       "      <td>0</td>\n",
       "      <td>0</td>\n",
       "      <td>0.004809</td>\n",
       "      <td>0</td>\n",
       "    </tr>\n",
       "    <tr>\n",
       "      <td>1</td>\n",
       "      <td>0</td>\n",
       "      <td>0.000020</td>\n",
       "      <td>0</td>\n",
       "    </tr>\n",
       "    <tr>\n",
       "      <td>2</td>\n",
       "      <td>0</td>\n",
       "      <td>0.000000</td>\n",
       "      <td>0</td>\n",
       "    </tr>\n",
       "    <tr>\n",
       "      <td>3</td>\n",
       "      <td>0</td>\n",
       "      <td>0.033022</td>\n",
       "      <td>0</td>\n",
       "    </tr>\n",
       "    <tr>\n",
       "      <td>4</td>\n",
       "      <td>0</td>\n",
       "      <td>0.000986</td>\n",
       "      <td>0</td>\n",
       "    </tr>\n",
       "  </tbody>\n",
       "</table>\n",
       "</div>"
      ],
      "text/plain": [
       "   Actual      Pred  Final\n",
       "0       0  0.004809      0\n",
       "1       0  0.000020      0\n",
       "2       0  0.000000      0\n",
       "3       0  0.033022      0\n",
       "4       0  0.000986      0"
      ]
     },
     "execution_count": 177,
     "metadata": {},
     "output_type": "execute_result"
    }
   ],
   "source": [
    "# Test results\n",
    "DT = pd.DataFrame()\n",
    "DT['Actual'] = Y_test.values\n",
    "DT['Pred'] = Y_test_pred.values\n",
    "DT['Final'] = DT['Pred'].map(lambda x: 1 if x >= 0.3 else 0)\n",
    "DT.head()"
   ]
  },
  {
   "cell_type": "code",
   "execution_count": 178,
   "metadata": {},
   "outputs": [
    {
     "name": "stdout",
     "output_type": "stream",
     "text": [
      "Evaluation Metrics\n",
      "{'Accuracy': 0.93}\n",
      "{'Sensitivity': 0.88}\n",
      "{'Specificity': 0.93}\n",
      "{'FNR': 0.12}\n",
      "--------------------------------------------------\n",
      "Confusion Metrics\n",
      "[[516397  36249]\n",
      " [   248   1877]]\n"
     ]
    }
   ],
   "source": [
    "# evaluating on the test data\n",
    "evaluate(DT)"
   ]
  },
  {
   "cell_type": "markdown",
   "metadata": {},
   "source": [
    "**Decision Tree** model is performing good on the test data as well. All the evaluation metrics are within the permitable range. The model is performing well and is making correct predictions on the unseen test data. Decision Tree has out-performed Logestic Regression model by predicting the fraudulent transactions accurately."
   ]
  },
  {
   "cell_type": "markdown",
   "metadata": {},
   "source": [
    "### Subtask 3.3: Random Forest"
   ]
  },
  {
   "cell_type": "markdown",
   "metadata": {},
   "source": [
    "#### Subtask 3.3.1: Hyperparameter Tuning using CV"
   ]
  },
  {
   "cell_type": "code",
   "execution_count": 180,
   "metadata": {},
   "outputs": [
    {
     "name": "stdout",
     "output_type": "stream",
     "text": [
      "<class 'pandas.core.frame.DataFrame'>\n",
      "RangeIndex: 2575382 entries, 0 to 2575381\n",
      "Data columns (total 15 columns):\n",
      "amt               float64\n",
      "gender            float64\n",
      "zip               float64\n",
      "city_pop          float64\n",
      "unix_time         float64\n",
      "age               float64\n",
      "distance          float64\n",
      "hour_encoding     float64\n",
      "time_diff         float64\n",
      "fraud_merchant    float64\n",
      "gas_transport     float64\n",
      "grocery_pos       float64\n",
      "misc_net          float64\n",
      "shopping_net      float64\n",
      "shopping_pos      float64\n",
      "dtypes: float64(15)\n",
      "memory usage: 294.7 MB\n"
     ]
    }
   ],
   "source": [
    "# Checking X_train \n",
    "X_train.info()"
   ]
  },
  {
   "cell_type": "code",
   "execution_count": 182,
   "metadata": {},
   "outputs": [],
   "source": [
    "# Instantiating RandomForestClassifier\n",
    "rf = RandomForestClassifier(random_state = 42)"
   ]
  },
  {
   "cell_type": "code",
   "execution_count": 183,
   "metadata": {},
   "outputs": [],
   "source": [
    "# Selecting the parameters for Hyperparameter Tuning\n",
    "para = {'max_depth': [4,6,8], 'min_samples_leaf': [20,40,100], 'max_features': [3,4], \n",
    "        'n_estimators': [20,40,80]}"
   ]
  },
  {
   "cell_type": "code",
   "execution_count": 184,
   "metadata": {},
   "outputs": [],
   "source": [
    "# Initiating Grid Search\n",
    "grid_search = GridSearchCV(estimator= rf, param_grid= para, cv= 4, n_jobs= -1, verbose= 1, \n",
    "                           scoring = 'balanced_accuracy')"
   ]
  },
  {
   "cell_type": "code",
   "execution_count": 186,
   "metadata": {},
   "outputs": [
    {
     "name": "stdout",
     "output_type": "stream",
     "text": [
      "Wall time: 0 ns\n",
      "Fitting 4 folds for each of 54 candidates, totalling 216 fits\n"
     ]
    },
    {
     "name": "stderr",
     "output_type": "stream",
     "text": [
      "[Parallel(n_jobs=-1)]: Using backend LokyBackend with 8 concurrent workers.\n",
      "[Parallel(n_jobs=-1)]: Done  34 tasks      | elapsed: 52.4min\n",
      "[Parallel(n_jobs=-1)]: Done 184 tasks      | elapsed: 294.9min\n",
      "[Parallel(n_jobs=-1)]: Done 216 out of 216 | elapsed: 348.5min finished\n"
     ]
    },
    {
     "data": {
      "text/plain": [
       "GridSearchCV(cv=4, estimator=RandomForestClassifier(random_state=42), n_jobs=-1,\n",
       "             param_grid={'max_depth': [4, 6, 8], 'max_features': [3, 4],\n",
       "                         'min_samples_leaf': [20, 40, 100],\n",
       "                         'n_estimators': [20, 40, 80]},\n",
       "             scoring='balanced_accuracy', verbose=1)"
      ]
     },
     "execution_count": 186,
     "metadata": {},
     "output_type": "execute_result"
    }
   ],
   "source": [
    "# Finding the best Random Forest\n",
    "%time\n",
    "grid_search.fit(X_train, Y_train)"
   ]
  },
  {
   "cell_type": "code",
   "execution_count": 188,
   "metadata": {},
   "outputs": [
    {
     "name": "stdout",
     "output_type": "stream",
     "text": [
      "RandomForestClassifier(max_depth=8, max_features=4, min_samples_leaf=20,\n",
      "                       n_estimators=80, random_state=42)\n"
     ]
    }
   ],
   "source": [
    "print(grid_search.best_estimator_)"
   ]
  },
  {
   "cell_type": "markdown",
   "metadata": {},
   "source": [
    "**Explanation**: Hyperparameter tuning is vital for any tree models. It not only avoids overfitting but also evaluates the model with the given parameters and gives the best parameters for the tree. In the above example, After 216 fits the model has selected the best parameters which gives the balanced_accuracy score of 0.73."
   ]
  },
  {
   "cell_type": "markdown",
   "metadata": {},
   "source": [
    "#### Subtask 3.3.2: Evaluation of Random Forest"
   ]
  },
  {
   "cell_type": "code",
   "execution_count": 193,
   "metadata": {},
   "outputs": [],
   "source": [
    "# predicting using best Random Forest\n",
    "rf_model = grid_search.best_estimator_\n",
    "Y_train_pred = rf_model.predict_proba(X_train)\n",
    "Y_train_pred = pd.DataFrame(Y_train_pred)\n",
    "Y_train_pred = Y_train_pred[1]"
   ]
  },
  {
   "cell_type": "code",
   "execution_count": 195,
   "metadata": {},
   "outputs": [
    {
     "data": {
      "text/html": [
       "<div>\n",
       "<style scoped>\n",
       "    .dataframe tbody tr th:only-of-type {\n",
       "        vertical-align: middle;\n",
       "    }\n",
       "\n",
       "    .dataframe tbody tr th {\n",
       "        vertical-align: top;\n",
       "    }\n",
       "\n",
       "    .dataframe thead th {\n",
       "        text-align: right;\n",
       "    }\n",
       "</style>\n",
       "<table border=\"1\" class=\"dataframe\">\n",
       "  <thead>\n",
       "    <tr style=\"text-align: right;\">\n",
       "      <th></th>\n",
       "      <th>Actual</th>\n",
       "      <th>Pred</th>\n",
       "      <th>0.0</th>\n",
       "      <th>0.1</th>\n",
       "      <th>0.2</th>\n",
       "      <th>0.3</th>\n",
       "      <th>0.4</th>\n",
       "      <th>0.5</th>\n",
       "      <th>0.6</th>\n",
       "      <th>0.7</th>\n",
       "      <th>0.8</th>\n",
       "      <th>0.9</th>\n",
       "    </tr>\n",
       "  </thead>\n",
       "  <tbody>\n",
       "    <tr>\n",
       "      <td>0</td>\n",
       "      <td>0</td>\n",
       "      <td>0.253089</td>\n",
       "      <td>1</td>\n",
       "      <td>1</td>\n",
       "      <td>1</td>\n",
       "      <td>0</td>\n",
       "      <td>0</td>\n",
       "      <td>0</td>\n",
       "      <td>0</td>\n",
       "      <td>0</td>\n",
       "      <td>0</td>\n",
       "      <td>0</td>\n",
       "    </tr>\n",
       "    <tr>\n",
       "      <td>1</td>\n",
       "      <td>0</td>\n",
       "      <td>0.374332</td>\n",
       "      <td>1</td>\n",
       "      <td>1</td>\n",
       "      <td>1</td>\n",
       "      <td>1</td>\n",
       "      <td>0</td>\n",
       "      <td>0</td>\n",
       "      <td>0</td>\n",
       "      <td>0</td>\n",
       "      <td>0</td>\n",
       "      <td>0</td>\n",
       "    </tr>\n",
       "    <tr>\n",
       "      <td>2</td>\n",
       "      <td>0</td>\n",
       "      <td>0.239938</td>\n",
       "      <td>1</td>\n",
       "      <td>1</td>\n",
       "      <td>1</td>\n",
       "      <td>0</td>\n",
       "      <td>0</td>\n",
       "      <td>0</td>\n",
       "      <td>0</td>\n",
       "      <td>0</td>\n",
       "      <td>0</td>\n",
       "      <td>0</td>\n",
       "    </tr>\n",
       "    <tr>\n",
       "      <td>3</td>\n",
       "      <td>0</td>\n",
       "      <td>0.096680</td>\n",
       "      <td>1</td>\n",
       "      <td>0</td>\n",
       "      <td>0</td>\n",
       "      <td>0</td>\n",
       "      <td>0</td>\n",
       "      <td>0</td>\n",
       "      <td>0</td>\n",
       "      <td>0</td>\n",
       "      <td>0</td>\n",
       "      <td>0</td>\n",
       "    </tr>\n",
       "    <tr>\n",
       "      <td>4</td>\n",
       "      <td>0</td>\n",
       "      <td>0.247585</td>\n",
       "      <td>1</td>\n",
       "      <td>1</td>\n",
       "      <td>1</td>\n",
       "      <td>0</td>\n",
       "      <td>0</td>\n",
       "      <td>0</td>\n",
       "      <td>0</td>\n",
       "      <td>0</td>\n",
       "      <td>0</td>\n",
       "      <td>0</td>\n",
       "    </tr>\n",
       "  </tbody>\n",
       "</table>\n",
       "</div>"
      ],
      "text/plain": [
       "   Actual      Pred  0.0  0.1  0.2  0.3  0.4  0.5  0.6  0.7  0.8  0.9\n",
       "0       0  0.253089    1    1    1    0    0    0    0    0    0    0\n",
       "1       0  0.374332    1    1    1    1    0    0    0    0    0    0\n",
       "2       0  0.239938    1    1    1    0    0    0    0    0    0    0\n",
       "3       0  0.096680    1    0    0    0    0    0    0    0    0    0\n",
       "4       0  0.247585    1    1    1    0    0    0    0    0    0    0"
      ]
     },
     "execution_count": 195,
     "metadata": {},
     "output_type": "execute_result"
    }
   ],
   "source": [
    "# conversions at different probability scores\n",
    "cutoff = pd.DataFrame()\n",
    "cutoff['Actual'] = Y_train.values.flatten()\n",
    "cutoff['Pred'] = Y_train_pred.values\n",
    "num = [float(x/10) for x in range(10)]\n",
    "for x in num:\n",
    "  cutoff[x] = cutoff['Pred'].map(lambda i: 1 if i > x else 0)\n",
    "cutoff.head()"
   ]
  },
  {
   "cell_type": "code",
   "execution_count": 196,
   "metadata": {},
   "outputs": [],
   "source": [
    "# Calculating various measures\n",
    "measures = pd.DataFrame(columns = ['Prob', 'Accuracy', 'Sensitivity', 'FPR', 'Specificity', 'FNR'])\n",
    "for x in num: \n",
    "  metrix = metrics.confusion_matrix(cutoff['Actual'], cutoff[x])\n",
    "  total = sum(sum(metrix))\n",
    "  Accuracy = (metrix[0,0]+metrix[1,1])/total\n",
    "  Sensitivity = metrix[1,1]/(metrix[1,1]+metrix[1,0])\n",
    "  FPR = metrix[0,1]/(metrix[0,1]+metrix[0,0])\n",
    "  Specificity = metrix[0,0]/(metrix[0,0]+metrix[0,1])\n",
    "  FNR = metrix[1,0]/(metrix[1,0]+metrix[1,1])\n",
    "  measures.loc[x] = [x, Accuracy, Sensitivity, FPR, Specificity, FNR]"
   ]
  },
  {
   "cell_type": "code",
   "execution_count": 197,
   "metadata": {},
   "outputs": [
    {
     "data": {
      "text/html": [
       "<div>\n",
       "<style scoped>\n",
       "    .dataframe tbody tr th:only-of-type {\n",
       "        vertical-align: middle;\n",
       "    }\n",
       "\n",
       "    .dataframe tbody tr th {\n",
       "        vertical-align: top;\n",
       "    }\n",
       "\n",
       "    .dataframe thead th {\n",
       "        text-align: right;\n",
       "    }\n",
       "</style>\n",
       "<table border=\"1\" class=\"dataframe\">\n",
       "  <thead>\n",
       "    <tr style=\"text-align: right;\">\n",
       "      <th></th>\n",
       "      <th>Prob</th>\n",
       "      <th>Accuracy</th>\n",
       "      <th>Sensitivity</th>\n",
       "      <th>FPR</th>\n",
       "      <th>Specificity</th>\n",
       "      <th>FNR</th>\n",
       "    </tr>\n",
       "  </thead>\n",
       "  <tbody>\n",
       "    <tr>\n",
       "      <td>0.0</td>\n",
       "      <td>0.0</td>\n",
       "      <td>0.500000</td>\n",
       "      <td>1.000000</td>\n",
       "      <td>1.000000</td>\n",
       "      <td>0.000000</td>\n",
       "      <td>0.000000</td>\n",
       "    </tr>\n",
       "    <tr>\n",
       "      <td>0.1</td>\n",
       "      <td>0.1</td>\n",
       "      <td>0.852756</td>\n",
       "      <td>0.998262</td>\n",
       "      <td>0.292750</td>\n",
       "      <td>0.707250</td>\n",
       "      <td>0.001738</td>\n",
       "    </tr>\n",
       "    <tr>\n",
       "      <td>0.2</td>\n",
       "      <td>0.2</td>\n",
       "      <td>0.943448</td>\n",
       "      <td>0.995555</td>\n",
       "      <td>0.108658</td>\n",
       "      <td>0.891342</td>\n",
       "      <td>0.004445</td>\n",
       "    </tr>\n",
       "    <tr>\n",
       "      <td>0.3</td>\n",
       "      <td>0.3</td>\n",
       "      <td>0.974382</td>\n",
       "      <td>0.984905</td>\n",
       "      <td>0.036140</td>\n",
       "      <td>0.963860</td>\n",
       "      <td>0.015095</td>\n",
       "    </tr>\n",
       "    <tr>\n",
       "      <td>0.4</td>\n",
       "      <td>0.4</td>\n",
       "      <td>0.978290</td>\n",
       "      <td>0.976948</td>\n",
       "      <td>0.020367</td>\n",
       "      <td>0.979633</td>\n",
       "      <td>0.023052</td>\n",
       "    </tr>\n",
       "    <tr>\n",
       "      <td>0.5</td>\n",
       "      <td>0.5</td>\n",
       "      <td>0.974963</td>\n",
       "      <td>0.960712</td>\n",
       "      <td>0.010787</td>\n",
       "      <td>0.989213</td>\n",
       "      <td>0.039288</td>\n",
       "    </tr>\n",
       "    <tr>\n",
       "      <td>0.6</td>\n",
       "      <td>0.6</td>\n",
       "      <td>0.969965</td>\n",
       "      <td>0.946043</td>\n",
       "      <td>0.006112</td>\n",
       "      <td>0.993888</td>\n",
       "      <td>0.053957</td>\n",
       "    </tr>\n",
       "    <tr>\n",
       "      <td>0.7</td>\n",
       "      <td>0.7</td>\n",
       "      <td>0.963165</td>\n",
       "      <td>0.929672</td>\n",
       "      <td>0.003341</td>\n",
       "      <td>0.996659</td>\n",
       "      <td>0.070328</td>\n",
       "    </tr>\n",
       "    <tr>\n",
       "      <td>0.8</td>\n",
       "      <td>0.8</td>\n",
       "      <td>0.946973</td>\n",
       "      <td>0.895319</td>\n",
       "      <td>0.001374</td>\n",
       "      <td>0.998626</td>\n",
       "      <td>0.104681</td>\n",
       "    </tr>\n",
       "    <tr>\n",
       "      <td>0.9</td>\n",
       "      <td>0.9</td>\n",
       "      <td>0.913004</td>\n",
       "      <td>0.826518</td>\n",
       "      <td>0.000511</td>\n",
       "      <td>0.999489</td>\n",
       "      <td>0.173482</td>\n",
       "    </tr>\n",
       "  </tbody>\n",
       "</table>\n",
       "</div>"
      ],
      "text/plain": [
       "     Prob  Accuracy  Sensitivity       FPR  Specificity       FNR\n",
       "0.0   0.0  0.500000     1.000000  1.000000     0.000000  0.000000\n",
       "0.1   0.1  0.852756     0.998262  0.292750     0.707250  0.001738\n",
       "0.2   0.2  0.943448     0.995555  0.108658     0.891342  0.004445\n",
       "0.3   0.3  0.974382     0.984905  0.036140     0.963860  0.015095\n",
       "0.4   0.4  0.978290     0.976948  0.020367     0.979633  0.023052\n",
       "0.5   0.5  0.974963     0.960712  0.010787     0.989213  0.039288\n",
       "0.6   0.6  0.969965     0.946043  0.006112     0.993888  0.053957\n",
       "0.7   0.7  0.963165     0.929672  0.003341     0.996659  0.070328\n",
       "0.8   0.8  0.946973     0.895319  0.001374     0.998626  0.104681\n",
       "0.9   0.9  0.913004     0.826518  0.000511     0.999489  0.173482"
      ]
     },
     "execution_count": 197,
     "metadata": {},
     "output_type": "execute_result"
    }
   ],
   "source": [
    "measures"
   ]
  },
  {
   "cell_type": "code",
   "execution_count": 198,
   "metadata": {},
   "outputs": [
    {
     "data": {
      "text/plain": [
       "<Figure size 576x360 with 0 Axes>"
      ]
     },
     "metadata": {},
     "output_type": "display_data"
    },
    {
     "data": {
      "image/png": "[encoded data removed]",
      "text/plain": [
       "<Figure size 432x288 with 1 Axes>"
      ]
     },
     "metadata": {
      "needs_background": "dark"
     },
     "output_type": "display_data"
    }
   ],
   "source": [
    "# Finding the Optimal Threshold Point\n",
    "plt.figure(figsize = (8, 5))\n",
    "measures.plot.line(x = 'Prob', y = ['Accuracy', 'Sensitivity', 'Specificity'])\n",
    "plt.show()"
   ]
  },
  {
   "cell_type": "code",
   "execution_count": 199,
   "metadata": {},
   "outputs": [
    {
     "data": {
      "image/png": "[encoded data removed]",
      "text/plain": [
       "<Figure size 432x288 with 1 Axes>"
      ]
     },
     "metadata": {
      "needs_background": "dark"
     },
     "output_type": "display_data"
    }
   ],
   "source": [
    "# ROC curve\n",
    "FPR, TPR, threshold = metrics.roc_curve(cutoff['Actual'], cutoff['Pred'], drop_intermediate = False)\n",
    "roc(cutoff['Actual'], cutoff['Pred'])"
   ]
  },
  {
   "cell_type": "markdown",
   "metadata": {},
   "source": [
    "**Explanation**: The model has achieved the ROC score of 1.00 which is the highest and also from the above graph we can observe that the curve is hugging the TPR. This means that the model is able to identify fraudulent transactions correctly by reducing the FPR."
   ]
  },
  {
   "cell_type": "markdown",
   "metadata": {},
   "source": [
    "**Explanation**: Even though the optimal threshold limit was identified at 0.4 we cannot go ahead with this cut off point as the model was able to reach the accuracy and sensitivity of 97% and 97% respectively. According to the problem statement, we need to correctly identify fraudulent transactions inorder to reduce the loss from frauds. Hence factors like accuracy, sensitivity and FNR plays atmost importance. Keeping all this factors into consideration, the cut off limit is set at 0.3 at which the model is able to produce the best results by focusing more on sensitivity."
   ]
  },
  {
   "cell_type": "code",
   "execution_count": 200,
   "metadata": {},
   "outputs": [
    {
     "data": {
      "text/html": [
       "<div>\n",
       "<style scoped>\n",
       "    .dataframe tbody tr th:only-of-type {\n",
       "        vertical-align: middle;\n",
       "    }\n",
       "\n",
       "    .dataframe tbody tr th {\n",
       "        vertical-align: top;\n",
       "    }\n",
       "\n",
       "    .dataframe thead th {\n",
       "        text-align: right;\n",
       "    }\n",
       "</style>\n",
       "<table border=\"1\" class=\"dataframe\">\n",
       "  <thead>\n",
       "    <tr style=\"text-align: right;\">\n",
       "      <th></th>\n",
       "      <th>Prob</th>\n",
       "      <th>Accuracy</th>\n",
       "      <th>Sensitivity</th>\n",
       "      <th>FPR</th>\n",
       "      <th>Specificity</th>\n",
       "      <th>FNR</th>\n",
       "    </tr>\n",
       "  </thead>\n",
       "  <tbody>\n",
       "    <tr>\n",
       "      <td>0.3</td>\n",
       "      <td>0.3</td>\n",
       "      <td>0.97</td>\n",
       "      <td>0.98</td>\n",
       "      <td>0.04</td>\n",
       "      <td>0.96</td>\n",
       "      <td>0.02</td>\n",
       "    </tr>\n",
       "  </tbody>\n",
       "</table>\n",
       "</div>"
      ],
      "text/plain": [
       "     Prob  Accuracy  Sensitivity   FPR  Specificity   FNR\n",
       "0.3   0.3      0.97         0.98  0.04         0.96  0.02"
      ]
     },
     "execution_count": 200,
     "metadata": {},
     "output_type": "execute_result"
    }
   ],
   "source": [
    "measures.loc[measures['Prob'] == 0.3].round(2)"
   ]
  },
  {
   "cell_type": "markdown",
   "metadata": {},
   "source": [
    "#### Subtask 3.3.3: Evaluation on Test data"
   ]
  },
  {
   "cell_type": "code",
   "execution_count": 201,
   "metadata": {},
   "outputs": [],
   "source": [
    "# Assigning X and Y\n",
    "Y_test = test_df['is_fraud']\n",
    "X_test = test_df.drop(['is_fraud', 'city_pops'], axis = 1)"
   ]
  },
  {
   "cell_type": "code",
   "execution_count": 202,
   "metadata": {},
   "outputs": [],
   "source": [
    "# Prediction and evaluation\n",
    "Y_test_pred = rf_model.predict_proba(X_test)\n",
    "Y_test_pred = pd.DataFrame(Y_test_pred)\n",
    "Y_test_pred = Y_test_pred[1]"
   ]
  },
  {
   "cell_type": "code",
   "execution_count": 207,
   "metadata": {},
   "outputs": [
    {
     "data": {
      "text/html": [
       "<div>\n",
       "<style scoped>\n",
       "    .dataframe tbody tr th:only-of-type {\n",
       "        vertical-align: middle;\n",
       "    }\n",
       "\n",
       "    .dataframe tbody tr th {\n",
       "        vertical-align: top;\n",
       "    }\n",
       "\n",
       "    .dataframe thead th {\n",
       "        text-align: right;\n",
       "    }\n",
       "</style>\n",
       "<table border=\"1\" class=\"dataframe\">\n",
       "  <thead>\n",
       "    <tr style=\"text-align: right;\">\n",
       "      <th></th>\n",
       "      <th>Actual</th>\n",
       "      <th>Pred</th>\n",
       "      <th>Final</th>\n",
       "    </tr>\n",
       "  </thead>\n",
       "  <tbody>\n",
       "    <tr>\n",
       "      <td>0</td>\n",
       "      <td>0</td>\n",
       "      <td>0.006107</td>\n",
       "      <td>0</td>\n",
       "    </tr>\n",
       "    <tr>\n",
       "      <td>1</td>\n",
       "      <td>0</td>\n",
       "      <td>0.006241</td>\n",
       "      <td>0</td>\n",
       "    </tr>\n",
       "    <tr>\n",
       "      <td>2</td>\n",
       "      <td>0</td>\n",
       "      <td>0.019457</td>\n",
       "      <td>0</td>\n",
       "    </tr>\n",
       "    <tr>\n",
       "      <td>3</td>\n",
       "      <td>0</td>\n",
       "      <td>0.005163</td>\n",
       "      <td>0</td>\n",
       "    </tr>\n",
       "    <tr>\n",
       "      <td>4</td>\n",
       "      <td>0</td>\n",
       "      <td>0.012762</td>\n",
       "      <td>0</td>\n",
       "    </tr>\n",
       "  </tbody>\n",
       "</table>\n",
       "</div>"
      ],
      "text/plain": [
       "   Actual      Pred  Final\n",
       "0       0  0.006107      0\n",
       "1       0  0.006241      0\n",
       "2       0  0.019457      0\n",
       "3       0  0.005163      0\n",
       "4       0  0.012762      0"
      ]
     },
     "execution_count": 207,
     "metadata": {},
     "output_type": "execute_result"
    }
   ],
   "source": [
    "# Test results\n",
    "RF = pd.DataFrame()\n",
    "RF['Actual'] = Y_test.values\n",
    "RF['Pred'] = Y_test_pred.values\n",
    "RF['Final'] = RF['Pred'].map(lambda x: 1 if x >= 0.3 else 0)\n",
    "RF.head()"
   ]
  },
  {
   "cell_type": "code",
   "execution_count": 208,
   "metadata": {},
   "outputs": [
    {
     "name": "stdout",
     "output_type": "stream",
     "text": [
      "Evaluation Metrics\n",
      "{'Accuracy': 0.96}\n",
      "{'Sensitivity': 0.86}\n",
      "{'Specificity': 0.96}\n",
      "{'FNR': 0.14}\n",
      "--------------------------------------------------\n",
      "Confusion Metrics\n",
      "[[531548  21098]\n",
      " [   287   1838]]\n"
     ]
    }
   ],
   "source": [
    "# evaluating on the test data\n",
    "evaluate(RF)"
   ]
  },
  {
   "cell_type": "markdown",
   "metadata": {},
   "source": [
    "**Random Forest** model is performing good on the test data as well. All the evaluation metrics are within the permitable range. The model is performing well and is making correct predictions on the unseen test data. Random Forest has out-performed Logestic Regression but has failed to compete with Decision Tree in terms of sensitivity. However this can be further tunied in hyperparameter tuning by introducing more parameters for the model but unable do so, due to time complexity and system specs."
   ]
  },
  {
   "cell_type": "markdown",
   "metadata": {},
   "source": [
    "## Task 4: Model Selection"
   ]
  },
  {
   "cell_type": "markdown",
   "metadata": {},
   "source": [
    "### Subtask 4.1: Comparing the models"
   ]
  },
  {
   "cell_type": "code",
   "execution_count": 209,
   "metadata": {},
   "outputs": [
    {
     "name": "stdout",
     "output_type": "stream",
     "text": [
      "Evaluation Metrics\n",
      "{'Accuracy': 0.83}\n",
      "{'Sensitivity': 0.83}\n",
      "{'Specificity': 0.83}\n",
      "{'FNR': 0.17}\n",
      "--------------------------------------------------\n",
      "Confusion Metrics\n",
      "[[460899  91095]\n",
      " [   367   1758]]\n"
     ]
    }
   ],
   "source": [
    "# Logestic Regression\n",
    "evaluate(LR)"
   ]
  },
  {
   "cell_type": "code",
   "execution_count": 210,
   "metadata": {},
   "outputs": [
    {
     "name": "stdout",
     "output_type": "stream",
     "text": [
      "Evaluation Metrics\n",
      "{'Accuracy': 0.93}\n",
      "{'Sensitivity': 0.88}\n",
      "{'Specificity': 0.93}\n",
      "{'FNR': 0.12}\n",
      "--------------------------------------------------\n",
      "Confusion Metrics\n",
      "[[516397  36249]\n",
      " [   248   1877]]\n"
     ]
    }
   ],
   "source": [
    "# Decision Tree\n",
    "evaluate(DT)"
   ]
  },
  {
   "cell_type": "code",
   "execution_count": 211,
   "metadata": {},
   "outputs": [
    {
     "name": "stdout",
     "output_type": "stream",
     "text": [
      "Evaluation Metrics\n",
      "{'Accuracy': 0.96}\n",
      "{'Sensitivity': 0.86}\n",
      "{'Specificity': 0.96}\n",
      "{'FNR': 0.14}\n",
      "--------------------------------------------------\n",
      "Confusion Metrics\n",
      "[[531548  21098]\n",
      " [   287   1838]]\n"
     ]
    }
   ],
   "source": [
    "# Random Forest\n",
    "evaluate(RF)"
   ]
  },
  {
   "cell_type": "markdown",
   "metadata": {},
   "source": [
    "**Explanation**: All the models have performed significantly well on the training data, but when it comes to selecting the best model it all depends on the business problem. As per the business problem we need to correctly identify fraudulent transactions, which means sensitivty of the model should be high along with other evaluation metrics. \n",
    "1. Both Decision Tree and Random Forest models have outperformed Logestic Regression model with the above scores and also their AUC score is 1.00 which is the highest. \n",
    "2. Their is a tie between both the tree model as Decision Tree has high sensitivity and Random Forest has high specificity and Accuracy. Hence to decide the best model we need to performe Cost-Benefit Analysis. "
   ]
  },
  {
   "cell_type": "markdown",
   "metadata": {},
   "source": [
    "### Subtask 4.2: Cost-Benefit Analysis"
   ]
  },
  {
   "cell_type": "code",
   "execution_count": 62,
   "metadata": {},
   "outputs": [],
   "source": [
    "cost = pd.read_csv('C:/demo/Credit_Card_Fraud/fraudTest.csv')"
   ]
  },
  {
   "cell_type": "code",
   "execution_count": 63,
   "metadata": {},
   "outputs": [
    {
     "name": "stdout",
     "output_type": "stream",
     "text": [
      "<class 'pandas.core.frame.DataFrame'>\n",
      "RangeIndex: 555719 entries, 0 to 555718\n",
      "Data columns (total 23 columns):\n",
      "Unnamed: 0               555719 non-null int64\n",
      "trans_date_trans_time    555719 non-null object\n",
      "cc_num                   555719 non-null int64\n",
      "merchant                 555719 non-null object\n",
      "category                 555719 non-null object\n",
      "amt                      555719 non-null float64\n",
      "first                    555719 non-null object\n",
      "last                     555719 non-null object\n",
      "gender                   555719 non-null object\n",
      "street                   555719 non-null object\n",
      "city                     555719 non-null object\n",
      "state                    555719 non-null object\n",
      "zip                      555719 non-null int64\n",
      "lat                      555719 non-null float64\n",
      "long                     555719 non-null float64\n",
      "city_pop                 555719 non-null int64\n",
      "job                      555719 non-null object\n",
      "dob                      555719 non-null object\n",
      "trans_num                555719 non-null object\n",
      "unix_time                555719 non-null int64\n",
      "merch_lat                555719 non-null float64\n",
      "merch_long               555719 non-null float64\n",
      "is_fraud                 555719 non-null int64\n",
      "dtypes: float64(5), int64(6), object(12)\n",
      "memory usage: 97.5+ MB\n"
     ]
    }
   ],
   "source": [
    "cost.info()"
   ]
  },
  {
   "cell_type": "markdown",
   "metadata": {},
   "source": [
    "**Explanation**: calculating the cost benefit on the test data, which has the tranactions recorded for the year 2020."
   ]
  },
  {
   "cell_type": "markdown",
   "metadata": {},
   "source": [
    "**Strategy Plan**: The bank plans to provide a second layer of authentication for each of the transactions that the model predicts as fraudulent. If a payment gets flagged by the model, an SMS will be sent to the customer requesting them to call on a toll-free number to confirm the authenticity of the transaction. A customer experience executive will also be made available to respond to any queries if necessary. Developing this service would cost the bank $1.5 per fraudulent transaction."
   ]
  },
  {
   "cell_type": "markdown",
   "metadata": {},
   "source": [
    "#### Subtask 4.2.1: Cost incurred before ML"
   ]
  },
  {
   "cell_type": "code",
   "execution_count": 65,
   "metadata": {},
   "outputs": [
    {
     "name": "stdout",
     "output_type": "stream",
     "text": [
      "79388\n"
     ]
    }
   ],
   "source": [
    "# Average number of transactions per month\n",
    "print(round(len(cost.index)/7))"
   ]
  },
  {
   "cell_type": "code",
   "execution_count": 66,
   "metadata": {},
   "outputs": [
    {
     "name": "stdout",
     "output_type": "stream",
     "text": [
      "306\n"
     ]
    }
   ],
   "source": [
    "# Average number of fraudulent transactions per month\n",
    "print(round(len(cost.loc[cost['is_fraud'] == 1])/7))"
   ]
  },
  {
   "cell_type": "code",
   "execution_count": 67,
   "metadata": {},
   "outputs": [
    {
     "data": {
      "text/plain": [
       "2145"
      ]
     },
     "execution_count": 67,
     "metadata": {},
     "output_type": "execute_result"
    }
   ],
   "source": [
    "# Total no of fraudulent transactions\n",
    "len(cost.loc[cost['is_fraud'] == 1])"
   ]
  },
  {
   "cell_type": "code",
   "execution_count": 68,
   "metadata": {},
   "outputs": [
    {
     "data": {
      "text/plain": [
       "1133325.0"
      ]
     },
     "execution_count": 68,
     "metadata": {},
     "output_type": "execute_result"
    }
   ],
   "source": [
    "# Total loss from fraudulent transactions\n",
    "cost.loc[cost['is_fraud'] == 1]['amt'].sum().round()"
   ]
  },
  {
   "cell_type": "code",
   "execution_count": 69,
   "metadata": {},
   "outputs": [
    {
     "name": "stdout",
     "output_type": "stream",
     "text": [
      "528.0\n"
     ]
    }
   ],
   "source": [
    "# Average amount per fraud transactions\n",
    "print((cost.loc[cost['is_fraud'] == 1]['amt'].sum()//len(cost.loc[cost['is_fraud'] == 1])))"
   ]
  },
  {
   "cell_type": "code",
   "execution_count": 70,
   "metadata": {},
   "outputs": [
    {
     "name": "stdout",
     "output_type": "stream",
     "text": [
      "161568\n"
     ]
    }
   ],
   "source": [
    "# Cost incurred per month before the model was deployed\n",
    "Before_cost = (528*306)\n",
    "print(Before_cost)"
   ]
  },
  {
   "cell_type": "markdown",
   "metadata": {},
   "source": [
    "#### Subtask 4.2.2: Decision Tree"
   ]
  },
  {
   "cell_type": "code",
   "execution_count": 71,
   "metadata": {},
   "outputs": [
    {
     "name": "stdout",
     "output_type": "stream",
     "text": [
      "7055\n"
     ]
    }
   ],
   "source": [
    "# Average number of transactions per month detected as fraudulent by the model (TF)\n",
    "# TF = True Positive + False Positive / 7\n",
    "TF = 1877 + 36249 //7\n",
    "print(TF)"
   ]
  },
  {
   "cell_type": "code",
   "execution_count": 72,
   "metadata": {},
   "outputs": [
    {
     "name": "stdout",
     "output_type": "stream",
     "text": [
      "10582.5\n"
     ]
    }
   ],
   "source": [
    "# Total cost of providing customer support per month for fraudulent transactions detected by the model \n",
    "# (TF*$1.5)\n",
    "Tansaction_cost = (TF*1.5)\n",
    "print(Tansaction_cost)"
   ]
  },
  {
   "cell_type": "code",
   "execution_count": 73,
   "metadata": {},
   "outputs": [
    {
     "name": "stdout",
     "output_type": "stream",
     "text": [
      "35\n"
     ]
    }
   ],
   "source": [
    "# Average number of transactions per month that are fraudulent but not detected by the model (FN)\n",
    "# FN = False Negative / 7\n",
    "FN = (248 / 7)\n",
    "print(round(FN))"
   ]
  },
  {
   "cell_type": "code",
   "execution_count": 76,
   "metadata": {},
   "outputs": [
    {
     "name": "stdout",
     "output_type": "stream",
     "text": [
      "18706\n"
     ]
    }
   ],
   "source": [
    "# Cost incurred due to fraudulent transactions left undetected by the model (FN*cost per fraudulent trans)\n",
    "Fraud_cost = (FN * 528)\n",
    "Fraud_cost = round(Fraud_cost)\n",
    "print(Fraud_cost)"
   ]
  },
  {
   "cell_type": "code",
   "execution_count": 77,
   "metadata": {},
   "outputs": [
    {
     "name": "stdout",
     "output_type": "stream",
     "text": [
      "29288.5\n"
     ]
    }
   ],
   "source": [
    "# Cost incurred per month after the model is built and deployed.\n",
    "After_cost = Tansaction_cost + Fraud_cost\n",
    "print(After_cost)"
   ]
  },
  {
   "cell_type": "code",
   "execution_count": 78,
   "metadata": {},
   "outputs": [
    {
     "name": "stdout",
     "output_type": "stream",
     "text": [
      "132279.5\n"
     ]
    }
   ],
   "source": [
    "# Final savings = Cost incurred before - Cost incurred after\n",
    "Final_savings = (Before_cost - After_cost)\n",
    "print(Final_savings)"
   ]
  },
  {
   "cell_type": "markdown",
   "metadata": {},
   "source": [
    "**Explanation**: Using Decision Tree model the bank can save up to $1,32,280 per month."
   ]
  },
  {
   "cell_type": "markdown",
   "metadata": {},
   "source": [
    "#### Subtask 4.2.3: Random Forest"
   ]
  },
  {
   "cell_type": "code",
   "execution_count": 79,
   "metadata": {},
   "outputs": [
    {
     "name": "stdout",
     "output_type": "stream",
     "text": [
      "4852\n"
     ]
    }
   ],
   "source": [
    "# Average number of transactions per month detected as fraudulent by the model (TF)\n",
    "# TF = True Positive + False Positive / 7\n",
    "TF = 1838 + 21098 //7\n",
    "print(TF)"
   ]
  },
  {
   "cell_type": "code",
   "execution_count": 80,
   "metadata": {},
   "outputs": [
    {
     "name": "stdout",
     "output_type": "stream",
     "text": [
      "7278.0\n"
     ]
    }
   ],
   "source": [
    "# Total cost of providing customer support per month for fraudulent transactions detected by the model \n",
    "# (TF*$1.5)\n",
    "Tansaction_cost = (TF*1.5)\n",
    "print(Tansaction_cost)"
   ]
  },
  {
   "cell_type": "code",
   "execution_count": 81,
   "metadata": {},
   "outputs": [
    {
     "name": "stdout",
     "output_type": "stream",
     "text": [
      "41\n"
     ]
    }
   ],
   "source": [
    "# Average number of transactions per month that are fraudulent but not detected by the model (FN)\n",
    "# FN = False Negative / 7\n",
    "FN = (287 / 7)\n",
    "FN = round(FN)\n",
    "print(FN)"
   ]
  },
  {
   "cell_type": "code",
   "execution_count": 82,
   "metadata": {},
   "outputs": [
    {
     "name": "stdout",
     "output_type": "stream",
     "text": [
      "21648\n"
     ]
    }
   ],
   "source": [
    "# Cost incurred due to fraudulent transactions left undetected by the model (FN*cost per fraudulent trans)\n",
    "Fraud_cost = (FN * 528)\n",
    "print(Fraud_cost)"
   ]
  },
  {
   "cell_type": "code",
   "execution_count": 83,
   "metadata": {},
   "outputs": [
    {
     "name": "stdout",
     "output_type": "stream",
     "text": [
      "28926.0\n"
     ]
    }
   ],
   "source": [
    "# Cost incurred per month after the model is built and deployed.\n",
    "After_cost = Tansaction_cost + Fraud_cost\n",
    "print(After_cost)"
   ]
  },
  {
   "cell_type": "code",
   "execution_count": 84,
   "metadata": {},
   "outputs": [
    {
     "name": "stdout",
     "output_type": "stream",
     "text": [
      "132642.0\n"
     ]
    }
   ],
   "source": [
    "# Final savings = Cost incurred before - Cost incurred after\n",
    "Final_savings = (Before_cost - After_cost)\n",
    "print(Final_savings)"
   ]
  },
  {
   "cell_type": "markdown",
   "metadata": {},
   "source": [
    "**Explanation**: Using Random Forest model the bank can save up to $1,32,642 per month. Hence based on the Cost-Benefit Analysis, random forest model is more effecient compared to decision tree model. Summing up the entire analysis, random forest model is the best model to identify fraudulent transactions and is the most cost effecient model for Finex."
   ]
  },
  {
   "cell_type": "code",
   "execution_count": null,
   "metadata": {},
   "outputs": [],
   "source": []
  }
 ],
 "metadata": {
  "colab": {
   "collapsed_sections": [],
   "name": "Credit_Card_Fraud.ipynb",
   "provenance": [],
   "toc_visible": true
  },
  "kernelspec": {
   "display_name": "Python 3",
   "language": "python",
   "name": "python3"
  },
  "language_info": {
   "codemirror_mode": {
    "name": "ipython",
    "version": 3
   },
   "file_extension": ".py",
   "mimetype": "text/x-python",
   "name": "python",
   "nbconvert_exporter": "python",
   "pygments_lexer": "ipython3",
   "version": "3.7.4"
  }
 },
 "nbformat": 4,
 "nbformat_minor": 1
}
